{
 "cells": [
  {
   "cell_type": "markdown",
   "metadata": {},
   "source": [
    "## matala 1 -\n",
    "## matala 2 - \n",
    "## matal 3 - \n",
    "## matala 4- \n",
    "## matala 5 -\n",
    "## final project (1) -\n",
    "## final project (2) -\n",
    "# מה ישלך הכל טוב תעשה קונטרול אף :)"
   ]
  },
  {
   "cell_type": "markdown",
   "metadata": {},
   "source": [
    "# matala 1"
   ]
  },
  {
   "cell_type": "code",
   "execution_count": 1,
   "metadata": {},
   "outputs": [],
   "source": [
    "import pandas as pd \n",
    "import statistics \n",
    "import numpy as np"
   ]
  },
  {
   "cell_type": "markdown",
   "metadata": {},
   "source": [
    "$Section A'$"
   ]
  },
  {
   "cell_type": "code",
   "execution_count": 2,
   "metadata": {},
   "outputs": [
    {
     "data": {
      "text/html": [
       "<div>\n",
       "<style scoped>\n",
       "    .dataframe tbody tr th:only-of-type {\n",
       "        vertical-align: middle;\n",
       "    }\n",
       "\n",
       "    .dataframe tbody tr th {\n",
       "        vertical-align: top;\n",
       "    }\n",
       "\n",
       "    .dataframe thead th {\n",
       "        text-align: right;\n",
       "    }\n",
       "</style>\n",
       "<table border=\"1\" class=\"dataframe\">\n",
       "  <thead>\n",
       "    <tr style=\"text-align: right;\">\n",
       "      <th></th>\n",
       "      <th>location</th>\n",
       "      <th>iso_code</th>\n",
       "      <th>date</th>\n",
       "      <th>total_vaccinations</th>\n",
       "      <th>people_vaccinated</th>\n",
       "      <th>people_fully_vaccinated</th>\n",
       "      <th>daily_vaccinations_raw</th>\n",
       "      <th>daily_vaccinations</th>\n",
       "      <th>total_vaccinations_per_hundred</th>\n",
       "      <th>people_vaccinated_per_hundred</th>\n",
       "      <th>people_fully_vaccinated_per_hundred</th>\n",
       "      <th>daily_vaccinations_per_million</th>\n",
       "    </tr>\n",
       "  </thead>\n",
       "  <tbody>\n",
       "    <tr>\n",
       "      <th>0</th>\n",
       "      <td>Afghanistan</td>\n",
       "      <td>AFG</td>\n",
       "      <td>2021-02-22</td>\n",
       "      <td>0.0</td>\n",
       "      <td>0.0</td>\n",
       "      <td>NaN</td>\n",
       "      <td>NaN</td>\n",
       "      <td>NaN</td>\n",
       "      <td>0.0</td>\n",
       "      <td>0.0</td>\n",
       "      <td>NaN</td>\n",
       "      <td>NaN</td>\n",
       "    </tr>\n",
       "    <tr>\n",
       "      <th>1</th>\n",
       "      <td>Afghanistan</td>\n",
       "      <td>AFG</td>\n",
       "      <td>2021-02-23</td>\n",
       "      <td>NaN</td>\n",
       "      <td>NaN</td>\n",
       "      <td>NaN</td>\n",
       "      <td>NaN</td>\n",
       "      <td>1367.0</td>\n",
       "      <td>NaN</td>\n",
       "      <td>NaN</td>\n",
       "      <td>NaN</td>\n",
       "      <td>35.0</td>\n",
       "    </tr>\n",
       "    <tr>\n",
       "      <th>2</th>\n",
       "      <td>Afghanistan</td>\n",
       "      <td>AFG</td>\n",
       "      <td>2021-02-24</td>\n",
       "      <td>NaN</td>\n",
       "      <td>NaN</td>\n",
       "      <td>NaN</td>\n",
       "      <td>NaN</td>\n",
       "      <td>1367.0</td>\n",
       "      <td>NaN</td>\n",
       "      <td>NaN</td>\n",
       "      <td>NaN</td>\n",
       "      <td>35.0</td>\n",
       "    </tr>\n",
       "    <tr>\n",
       "      <th>3</th>\n",
       "      <td>Afghanistan</td>\n",
       "      <td>AFG</td>\n",
       "      <td>2021-02-25</td>\n",
       "      <td>NaN</td>\n",
       "      <td>NaN</td>\n",
       "      <td>NaN</td>\n",
       "      <td>NaN</td>\n",
       "      <td>1367.0</td>\n",
       "      <td>NaN</td>\n",
       "      <td>NaN</td>\n",
       "      <td>NaN</td>\n",
       "      <td>35.0</td>\n",
       "    </tr>\n",
       "    <tr>\n",
       "      <th>4</th>\n",
       "      <td>Afghanistan</td>\n",
       "      <td>AFG</td>\n",
       "      <td>2021-02-26</td>\n",
       "      <td>NaN</td>\n",
       "      <td>NaN</td>\n",
       "      <td>NaN</td>\n",
       "      <td>NaN</td>\n",
       "      <td>1367.0</td>\n",
       "      <td>NaN</td>\n",
       "      <td>NaN</td>\n",
       "      <td>NaN</td>\n",
       "      <td>35.0</td>\n",
       "    </tr>\n",
       "  </tbody>\n",
       "</table>\n",
       "</div>"
      ],
      "text/plain": [
       "      location iso_code        date  total_vaccinations  people_vaccinated  \\\n",
       "0  Afghanistan      AFG  2021-02-22                 0.0                0.0   \n",
       "1  Afghanistan      AFG  2021-02-23                 NaN                NaN   \n",
       "2  Afghanistan      AFG  2021-02-24                 NaN                NaN   \n",
       "3  Afghanistan      AFG  2021-02-25                 NaN                NaN   \n",
       "4  Afghanistan      AFG  2021-02-26                 NaN                NaN   \n",
       "\n",
       "   people_fully_vaccinated  daily_vaccinations_raw  daily_vaccinations  \\\n",
       "0                      NaN                     NaN                 NaN   \n",
       "1                      NaN                     NaN              1367.0   \n",
       "2                      NaN                     NaN              1367.0   \n",
       "3                      NaN                     NaN              1367.0   \n",
       "4                      NaN                     NaN              1367.0   \n",
       "\n",
       "   total_vaccinations_per_hundred  people_vaccinated_per_hundred  \\\n",
       "0                             0.0                            0.0   \n",
       "1                             NaN                            NaN   \n",
       "2                             NaN                            NaN   \n",
       "3                             NaN                            NaN   \n",
       "4                             NaN                            NaN   \n",
       "\n",
       "   people_fully_vaccinated_per_hundred  daily_vaccinations_per_million  \n",
       "0                                  NaN                             NaN  \n",
       "1                                  NaN                            35.0  \n",
       "2                                  NaN                            35.0  \n",
       "3                                  NaN                            35.0  \n",
       "4                                  NaN                            35.0  "
      ]
     },
     "execution_count": 2,
     "metadata": {},
     "output_type": "execute_result"
    }
   ],
   "source": [
    "data = pd.read_csv('https://raw.githubusercontent.com/owid/covid-19-data/master/public/data/vaccinations/vaccinations.csv')\n",
    "data.head()"
   ]
  },
  {
   "cell_type": "markdown",
   "metadata": {},
   "source": [
    "$Section B'$"
   ]
  },
  {
   "cell_type": "code",
   "execution_count": 3,
   "metadata": {},
   "outputs": [
    {
     "data": {
      "text/html": [
       "<div>\n",
       "<style scoped>\n",
       "    .dataframe tbody tr th:only-of-type {\n",
       "        vertical-align: middle;\n",
       "    }\n",
       "\n",
       "    .dataframe tbody tr th {\n",
       "        vertical-align: top;\n",
       "    }\n",
       "\n",
       "    .dataframe thead th {\n",
       "        text-align: right;\n",
       "    }\n",
       "</style>\n",
       "<table border=\"1\" class=\"dataframe\">\n",
       "  <thead>\n",
       "    <tr style=\"text-align: right;\">\n",
       "      <th></th>\n",
       "      <th>location</th>\n",
       "      <th>iso_code</th>\n",
       "      <th>date</th>\n",
       "      <th>total_vaccinations</th>\n",
       "      <th>people_vaccinated</th>\n",
       "      <th>people_fully_vaccinated</th>\n",
       "      <th>daily_vaccinations_raw</th>\n",
       "      <th>daily_vaccinations</th>\n",
       "      <th>total_vaccinations_per_hundred</th>\n",
       "      <th>people_vaccinated_per_hundred</th>\n",
       "      <th>people_fully_vaccinated_per_hundred</th>\n",
       "      <th>daily_vaccinations_per_million</th>\n",
       "    </tr>\n",
       "  </thead>\n",
       "  <tbody>\n",
       "    <tr>\n",
       "      <th>6246</th>\n",
       "      <td>Ecuador</td>\n",
       "      <td>ECU</td>\n",
       "      <td>2021-01-21</td>\n",
       "      <td>0.0</td>\n",
       "      <td>0.0</td>\n",
       "      <td>NaN</td>\n",
       "      <td>NaN</td>\n",
       "      <td>NaN</td>\n",
       "      <td>0.00</td>\n",
       "      <td>0.00</td>\n",
       "      <td>NaN</td>\n",
       "      <td>NaN</td>\n",
       "    </tr>\n",
       "    <tr>\n",
       "      <th>6247</th>\n",
       "      <td>Ecuador</td>\n",
       "      <td>ECU</td>\n",
       "      <td>2021-01-22</td>\n",
       "      <td>108.0</td>\n",
       "      <td>108.0</td>\n",
       "      <td>NaN</td>\n",
       "      <td>108.0</td>\n",
       "      <td>108.0</td>\n",
       "      <td>0.00</td>\n",
       "      <td>0.00</td>\n",
       "      <td>NaN</td>\n",
       "      <td>6.0</td>\n",
       "    </tr>\n",
       "    <tr>\n",
       "      <th>6248</th>\n",
       "      <td>Ecuador</td>\n",
       "      <td>ECU</td>\n",
       "      <td>2021-01-23</td>\n",
       "      <td>NaN</td>\n",
       "      <td>NaN</td>\n",
       "      <td>NaN</td>\n",
       "      <td>NaN</td>\n",
       "      <td>341.0</td>\n",
       "      <td>NaN</td>\n",
       "      <td>NaN</td>\n",
       "      <td>NaN</td>\n",
       "      <td>19.0</td>\n",
       "    </tr>\n",
       "    <tr>\n",
       "      <th>6249</th>\n",
       "      <td>Ecuador</td>\n",
       "      <td>ECU</td>\n",
       "      <td>2021-01-24</td>\n",
       "      <td>NaN</td>\n",
       "      <td>NaN</td>\n",
       "      <td>NaN</td>\n",
       "      <td>NaN</td>\n",
       "      <td>419.0</td>\n",
       "      <td>NaN</td>\n",
       "      <td>NaN</td>\n",
       "      <td>NaN</td>\n",
       "      <td>24.0</td>\n",
       "    </tr>\n",
       "    <tr>\n",
       "      <th>6250</th>\n",
       "      <td>Ecuador</td>\n",
       "      <td>ECU</td>\n",
       "      <td>2021-01-25</td>\n",
       "      <td>NaN</td>\n",
       "      <td>NaN</td>\n",
       "      <td>NaN</td>\n",
       "      <td>NaN</td>\n",
       "      <td>458.0</td>\n",
       "      <td>NaN</td>\n",
       "      <td>NaN</td>\n",
       "      <td>NaN</td>\n",
       "      <td>26.0</td>\n",
       "    </tr>\n",
       "    <tr>\n",
       "      <th>...</th>\n",
       "      <td>...</td>\n",
       "      <td>...</td>\n",
       "      <td>...</td>\n",
       "      <td>...</td>\n",
       "      <td>...</td>\n",
       "      <td>...</td>\n",
       "      <td>...</td>\n",
       "      <td>...</td>\n",
       "      <td>...</td>\n",
       "      <td>...</td>\n",
       "      <td>...</td>\n",
       "      <td>...</td>\n",
       "    </tr>\n",
       "    <tr>\n",
       "      <th>7494</th>\n",
       "      <td>European Union</td>\n",
       "      <td>OWID_EUN</td>\n",
       "      <td>2021-06-04</td>\n",
       "      <td>265896287.0</td>\n",
       "      <td>179484237.0</td>\n",
       "      <td>90261769.0</td>\n",
       "      <td>3662348.0</td>\n",
       "      <td>3568389.0</td>\n",
       "      <td>59.76</td>\n",
       "      <td>40.34</td>\n",
       "      <td>20.29</td>\n",
       "      <td>8020.0</td>\n",
       "    </tr>\n",
       "    <tr>\n",
       "      <th>7495</th>\n",
       "      <td>European Union</td>\n",
       "      <td>OWID_EUN</td>\n",
       "      <td>2021-06-05</td>\n",
       "      <td>268527579.0</td>\n",
       "      <td>180927186.0</td>\n",
       "      <td>91560854.0</td>\n",
       "      <td>2631292.0</td>\n",
       "      <td>3604295.0</td>\n",
       "      <td>60.35</td>\n",
       "      <td>40.67</td>\n",
       "      <td>20.58</td>\n",
       "      <td>8101.0</td>\n",
       "    </tr>\n",
       "    <tr>\n",
       "      <th>7496</th>\n",
       "      <td>European Union</td>\n",
       "      <td>OWID_EUN</td>\n",
       "      <td>2021-06-06</td>\n",
       "      <td>271817960.0</td>\n",
       "      <td>182890546.0</td>\n",
       "      <td>93288466.0</td>\n",
       "      <td>3290381.0</td>\n",
       "      <td>3522720.0</td>\n",
       "      <td>61.09</td>\n",
       "      <td>41.11</td>\n",
       "      <td>20.97</td>\n",
       "      <td>7918.0</td>\n",
       "    </tr>\n",
       "    <tr>\n",
       "      <th>7497</th>\n",
       "      <td>European Union</td>\n",
       "      <td>OWID_EUN</td>\n",
       "      <td>2021-06-07</td>\n",
       "      <td>274886363.0</td>\n",
       "      <td>184580412.0</td>\n",
       "      <td>94860931.0</td>\n",
       "      <td>3068403.0</td>\n",
       "      <td>3566033.0</td>\n",
       "      <td>61.78</td>\n",
       "      <td>41.49</td>\n",
       "      <td>21.32</td>\n",
       "      <td>8015.0</td>\n",
       "    </tr>\n",
       "    <tr>\n",
       "      <th>7498</th>\n",
       "      <td>European Union</td>\n",
       "      <td>OWID_EUN</td>\n",
       "      <td>2021-06-08</td>\n",
       "      <td>276695861.0</td>\n",
       "      <td>185571046.0</td>\n",
       "      <td>95744464.0</td>\n",
       "      <td>1809498.0</td>\n",
       "      <td>3267300.0</td>\n",
       "      <td>62.19</td>\n",
       "      <td>41.71</td>\n",
       "      <td>21.52</td>\n",
       "      <td>7344.0</td>\n",
       "    </tr>\n",
       "  </tbody>\n",
       "</table>\n",
       "<p>1253 rows × 12 columns</p>\n",
       "</div>"
      ],
      "text/plain": [
       "            location  iso_code        date  total_vaccinations  \\\n",
       "6246         Ecuador       ECU  2021-01-21                 0.0   \n",
       "6247         Ecuador       ECU  2021-01-22               108.0   \n",
       "6248         Ecuador       ECU  2021-01-23                 NaN   \n",
       "6249         Ecuador       ECU  2021-01-24                 NaN   \n",
       "6250         Ecuador       ECU  2021-01-25                 NaN   \n",
       "...              ...       ...         ...                 ...   \n",
       "7494  European Union  OWID_EUN  2021-06-04         265896287.0   \n",
       "7495  European Union  OWID_EUN  2021-06-05         268527579.0   \n",
       "7496  European Union  OWID_EUN  2021-06-06         271817960.0   \n",
       "7497  European Union  OWID_EUN  2021-06-07         274886363.0   \n",
       "7498  European Union  OWID_EUN  2021-06-08         276695861.0   \n",
       "\n",
       "      people_vaccinated  people_fully_vaccinated  daily_vaccinations_raw  \\\n",
       "6246                0.0                      NaN                     NaN   \n",
       "6247              108.0                      NaN                   108.0   \n",
       "6248                NaN                      NaN                     NaN   \n",
       "6249                NaN                      NaN                     NaN   \n",
       "6250                NaN                      NaN                     NaN   \n",
       "...                 ...                      ...                     ...   \n",
       "7494        179484237.0               90261769.0               3662348.0   \n",
       "7495        180927186.0               91560854.0               2631292.0   \n",
       "7496        182890546.0               93288466.0               3290381.0   \n",
       "7497        184580412.0               94860931.0               3068403.0   \n",
       "7498        185571046.0               95744464.0               1809498.0   \n",
       "\n",
       "      daily_vaccinations  total_vaccinations_per_hundred  \\\n",
       "6246                 NaN                            0.00   \n",
       "6247               108.0                            0.00   \n",
       "6248               341.0                             NaN   \n",
       "6249               419.0                             NaN   \n",
       "6250               458.0                             NaN   \n",
       "...                  ...                             ...   \n",
       "7494           3568389.0                           59.76   \n",
       "7495           3604295.0                           60.35   \n",
       "7496           3522720.0                           61.09   \n",
       "7497           3566033.0                           61.78   \n",
       "7498           3267300.0                           62.19   \n",
       "\n",
       "      people_vaccinated_per_hundred  people_fully_vaccinated_per_hundred  \\\n",
       "6246                           0.00                                  NaN   \n",
       "6247                           0.00                                  NaN   \n",
       "6248                            NaN                                  NaN   \n",
       "6249                            NaN                                  NaN   \n",
       "6250                            NaN                                  NaN   \n",
       "...                             ...                                  ...   \n",
       "7494                          40.34                                20.29   \n",
       "7495                          40.67                                20.58   \n",
       "7496                          41.11                                20.97   \n",
       "7497                          41.49                                21.32   \n",
       "7498                          41.71                                21.52   \n",
       "\n",
       "      daily_vaccinations_per_million  \n",
       "6246                             NaN  \n",
       "6247                             6.0  \n",
       "6248                            19.0  \n",
       "6249                            24.0  \n",
       "6250                            26.0  \n",
       "...                              ...  \n",
       "7494                          8020.0  \n",
       "7495                          8101.0  \n",
       "7496                          7918.0  \n",
       "7497                          8015.0  \n",
       "7498                          7344.0  \n",
       "\n",
       "[1253 rows x 12 columns]"
      ]
     },
     "execution_count": 3,
     "metadata": {},
     "output_type": "execute_result"
    }
   ],
   "source": [
    "#Finding a country with the first letter E\n",
    "data[(data['location'].str[0]=='E')]"
   ]
  },
  {
   "cell_type": "markdown",
   "metadata": {},
   "source": [
    "$Section C'$"
   ]
  },
  {
   "cell_type": "code",
   "execution_count": 4,
   "metadata": {},
   "outputs": [
    {
     "data": {
      "text/plain": [
       "138"
      ]
     },
     "execution_count": 4,
     "metadata": {},
     "output_type": "execute_result"
    }
   ],
   "source": [
    "len(data[(data['location']=='Ecuador')])"
   ]
  },
  {
   "cell_type": "markdown",
   "metadata": {},
   "source": [
    "$Section D'$\n"
   ]
  },
  {
   "cell_type": "code",
   "execution_count": 5,
   "metadata": {},
   "outputs": [
    {
     "data": {
      "text/plain": [
       "'2021-05-25'"
      ]
     },
     "execution_count": 5,
     "metadata": {},
     "output_type": "execute_result"
    }
   ],
   "source": [
    "#Creating a variable for the country\n",
    "Ecuador=data[(data['location']=='Ecuador')]\n",
    "#Finding the maximum value and the date it happened\n",
    "Ecuador.iloc[Ecuador.daily_vaccinations.argmax(),2]"
   ]
  },
  {
   "cell_type": "markdown",
   "metadata": {},
   "source": [
    "$Section E'$"
   ]
  },
  {
   "cell_type": "code",
   "execution_count": 6,
   "metadata": {},
   "outputs": [
    {
     "data": {
      "text/html": [
       "<div>\n",
       "<style scoped>\n",
       "    .dataframe tbody tr th:only-of-type {\n",
       "        vertical-align: middle;\n",
       "    }\n",
       "\n",
       "    .dataframe tbody tr th {\n",
       "        vertical-align: top;\n",
       "    }\n",
       "\n",
       "    .dataframe thead th {\n",
       "        text-align: right;\n",
       "    }\n",
       "</style>\n",
       "<table border=\"1\" class=\"dataframe\">\n",
       "  <thead>\n",
       "    <tr style=\"text-align: right;\">\n",
       "      <th></th>\n",
       "      <th>location</th>\n",
       "      <th>date</th>\n",
       "      <th>daily_vaccinations</th>\n",
       "    </tr>\n",
       "  </thead>\n",
       "  <tbody>\n",
       "    <tr>\n",
       "      <th>6246</th>\n",
       "      <td>Ecuador</td>\n",
       "      <td>2021-01-21</td>\n",
       "      <td>NaN</td>\n",
       "    </tr>\n",
       "    <tr>\n",
       "      <th>6247</th>\n",
       "      <td>Ecuador</td>\n",
       "      <td>2021-01-22</td>\n",
       "      <td>108.0</td>\n",
       "    </tr>\n",
       "    <tr>\n",
       "      <th>6248</th>\n",
       "      <td>Ecuador</td>\n",
       "      <td>2021-01-23</td>\n",
       "      <td>341.0</td>\n",
       "    </tr>\n",
       "  </tbody>\n",
       "</table>\n",
       "</div>"
      ],
      "text/plain": [
       "     location        date  daily_vaccinations\n",
       "6246  Ecuador  2021-01-21                 NaN\n",
       "6247  Ecuador  2021-01-22               108.0\n",
       "6248  Ecuador  2021-01-23               341.0"
      ]
     },
     "execution_count": 6,
     "metadata": {},
     "output_type": "execute_result"
    }
   ],
   "source": [
    "Ecuador.head(3)[['location','date','daily_vaccinations']]"
   ]
  },
  {
   "cell_type": "markdown",
   "metadata": {},
   "source": [
    "$Section F'$"
   ]
  },
  {
   "cell_type": "code",
   "execution_count": 7,
   "metadata": {},
   "outputs": [
    {
     "data": {
      "text/plain": [
       "18767.846715328466"
      ]
     },
     "execution_count": 7,
     "metadata": {},
     "output_type": "execute_result"
    }
   ],
   "source": [
    "#Finding vaccination days by filtering days greater than 0 and days without value\n",
    "vacc_days= Ecuador[(Ecuador['total_vaccinations'].isna()) | (Ecuador['total_vaccinations'] > 0)] \n",
    "#vacc_days -- The days on which vaccinations were given\n",
    "vacc_days['daily_vaccinations'].mean()"
   ]
  },
  {
   "cell_type": "markdown",
   "metadata": {},
   "source": [
    "$Section G'$"
   ]
  },
  {
   "cell_type": "code",
   "execution_count": 8,
   "metadata": {},
   "outputs": [
    {
     "data": {
      "text/html": [
       "<div>\n",
       "<style scoped>\n",
       "    .dataframe tbody tr th:only-of-type {\n",
       "        vertical-align: middle;\n",
       "    }\n",
       "\n",
       "    .dataframe tbody tr th {\n",
       "        vertical-align: top;\n",
       "    }\n",
       "\n",
       "    .dataframe thead th {\n",
       "        text-align: right;\n",
       "    }\n",
       "</style>\n",
       "<table border=\"1\" class=\"dataframe\">\n",
       "  <thead>\n",
       "    <tr style=\"text-align: right;\">\n",
       "      <th></th>\n",
       "      <th>people_vaccinated_per_hundred</th>\n",
       "    </tr>\n",
       "  </thead>\n",
       "  <tbody>\n",
       "    <tr>\n",
       "      <th>6246</th>\n",
       "      <td>0.00</td>\n",
       "    </tr>\n",
       "    <tr>\n",
       "      <th>6247</th>\n",
       "      <td>0.00</td>\n",
       "    </tr>\n",
       "    <tr>\n",
       "      <th>6252</th>\n",
       "      <td>0.02</td>\n",
       "    </tr>\n",
       "    <tr>\n",
       "      <th>6260</th>\n",
       "      <td>0.04</td>\n",
       "    </tr>\n",
       "    <tr>\n",
       "      <th>6273</th>\n",
       "      <td>0.04</td>\n",
       "    </tr>\n",
       "    <tr>\n",
       "      <th>...</th>\n",
       "      <td>...</td>\n",
       "    </tr>\n",
       "    <tr>\n",
       "      <th>6379</th>\n",
       "      <td>9.65</td>\n",
       "    </tr>\n",
       "    <tr>\n",
       "      <th>6380</th>\n",
       "      <td>9.89</td>\n",
       "    </tr>\n",
       "    <tr>\n",
       "      <th>6381</th>\n",
       "      <td>10.06</td>\n",
       "    </tr>\n",
       "    <tr>\n",
       "      <th>6382</th>\n",
       "      <td>10.15</td>\n",
       "    </tr>\n",
       "    <tr>\n",
       "      <th>6383</th>\n",
       "      <td>10.34</td>\n",
       "    </tr>\n",
       "  </tbody>\n",
       "</table>\n",
       "<p>74 rows × 1 columns</p>\n",
       "</div>"
      ],
      "text/plain": [
       "      people_vaccinated_per_hundred\n",
       "6246                           0.00\n",
       "6247                           0.00\n",
       "6252                           0.02\n",
       "6260                           0.04\n",
       "6273                           0.04\n",
       "...                             ...\n",
       "6379                           9.65\n",
       "6380                           9.89\n",
       "6381                          10.06\n",
       "6382                          10.15\n",
       "6383                          10.34\n",
       "\n",
       "[74 rows x 1 columns]"
      ]
     },
     "execution_count": 8,
     "metadata": {},
     "output_type": "execute_result"
    }
   ],
   "source": [
    "result=Ecuador[Ecuador['people_vaccinated_per_hundred'].notnull()]\n",
    "result[['people_vaccinated_per_hundred']]"
   ]
  },
  {
   "cell_type": "markdown",
   "metadata": {},
   "source": [
    "$Section H'$"
   ]
  },
  {
   "cell_type": "code",
   "execution_count": 9,
   "metadata": {},
   "outputs": [
    {
     "data": {
      "text/plain": [
       "0.47272655784376094"
      ]
     },
     "execution_count": 9,
     "metadata": {},
     "output_type": "execute_result"
    }
   ],
   "source": [
    "#Extraction of values without data from vacc_days\n",
    "vacc_no_NaN=vacc_days[vacc_days['people_vaccinated_per_hundred'].notnull()]\n",
    "#Create a list by removing the appropriate column\n",
    "per_hun_list=vacc_no_NaN['people_vaccinated_per_hundred']\n",
    "#A harmonious average performance for the actual and positive numbers\n",
    "statistics.harmonic_mean(per_hun_list[per_hun_list >0])"
   ]
  },
  {
   "cell_type": "markdown",
   "metadata": {},
   "source": [
    "$Section I'$"
   ]
  },
  {
   "cell_type": "code",
   "execution_count": 10,
   "metadata": {},
   "outputs": [
    {
     "name": "stdout",
     "output_type": "stream",
     "text": [
      "the bigger one is avg : 18767.846715328466 \n"
     ]
    }
   ],
   "source": [
    "#Finding the mean and median\n",
    "avg=vacc_days['daily_vaccinations'].mean()\n",
    "median=vacc_days['daily_vaccinations'].median()\n",
    "#Finding the greatest value among them and explaining by conditions\n",
    "if avg>median:\n",
    "    print(f\"the bigger one is avg : {avg} \")\n",
    "elif avg==median:\n",
    "     print(f\"they are equals avg : {avg} , median : {median}\")\n",
    "else :\n",
    "    print(f\"the bigger one is median : {median} \")"
   ]
  },
  {
   "cell_type": "code",
   "execution_count": 11,
   "metadata": {},
   "outputs": [],
   "source": [
    "import pandas as pd \n",
    "import statistics \n",
    "import numpy as np"
   ]
  },
  {
   "cell_type": "markdown",
   "metadata": {},
   "source": [
    "$Section A'$"
   ]
  },
  {
   "cell_type": "markdown",
   "metadata": {},
   "source": [
    "# matala 2 "
   ]
  },
  {
   "cell_type": "markdown",
   "metadata": {},
   "source": [
    "**יבוא ספרייה עבור השאלות**"
   ]
  },
  {
   "cell_type": "code",
   "execution_count": 12,
   "metadata": {},
   "outputs": [],
   "source": [
    "import numpy as np\n",
    "import pandas as pd\n"
   ]
  },
  {
   "cell_type": "markdown",
   "metadata": {},
   "source": [
    "**יבוא הקובץ ממטלה מספר 1**"
   ]
  },
  {
   "cell_type": "code",
   "execution_count": 13,
   "metadata": {},
   "outputs": [],
   "source": [
    "data = pd.read_csv('https://raw.githubusercontent.com/owid/covid-19-data/master/public/data/vaccinations/vaccinations.csv')\n",
    "Ecuador=data[(data['location']=='Ecuador')]"
   ]
  },
  {
   "cell_type": "markdown",
   "metadata": {},
   "source": [
    "$q1$"
   ]
  },
  {
   "cell_type": "markdown",
   "metadata": {},
   "source": [
    "**המדינה שנבחרה במטלה מספר 1 היא אקוודור**\\\n",
    "**הצגת שלושת השורות הראשונות במדינה שבחרנו**"
   ]
  },
  {
   "cell_type": "code",
   "execution_count": 14,
   "metadata": {},
   "outputs": [
    {
     "data": {
      "text/html": [
       "<div>\n",
       "<style scoped>\n",
       "    .dataframe tbody tr th:only-of-type {\n",
       "        vertical-align: middle;\n",
       "    }\n",
       "\n",
       "    .dataframe tbody tr th {\n",
       "        vertical-align: top;\n",
       "    }\n",
       "\n",
       "    .dataframe thead th {\n",
       "        text-align: right;\n",
       "    }\n",
       "</style>\n",
       "<table border=\"1\" class=\"dataframe\">\n",
       "  <thead>\n",
       "    <tr style=\"text-align: right;\">\n",
       "      <th></th>\n",
       "      <th>location</th>\n",
       "      <th>iso_code</th>\n",
       "      <th>date</th>\n",
       "      <th>total_vaccinations</th>\n",
       "      <th>people_vaccinated</th>\n",
       "      <th>people_fully_vaccinated</th>\n",
       "      <th>daily_vaccinations_raw</th>\n",
       "      <th>daily_vaccinations</th>\n",
       "      <th>total_vaccinations_per_hundred</th>\n",
       "      <th>people_vaccinated_per_hundred</th>\n",
       "      <th>people_fully_vaccinated_per_hundred</th>\n",
       "      <th>daily_vaccinations_per_million</th>\n",
       "    </tr>\n",
       "  </thead>\n",
       "  <tbody>\n",
       "    <tr>\n",
       "      <th>6246</th>\n",
       "      <td>Ecuador</td>\n",
       "      <td>ECU</td>\n",
       "      <td>2021-01-21</td>\n",
       "      <td>0.0</td>\n",
       "      <td>0.0</td>\n",
       "      <td>NaN</td>\n",
       "      <td>NaN</td>\n",
       "      <td>NaN</td>\n",
       "      <td>0.0</td>\n",
       "      <td>0.0</td>\n",
       "      <td>NaN</td>\n",
       "      <td>NaN</td>\n",
       "    </tr>\n",
       "    <tr>\n",
       "      <th>6247</th>\n",
       "      <td>Ecuador</td>\n",
       "      <td>ECU</td>\n",
       "      <td>2021-01-22</td>\n",
       "      <td>108.0</td>\n",
       "      <td>108.0</td>\n",
       "      <td>NaN</td>\n",
       "      <td>108.0</td>\n",
       "      <td>108.0</td>\n",
       "      <td>0.0</td>\n",
       "      <td>0.0</td>\n",
       "      <td>NaN</td>\n",
       "      <td>6.0</td>\n",
       "    </tr>\n",
       "    <tr>\n",
       "      <th>6248</th>\n",
       "      <td>Ecuador</td>\n",
       "      <td>ECU</td>\n",
       "      <td>2021-01-23</td>\n",
       "      <td>NaN</td>\n",
       "      <td>NaN</td>\n",
       "      <td>NaN</td>\n",
       "      <td>NaN</td>\n",
       "      <td>341.0</td>\n",
       "      <td>NaN</td>\n",
       "      <td>NaN</td>\n",
       "      <td>NaN</td>\n",
       "      <td>19.0</td>\n",
       "    </tr>\n",
       "  </tbody>\n",
       "</table>\n",
       "</div>"
      ],
      "text/plain": [
       "     location iso_code        date  total_vaccinations  people_vaccinated  \\\n",
       "6246  Ecuador      ECU  2021-01-21                 0.0                0.0   \n",
       "6247  Ecuador      ECU  2021-01-22               108.0              108.0   \n",
       "6248  Ecuador      ECU  2021-01-23                 NaN                NaN   \n",
       "\n",
       "      people_fully_vaccinated  daily_vaccinations_raw  daily_vaccinations  \\\n",
       "6246                      NaN                     NaN                 NaN   \n",
       "6247                      NaN                   108.0               108.0   \n",
       "6248                      NaN                     NaN               341.0   \n",
       "\n",
       "      total_vaccinations_per_hundred  people_vaccinated_per_hundred  \\\n",
       "6246                             0.0                            0.0   \n",
       "6247                             0.0                            0.0   \n",
       "6248                             NaN                            NaN   \n",
       "\n",
       "      people_fully_vaccinated_per_hundred  daily_vaccinations_per_million  \n",
       "6246                                  NaN                             NaN  \n",
       "6247                                  NaN                             6.0  \n",
       "6248                                  NaN                            19.0  "
      ]
     },
     "execution_count": 14,
     "metadata": {},
     "output_type": "execute_result"
    }
   ],
   "source": [
    "Ecuador.head(3)"
   ]
  },
  {
   "cell_type": "markdown",
   "metadata": {},
   "source": [
    "$q2$"
   ]
  },
  {
   "cell_type": "markdown",
   "metadata": {},
   "source": [
    "**מציאת שם העמודה עם מספר הערכים החסרים המקסימליים** \\\n",
    "**[idxmax]**\\\n",
    "**מציאת מספר הערכים המקסימליים הקיימים בעמודה זו** \\\n",
    "**[sum,max]**"
   ]
  },
  {
   "cell_type": "code",
   "execution_count": 15,
   "metadata": {},
   "outputs": [
    {
     "name": "stdout",
     "output_type": "stream",
     "text": [
      "Column : daily_vaccinations_raw ,number of Nan :89\n"
     ]
    }
   ],
   "source": [
    "Ecuador.isnull().sum().idxmax()\n",
    "print(f\"Column : {Ecuador.isnull().sum().idxmax()} ,number of Nan :{str(Ecuador.isnull().sum().max())}\")"
   ]
  },
  {
   "cell_type": "markdown",
   "metadata": {},
   "source": [
    "$q3$"
   ]
  },
  {
   "cell_type": "markdown",
   "metadata": {},
   "source": [
    "**מציאת כל השורות חסרות הנתונים בעמודה המבוקשת** \\\n",
    "**[isnull]**"
   ]
  },
  {
   "cell_type": "code",
   "execution_count": 16,
   "metadata": {},
   "outputs": [
    {
     "data": {
      "text/html": [
       "<div>\n",
       "<style scoped>\n",
       "    .dataframe tbody tr th:only-of-type {\n",
       "        vertical-align: middle;\n",
       "    }\n",
       "\n",
       "    .dataframe tbody tr th {\n",
       "        vertical-align: top;\n",
       "    }\n",
       "\n",
       "    .dataframe thead th {\n",
       "        text-align: right;\n",
       "    }\n",
       "</style>\n",
       "<table border=\"1\" class=\"dataframe\">\n",
       "  <thead>\n",
       "    <tr style=\"text-align: right;\">\n",
       "      <th></th>\n",
       "      <th>location</th>\n",
       "      <th>iso_code</th>\n",
       "      <th>date</th>\n",
       "      <th>total_vaccinations</th>\n",
       "      <th>people_vaccinated</th>\n",
       "      <th>people_fully_vaccinated</th>\n",
       "      <th>daily_vaccinations_raw</th>\n",
       "      <th>daily_vaccinations</th>\n",
       "      <th>total_vaccinations_per_hundred</th>\n",
       "      <th>people_vaccinated_per_hundred</th>\n",
       "      <th>people_fully_vaccinated_per_hundred</th>\n",
       "      <th>daily_vaccinations_per_million</th>\n",
       "    </tr>\n",
       "  </thead>\n",
       "  <tbody>\n",
       "    <tr>\n",
       "      <th>6246</th>\n",
       "      <td>Ecuador</td>\n",
       "      <td>ECU</td>\n",
       "      <td>2021-01-21</td>\n",
       "      <td>0.0</td>\n",
       "      <td>0.0</td>\n",
       "      <td>NaN</td>\n",
       "      <td>NaN</td>\n",
       "      <td>NaN</td>\n",
       "      <td>0.0</td>\n",
       "      <td>0.0</td>\n",
       "      <td>NaN</td>\n",
       "      <td>NaN</td>\n",
       "    </tr>\n",
       "  </tbody>\n",
       "</table>\n",
       "</div>"
      ],
      "text/plain": [
       "     location iso_code        date  total_vaccinations  people_vaccinated  \\\n",
       "6246  Ecuador      ECU  2021-01-21                 0.0                0.0   \n",
       "\n",
       "      people_fully_vaccinated  daily_vaccinations_raw  daily_vaccinations  \\\n",
       "6246                      NaN                     NaN                 NaN   \n",
       "\n",
       "      total_vaccinations_per_hundred  people_vaccinated_per_hundred  \\\n",
       "6246                             0.0                            0.0   \n",
       "\n",
       "      people_fully_vaccinated_per_hundred  daily_vaccinations_per_million  \n",
       "6246                                  NaN                             NaN  "
      ]
     },
     "execution_count": 16,
     "metadata": {},
     "output_type": "execute_result"
    }
   ],
   "source": [
    "Ecuador[Ecuador['daily_vaccinations'].isnull()]"
   ]
  },
  {
   "cell_type": "markdown",
   "metadata": {},
   "source": [
    "$q4$"
   ]
  },
  {
   "cell_type": "markdown",
   "metadata": {},
   "source": [
    "**יצירת עותק של פרטי המדינה אקוודור בשביל למלא את הערכים החסרים בה מבלי לפגוע במקור**\\\n",
    "**[copy]**\\\n",
    "**בחרנו להשתמש בשיטה של מילוי ערכים חסרים במספר אפס משום שמדובר במספר חיסונים יומי ולכן זה נתון שהגיוני שיהיה אפס ביום אחד ומספר יום לפניו ויום אחריו**\\\n",
    "**[fillna]**\n",
    "****"
   ]
  },
  {
   "cell_type": "code",
   "execution_count": 17,
   "metadata": {},
   "outputs": [],
   "source": [
    "Ecuador_copy=Ecuador.copy()\n",
    "Ecuador_copy['daily_vaccinations'].fillna(0,inplace=True)"
   ]
  },
  {
   "cell_type": "markdown",
   "metadata": {},
   "source": [
    "$q5$"
   ]
  },
  {
   "cell_type": "markdown",
   "metadata": {},
   "source": [
    "**חילקנו את אקוודור לשני עמודות ,העמודת החיסונים בס\"הכ ועמודה של אנשים שחוסנו**\\\n",
    "**לאחר מכך הוצאנו את הערכים שהם מספרים(לא חסרי נתונים)**\\\n",
    "**[notnull]**"
   ]
  },
  {
   "cell_type": "markdown",
   "metadata": {},
   "source": [
    "**T_notnull= total_vaccinations coloumn without Nan Values**\\\n",
    "**P_notnull = people_vaccinated coloumn without Nan Values**"
   ]
  },
  {
   "cell_type": "code",
   "execution_count": 18,
   "metadata": {},
   "outputs": [],
   "source": [
    "T = Ecuador[Ecuador['total_vaccinations'].notnull()]\n",
    "T_notnull = T['total_vaccinations']\n",
    "P = Ecuador[Ecuador['people_vaccinated'].notnull()]\n",
    "P_notnull = P[\"people_vaccinated\"]"
   ]
  },
  {
   "cell_type": "markdown",
   "metadata": {},
   "source": [
    "**בודדנו את העמודות והכנסנו אותם למשתנה בעזרת פאנדס הגדרנו אותו כדתא פריים**\\\n",
    "**[pd.DataFrame]**\\\n",
    "**לאחר מכן הצגנו את שני העמודות בצורת היסטוגרמה אחד על השני והורדנו את השקיפות בכדי לראות את המשותף והלא משותף בניהם**\\\n",
    "**[plot],[hits]**"
   ]
  },
  {
   "cell_type": "code",
   "execution_count": 19,
   "metadata": {},
   "outputs": [
    {
     "data": {
      "text/plain": [
       "<AxesSubplot:ylabel='Frequency'>"
      ]
     },
     "execution_count": 19,
     "metadata": {},
     "output_type": "execute_result"
    },
    {
     "data": {
      "image/png": "[encoded data removed]",
      "text/plain": [
       "<Figure size 432x288 with 1 Axes>"
      ]
     },
     "metadata": {
      "needs_background": "light"
     },
     "output_type": "display_data"
    }
   ],
   "source": [
    "T_and_P = pd.DataFrame({\"total_vaccinations\":T_notnull,\"people_vaccinated\":P_notnull})\n",
    "T_and_P.plot.hist(bins=10,alpha=0.7)"
   ]
  },
  {
   "cell_type": "markdown",
   "metadata": {},
   "source": [
    "$q6$"
   ]
  },
  {
   "cell_type": "markdown",
   "metadata": {},
   "source": [
    "**בודדנו את הערכים שהם בעלי נתונים (מספריים)**\\\n",
    "**[nounull]**\\\n",
    "**לאחר מכן בודדנו את העמודה והפעלנו עליה את הפונקציה בוקספלוט**\\\n",
    "**[boxplot]**"
   ]
  },
  {
   "cell_type": "markdown",
   "metadata": {},
   "source": [
    "**בודדנו את הערכים שהם בעלי נתונים(מספריים)**\\\n",
    "**[notnull]**\\\n",
    "**לאחר מכן בודדנו את העמודה המתאימה והשתמשנו במתודה בקספלוט להצגה גרפית**\\\n",
    "**[boxplot]**\\\n",
    "**הדפסנו את החציון ניתן לראות שזה מסתדר עם הקו הירוק**\\\n",
    "**הסבר:**\\\n",
    "**הקו העליון של הבוקס פלוט תוחם בין הרבע הראשון לשלושתם הרבעים התחתונים וכמו כן הקו הכחול התחתון תוחם בין הרבע התחתון לשלושת הרבעים העליונים,וידוע שבתוך הבוקס פלוט נמצאים שני הרבעים האחרים הנתחמים באמצע באמצעות הקו הירוק (2 רבעים מעל הקו 2 רבעים מתחת) מכאן שהקו הירוק הנמצא בבוקספלוט מצביע על אמצע הנתונים או במילים אחרות חציון לכן הוא והחציון זהים**"
   ]
  },
  {
   "cell_type": "code",
   "execution_count": 20,
   "metadata": {},
   "outputs": [
    {
     "data": {
      "text/plain": [
       "(<AxesSubplot:>, 'median :3.045')"
      ]
     },
     "execution_count": 20,
     "metadata": {},
     "output_type": "execute_result"
    },
    {
     "data": {
      "image/png": "[encoded data removed]",
      "text/plain": [
       "<Figure size 432x288 with 1 Axes>"
      ]
     },
     "metadata": {
      "needs_background": "light"
     },
     "output_type": "display_data"
    }
   ],
   "source": [
    "P_vacc_per_h= Ecuador[Ecuador['people_vaccinated_per_hundred'].notnull()]\n",
    "P_vacc_per_h_notnull = P_vacc_per_h['people_vaccinated_per_hundred']\n",
    "P_vacc_per_h.boxplot(\"people_vaccinated_per_hundred\"),\"median :\"+str(P_vacc_per_h_notnull.median())"
   ]
  },
  {
   "cell_type": "markdown",
   "metadata": {},
   "source": [
    "$q7$"
   ]
  },
  {
   "cell_type": "markdown",
   "metadata": {},
   "source": [
    "**השתמשנו בעותק של הקובץ (בכדי לא לשנות את הנתונים המקוריים) הפכנו את עמודת הדייט לטיפוס דייטים בכדי להשתמש במתודות של דייטים ולאחר מכך הוספנו את העמודה של החודשים**\n",
    "**[datetime],[month]**"
   ]
  },
  {
   "cell_type": "code",
   "execution_count": 21,
   "metadata": {},
   "outputs": [],
   "source": [
    "Ecuador_copy['date'] = pd.to_datetime(Ecuador.date)\n",
    "Ecuador_copy['month'] = pd.DatetimeIndex(Ecuador_copy.date).month"
   ]
  },
  {
   "cell_type": "markdown",
   "metadata": {},
   "source": [
    "**הוצאנו את הערכים המקסימלים משני העמודות והצגנו אותם ביחס  לחודשים כלומר ערך מקסימלי לכל חודש**\\\n",
    "**[groupby],[max]**"
   ]
  },
  {
   "cell_type": "code",
   "execution_count": 22,
   "metadata": {},
   "outputs": [
    {
     "data": {
      "text/html": [
       "<div>\n",
       "<style scoped>\n",
       "    .dataframe tbody tr th:only-of-type {\n",
       "        vertical-align: middle;\n",
       "    }\n",
       "\n",
       "    .dataframe tbody tr th {\n",
       "        vertical-align: top;\n",
       "    }\n",
       "\n",
       "    .dataframe thead th {\n",
       "        text-align: right;\n",
       "    }\n",
       "</style>\n",
       "<table border=\"1\" class=\"dataframe\">\n",
       "  <thead>\n",
       "    <tr style=\"text-align: right;\">\n",
       "      <th></th>\n",
       "      <th>daily_vaccinations</th>\n",
       "      <th>people_vaccinated_per_hundred</th>\n",
       "    </tr>\n",
       "    <tr>\n",
       "      <th>month</th>\n",
       "      <th></th>\n",
       "      <th></th>\n",
       "    </tr>\n",
       "  </thead>\n",
       "  <tbody>\n",
       "    <tr>\n",
       "      <th>1</th>\n",
       "      <td>526.0</td>\n",
       "      <td>0.02</td>\n",
       "    </tr>\n",
       "    <tr>\n",
       "      <th>2</th>\n",
       "      <td>3012.0</td>\n",
       "      <td>0.12</td>\n",
       "    </tr>\n",
       "    <tr>\n",
       "      <th>3</th>\n",
       "      <td>11311.0</td>\n",
       "      <td>1.03</td>\n",
       "    </tr>\n",
       "    <tr>\n",
       "      <th>4</th>\n",
       "      <td>39464.0</td>\n",
       "      <td>4.24</td>\n",
       "    </tr>\n",
       "    <tr>\n",
       "      <th>5</th>\n",
       "      <td>63108.0</td>\n",
       "      <td>8.86</td>\n",
       "    </tr>\n",
       "    <tr>\n",
       "      <th>6</th>\n",
       "      <td>62972.0</td>\n",
       "      <td>10.34</td>\n",
       "    </tr>\n",
       "  </tbody>\n",
       "</table>\n",
       "</div>"
      ],
      "text/plain": [
       "       daily_vaccinations  people_vaccinated_per_hundred\n",
       "month                                                   \n",
       "1                   526.0                           0.02\n",
       "2                  3012.0                           0.12\n",
       "3                 11311.0                           1.03\n",
       "4                 39464.0                           4.24\n",
       "5                 63108.0                           8.86\n",
       "6                 62972.0                          10.34"
      ]
     },
     "execution_count": 22,
     "metadata": {},
     "output_type": "execute_result"
    }
   ],
   "source": [
    "Ecuador_copy.groupby('month')[['daily_vaccinations','people_vaccinated_per_hundred']].max()"
   ]
  },
  {
   "cell_type": "markdown",
   "metadata": {},
   "source": [
    "$q8$"
   ]
  },
  {
   "cell_type": "markdown",
   "metadata": {},
   "source": [
    "**הכנסו את הטבלה מהסעיף הקודם למשתנה ולאחר מכן סידרנו את הערכים מהעמודה הרצויה באמצעות שורט ואליו**\\\n",
    "**[sort_values]**"
   ]
  },
  {
   "cell_type": "code",
   "execution_count": 23,
   "metadata": {},
   "outputs": [
    {
     "data": {
      "text/html": [
       "<div>\n",
       "<style scoped>\n",
       "    .dataframe tbody tr th:only-of-type {\n",
       "        vertical-align: middle;\n",
       "    }\n",
       "\n",
       "    .dataframe tbody tr th {\n",
       "        vertical-align: top;\n",
       "    }\n",
       "\n",
       "    .dataframe thead th {\n",
       "        text-align: right;\n",
       "    }\n",
       "</style>\n",
       "<table border=\"1\" class=\"dataframe\">\n",
       "  <thead>\n",
       "    <tr style=\"text-align: right;\">\n",
       "      <th></th>\n",
       "      <th>people_vaccinated_per_hundred</th>\n",
       "    </tr>\n",
       "    <tr>\n",
       "      <th>month</th>\n",
       "      <th></th>\n",
       "    </tr>\n",
       "  </thead>\n",
       "  <tbody>\n",
       "    <tr>\n",
       "      <th>1</th>\n",
       "      <td>0.02</td>\n",
       "    </tr>\n",
       "    <tr>\n",
       "      <th>2</th>\n",
       "      <td>0.12</td>\n",
       "    </tr>\n",
       "    <tr>\n",
       "      <th>3</th>\n",
       "      <td>1.03</td>\n",
       "    </tr>\n",
       "    <tr>\n",
       "      <th>4</th>\n",
       "      <td>4.24</td>\n",
       "    </tr>\n",
       "    <tr>\n",
       "      <th>5</th>\n",
       "      <td>8.86</td>\n",
       "    </tr>\n",
       "    <tr>\n",
       "      <th>6</th>\n",
       "      <td>10.34</td>\n",
       "    </tr>\n",
       "  </tbody>\n",
       "</table>\n",
       "</div>"
      ],
      "text/plain": [
       "       people_vaccinated_per_hundred\n",
       "month                               \n",
       "1                               0.02\n",
       "2                               0.12\n",
       "3                               1.03\n",
       "4                               4.24\n",
       "5                               8.86\n",
       "6                              10.34"
      ]
     },
     "execution_count": 23,
     "metadata": {},
     "output_type": "execute_result"
    }
   ],
   "source": [
    "P_vacc_bymonth= Ecuador_copy.groupby('month')[['people_vaccinated_per_hundred']].max()\n",
    "P_vacc_bymonth.sort_values(\"people_vaccinated_per_hundred\")"
   ]
  },
  {
   "cell_type": "markdown",
   "metadata": {},
   "source": [
    "# matal 3"
   ]
  },
  {
   "cell_type": "code",
   "execution_count": 24,
   "metadata": {},
   "outputs": [],
   "source": [
    "import pandas as pd\n",
    "import seaborn as sns\n",
    "import numpy as np\n",
    "import matplotlib.pyplot as plt"
   ]
  },
  {
   "cell_type": "code",
   "execution_count": 25,
   "metadata": {},
   "outputs": [],
   "source": [
    "url=\"https://raw.githubusercontent.com/nlihin/data-analytics/main/datasets/youtube/youtube_US_short.csv\"\n",
    "data=pd.read_csv(url)"
   ]
  },
  {
   "cell_type": "markdown",
   "metadata": {},
   "source": [
    "**תחילה לקחנו 5 שורות ראשונות על מנת לראות את אופי הנתונים**"
   ]
  },
  {
   "cell_type": "code",
   "execution_count": 26,
   "metadata": {},
   "outputs": [
    {
     "data": {
      "text/html": [
       "<div>\n",
       "<style scoped>\n",
       "    .dataframe tbody tr th:only-of-type {\n",
       "        vertical-align: middle;\n",
       "    }\n",
       "\n",
       "    .dataframe tbody tr th {\n",
       "        vertical-align: top;\n",
       "    }\n",
       "\n",
       "    .dataframe thead th {\n",
       "        text-align: right;\n",
       "    }\n",
       "</style>\n",
       "<table border=\"1\" class=\"dataframe\">\n",
       "  <thead>\n",
       "    <tr style=\"text-align: right;\">\n",
       "      <th></th>\n",
       "      <th>video_id</th>\n",
       "      <th>trending_date</th>\n",
       "      <th>title</th>\n",
       "      <th>channel_title</th>\n",
       "      <th>category_id</th>\n",
       "      <th>publish_time</th>\n",
       "      <th>tags</th>\n",
       "      <th>views</th>\n",
       "      <th>likes</th>\n",
       "      <th>dislikes</th>\n",
       "      <th>comment_count</th>\n",
       "      <th>thumbnail_link</th>\n",
       "      <th>comments_disabled</th>\n",
       "      <th>ratings_disabled</th>\n",
       "      <th>video_error_or_removed</th>\n",
       "      <th>description</th>\n",
       "    </tr>\n",
       "  </thead>\n",
       "  <tbody>\n",
       "    <tr>\n",
       "      <th>0</th>\n",
       "      <td>2kyS6SvSYSE</td>\n",
       "      <td>17.14.11</td>\n",
       "      <td>WE WANT TO TALK ABOUT OUR MARRIAGE</td>\n",
       "      <td>CaseyNeistat</td>\n",
       "      <td>22</td>\n",
       "      <td>2017-11-13T17:13:01.000Z</td>\n",
       "      <td>SHANtell martin</td>\n",
       "      <td>748374</td>\n",
       "      <td>57527</td>\n",
       "      <td>2966</td>\n",
       "      <td>15954</td>\n",
       "      <td>https://i.ytimg.com/vi/2kyS6SvSYSE/default.jpg</td>\n",
       "      <td>False</td>\n",
       "      <td>False</td>\n",
       "      <td>False</td>\n",
       "      <td>SHANTELL'S CHANNEL - https://www.youtube.com/s...</td>\n",
       "    </tr>\n",
       "    <tr>\n",
       "      <th>1</th>\n",
       "      <td>1ZAPwfrtAFY</td>\n",
       "      <td>17.14.11</td>\n",
       "      <td>The Trump Presidency: Last Week Tonight with J...</td>\n",
       "      <td>LastWeekTonight</td>\n",
       "      <td>24</td>\n",
       "      <td>2017-11-13T07:30:00.000Z</td>\n",
       "      <td>last week tonight trump presidency|\"last week ...</td>\n",
       "      <td>2418783</td>\n",
       "      <td>97185</td>\n",
       "      <td>6146</td>\n",
       "      <td>12703</td>\n",
       "      <td>https://i.ytimg.com/vi/1ZAPwfrtAFY/default.jpg</td>\n",
       "      <td>False</td>\n",
       "      <td>False</td>\n",
       "      <td>False</td>\n",
       "      <td>One year after the presidential election, John...</td>\n",
       "    </tr>\n",
       "    <tr>\n",
       "      <th>2</th>\n",
       "      <td>5qpjK5DgCt4</td>\n",
       "      <td>17.14.11</td>\n",
       "      <td>Racist Superman | Rudy Mancuso, King Bach &amp; Le...</td>\n",
       "      <td>Rudy Mancuso</td>\n",
       "      <td>23</td>\n",
       "      <td>2017-11-12T19:05:24.000Z</td>\n",
       "      <td>racist superman|\"rudy\"|\"mancuso\"|\"king\"|\"bach\"...</td>\n",
       "      <td>3191434</td>\n",
       "      <td>146033</td>\n",
       "      <td>5339</td>\n",
       "      <td>8181</td>\n",
       "      <td>https://i.ytimg.com/vi/5qpjK5DgCt4/default.jpg</td>\n",
       "      <td>False</td>\n",
       "      <td>False</td>\n",
       "      <td>False</td>\n",
       "      <td>WATCH MY PREVIOUS VIDEO ▶ \\n\\nSUBSCRIBE ► http...</td>\n",
       "    </tr>\n",
       "    <tr>\n",
       "      <th>3</th>\n",
       "      <td>puqaWrEC7tY</td>\n",
       "      <td>17.14.11</td>\n",
       "      <td>Nickelback Lyrics: Real or Fake?</td>\n",
       "      <td>Good Mythical Morning</td>\n",
       "      <td>24</td>\n",
       "      <td>2017-11-13T11:00:04.000Z</td>\n",
       "      <td>rhett and link|\"gmm\"|\"good mythical morning\"|\"...</td>\n",
       "      <td>343168</td>\n",
       "      <td>10172</td>\n",
       "      <td>666</td>\n",
       "      <td>2146</td>\n",
       "      <td>https://i.ytimg.com/vi/puqaWrEC7tY/default.jpg</td>\n",
       "      <td>False</td>\n",
       "      <td>False</td>\n",
       "      <td>False</td>\n",
       "      <td>Today we find out if Link is a Nickelback amat...</td>\n",
       "    </tr>\n",
       "    <tr>\n",
       "      <th>4</th>\n",
       "      <td>d380meD0W0M</td>\n",
       "      <td>17.14.11</td>\n",
       "      <td>I Dare You: GOING BALD!?</td>\n",
       "      <td>nigahiga</td>\n",
       "      <td>24</td>\n",
       "      <td>2017-11-12T18:01:41.000Z</td>\n",
       "      <td>ryan|\"higa\"|\"higatv\"|\"nigahiga\"|\"i dare you\"|\"...</td>\n",
       "      <td>2095731</td>\n",
       "      <td>132235</td>\n",
       "      <td>1989</td>\n",
       "      <td>17518</td>\n",
       "      <td>https://i.ytimg.com/vi/d380meD0W0M/default.jpg</td>\n",
       "      <td>False</td>\n",
       "      <td>False</td>\n",
       "      <td>False</td>\n",
       "      <td>I know it's been a while since we did this sho...</td>\n",
       "    </tr>\n",
       "  </tbody>\n",
       "</table>\n",
       "</div>"
      ],
      "text/plain": [
       "      video_id trending_date  \\\n",
       "0  2kyS6SvSYSE      17.14.11   \n",
       "1  1ZAPwfrtAFY      17.14.11   \n",
       "2  5qpjK5DgCt4      17.14.11   \n",
       "3  puqaWrEC7tY      17.14.11   \n",
       "4  d380meD0W0M      17.14.11   \n",
       "\n",
       "                                               title          channel_title  \\\n",
       "0                 WE WANT TO TALK ABOUT OUR MARRIAGE           CaseyNeistat   \n",
       "1  The Trump Presidency: Last Week Tonight with J...        LastWeekTonight   \n",
       "2  Racist Superman | Rudy Mancuso, King Bach & Le...           Rudy Mancuso   \n",
       "3                   Nickelback Lyrics: Real or Fake?  Good Mythical Morning   \n",
       "4                           I Dare You: GOING BALD!?               nigahiga   \n",
       "\n",
       "   category_id              publish_time  \\\n",
       "0           22  2017-11-13T17:13:01.000Z   \n",
       "1           24  2017-11-13T07:30:00.000Z   \n",
       "2           23  2017-11-12T19:05:24.000Z   \n",
       "3           24  2017-11-13T11:00:04.000Z   \n",
       "4           24  2017-11-12T18:01:41.000Z   \n",
       "\n",
       "                                                tags    views   likes  \\\n",
       "0                                    SHANtell martin   748374   57527   \n",
       "1  last week tonight trump presidency|\"last week ...  2418783   97185   \n",
       "2  racist superman|\"rudy\"|\"mancuso\"|\"king\"|\"bach\"...  3191434  146033   \n",
       "3  rhett and link|\"gmm\"|\"good mythical morning\"|\"...   343168   10172   \n",
       "4  ryan|\"higa\"|\"higatv\"|\"nigahiga\"|\"i dare you\"|\"...  2095731  132235   \n",
       "\n",
       "   dislikes  comment_count                                  thumbnail_link  \\\n",
       "0      2966          15954  https://i.ytimg.com/vi/2kyS6SvSYSE/default.jpg   \n",
       "1      6146          12703  https://i.ytimg.com/vi/1ZAPwfrtAFY/default.jpg   \n",
       "2      5339           8181  https://i.ytimg.com/vi/5qpjK5DgCt4/default.jpg   \n",
       "3       666           2146  https://i.ytimg.com/vi/puqaWrEC7tY/default.jpg   \n",
       "4      1989          17518  https://i.ytimg.com/vi/d380meD0W0M/default.jpg   \n",
       "\n",
       "   comments_disabled  ratings_disabled  video_error_or_removed  \\\n",
       "0              False             False                   False   \n",
       "1              False             False                   False   \n",
       "2              False             False                   False   \n",
       "3              False             False                   False   \n",
       "4              False             False                   False   \n",
       "\n",
       "                                         description  \n",
       "0  SHANTELL'S CHANNEL - https://www.youtube.com/s...  \n",
       "1  One year after the presidential election, John...  \n",
       "2  WATCH MY PREVIOUS VIDEO ▶ \\n\\nSUBSCRIBE ► http...  \n",
       "3  Today we find out if Link is a Nickelback amat...  \n",
       "4  I know it's been a while since we did this sho...  "
      ]
     },
     "execution_count": 26,
     "metadata": {},
     "output_type": "execute_result"
    }
   ],
   "source": [
    "data.head()"
   ]
  },
  {
   "cell_type": "markdown",
   "metadata": {},
   "source": [
    "**q1**"
   ]
  },
  {
   "cell_type": "markdown",
   "metadata": {},
   "source": [
    "**בסעיף זה ביקשנו שכאשר הצפיות בשורה יהיו שוות לצפיות המקסימליות בקובץ שידפיס את השורה עם העמודות המבוקשות**"
   ]
  },
  {
   "cell_type": "code",
   "execution_count": 27,
   "metadata": {},
   "outputs": [
    {
     "data": {
      "text/html": [
       "<div>\n",
       "<style scoped>\n",
       "    .dataframe tbody tr th:only-of-type {\n",
       "        vertical-align: middle;\n",
       "    }\n",
       "\n",
       "    .dataframe tbody tr th {\n",
       "        vertical-align: top;\n",
       "    }\n",
       "\n",
       "    .dataframe thead th {\n",
       "        text-align: right;\n",
       "    }\n",
       "</style>\n",
       "<table border=\"1\" class=\"dataframe\">\n",
       "  <thead>\n",
       "    <tr style=\"text-align: right;\">\n",
       "      <th></th>\n",
       "      <th>title</th>\n",
       "      <th>views</th>\n",
       "      <th>publish_time</th>\n",
       "    </tr>\n",
       "  </thead>\n",
       "  <tbody>\n",
       "    <tr>\n",
       "      <th>6181</th>\n",
       "      <td>YouTube Rewind: The Shape of 2017 | #YouTubeRe...</td>\n",
       "      <td>149376127</td>\n",
       "      <td>2017-12-06T17:58:51.000Z</td>\n",
       "    </tr>\n",
       "  </tbody>\n",
       "</table>\n",
       "</div>"
      ],
      "text/plain": [
       "                                                  title      views  \\\n",
       "6181  YouTube Rewind: The Shape of 2017 | #YouTubeRe...  149376127   \n",
       "\n",
       "                  publish_time  \n",
       "6181  2017-12-06T17:58:51.000Z  "
      ]
     },
     "execution_count": 27,
     "metadata": {},
     "output_type": "execute_result"
    }
   ],
   "source": [
    "data[data[\"views\"]==data[\"views\"].max()][[\"title\" ,\"views\",\"publish_time\"]]"
   ]
  },
  {
   "cell_type": "markdown",
   "metadata": {},
   "source": [
    "**q2**"
   ]
  },
  {
   "cell_type": "markdown",
   "metadata": {},
   "source": [
    "**תחילה קיבצנו את הנתונים לפי ערוץ וסכמנו אותם. לאחר מכן סידרנו את הערכים מהגדול לקטן ולקחנו את שלושת הראשונים**"
   ]
  },
  {
   "cell_type": "code",
   "execution_count": 28,
   "metadata": {},
   "outputs": [
    {
     "data": {
      "text/html": [
       "<div>\n",
       "<style scoped>\n",
       "    .dataframe tbody tr th:only-of-type {\n",
       "        vertical-align: middle;\n",
       "    }\n",
       "\n",
       "    .dataframe tbody tr th {\n",
       "        vertical-align: top;\n",
       "    }\n",
       "\n",
       "    .dataframe thead th {\n",
       "        text-align: right;\n",
       "    }\n",
       "</style>\n",
       "<table border=\"1\" class=\"dataframe\">\n",
       "  <thead>\n",
       "    <tr style=\"text-align: right;\">\n",
       "      <th></th>\n",
       "      <th>views</th>\n",
       "    </tr>\n",
       "    <tr>\n",
       "      <th>channel_title</th>\n",
       "      <th></th>\n",
       "    </tr>\n",
       "  </thead>\n",
       "  <tbody>\n",
       "    <tr>\n",
       "      <th>YouTube Spotlight</th>\n",
       "      <td>783298628</td>\n",
       "    </tr>\n",
       "    <tr>\n",
       "      <th>Marvel Entertainment</th>\n",
       "      <td>679590872</td>\n",
       "    </tr>\n",
       "    <tr>\n",
       "      <th>LuisFonsiVEVO</th>\n",
       "      <td>534738794</td>\n",
       "    </tr>\n",
       "  </tbody>\n",
       "</table>\n",
       "</div>"
      ],
      "text/plain": [
       "                          views\n",
       "channel_title                  \n",
       "YouTube Spotlight     783298628\n",
       "Marvel Entertainment  679590872\n",
       "LuisFonsiVEVO         534738794"
      ]
     },
     "execution_count": 28,
     "metadata": {},
     "output_type": "execute_result"
    }
   ],
   "source": [
    "data.groupby(\"channel_title\").sum().sort_values(\"views\",ascending=False)[[\"views\"]].head(3)"
   ]
  },
  {
   "cell_type": "markdown",
   "metadata": {},
   "source": [
    "q3"
   ]
  },
  {
   "cell_type": "markdown",
   "metadata": {},
   "source": [
    "**יצרנו משתנה בשם קורר של קורלציה בין הנתונים בעמודות המבוקשות על פי ספירמן והדפסנו אותו**"
   ]
  },
  {
   "cell_type": "code",
   "execution_count": 29,
   "metadata": {},
   "outputs": [
    {
     "data": {
      "text/html": [
       "<div>\n",
       "<style scoped>\n",
       "    .dataframe tbody tr th:only-of-type {\n",
       "        vertical-align: middle;\n",
       "    }\n",
       "\n",
       "    .dataframe tbody tr th {\n",
       "        vertical-align: top;\n",
       "    }\n",
       "\n",
       "    .dataframe thead th {\n",
       "        text-align: right;\n",
       "    }\n",
       "</style>\n",
       "<table border=\"1\" class=\"dataframe\">\n",
       "  <thead>\n",
       "    <tr style=\"text-align: right;\">\n",
       "      <th></th>\n",
       "      <th>likes</th>\n",
       "      <th>dislikes</th>\n",
       "      <th>views</th>\n",
       "      <th>comment_count</th>\n",
       "    </tr>\n",
       "  </thead>\n",
       "  <tbody>\n",
       "    <tr>\n",
       "      <th>likes</th>\n",
       "      <td>1.000000</td>\n",
       "      <td>0.801154</td>\n",
       "      <td>0.877789</td>\n",
       "      <td>0.881849</td>\n",
       "    </tr>\n",
       "    <tr>\n",
       "      <th>dislikes</th>\n",
       "      <td>0.801154</td>\n",
       "      <td>1.000000</td>\n",
       "      <td>0.866979</td>\n",
       "      <td>0.843331</td>\n",
       "    </tr>\n",
       "    <tr>\n",
       "      <th>views</th>\n",
       "      <td>0.877789</td>\n",
       "      <td>0.866979</td>\n",
       "      <td>1.000000</td>\n",
       "      <td>0.840532</td>\n",
       "    </tr>\n",
       "    <tr>\n",
       "      <th>comment_count</th>\n",
       "      <td>0.881849</td>\n",
       "      <td>0.843331</td>\n",
       "      <td>0.840532</td>\n",
       "      <td>1.000000</td>\n",
       "    </tr>\n",
       "  </tbody>\n",
       "</table>\n",
       "</div>"
      ],
      "text/plain": [
       "                  likes  dislikes     views  comment_count\n",
       "likes          1.000000  0.801154  0.877789       0.881849\n",
       "dislikes       0.801154  1.000000  0.866979       0.843331\n",
       "views          0.877789  0.866979  1.000000       0.840532\n",
       "comment_count  0.881849  0.843331  0.840532       1.000000"
      ]
     },
     "execution_count": 29,
     "metadata": {},
     "output_type": "execute_result"
    }
   ],
   "source": [
    "corr=data[[\"likes\",\"dislikes\",\"views\",\"comment_count\"]].corr(method='spearman').copy()\n",
    "corr\n"
   ]
  },
  {
   "cell_type": "markdown",
   "metadata": {},
   "source": [
    "q4"
   ]
  },
  {
   "cell_type": "markdown",
   "metadata": {},
   "source": [
    "**תחילה יצרנו פי אל טי חדש והגדרנו את הגודל שלו**"
   ]
  },
  {
   "cell_type": "markdown",
   "metadata": {},
   "source": [
    "**לאחר מכן יצרנו את האיטמאפ המראה את הקורלציה של הסעיף הקודם**"
   ]
  },
  {
   "cell_type": "code",
   "execution_count": 30,
   "metadata": {},
   "outputs": [
    {
     "data": {
      "text/plain": [
       "<AxesSubplot:>"
      ]
     },
     "execution_count": 30,
     "metadata": {},
     "output_type": "execute_result"
    },
    {
     "data": {
      "text/plain": [
       "<Figure size 432x288 with 0 Axes>"
      ]
     },
     "metadata": {},
     "output_type": "display_data"
    },
    {
     "data": {
      "image/png": "[encoded data removed]",
      "text/plain": [
       "<Figure size 864x504 with 2 Axes>"
      ]
     },
     "metadata": {
      "needs_background": "light"
     },
     "output_type": "display_data"
    }
   ],
   "source": [
    "fig = plt.figure()\n",
    "plt.figure(figsize=(12,7))\n",
    "sns.heatmap(corr, cmap='coolwarm', center=0, annot = True)"
   ]
  },
  {
   "cell_type": "markdown",
   "metadata": {},
   "source": [
    "q5"
   ]
  },
  {
   "cell_type": "markdown",
   "metadata": {},
   "source": [
    "**בסעיף זה התבקשנו ליצור סקרפלוט של שתי הקורלציות החזקות**"
   ]
  },
  {
   "cell_type": "markdown",
   "metadata": {},
   "source": [
    "**על מנת למצוא את שתי הקורלציות החזרקות יצרנו רשימה שמאגדת לתוכה את כל הקורלציות על ידי לולאה ומסדרת מהקטן לגדול**"
   ]
  },
  {
   "cell_type": "markdown",
   "metadata": {},
   "source": [
    "****"
   ]
  },
  {
   "cell_type": "markdown",
   "metadata": {},
   "source": [
    "**לאחר מכן יצרנו לולאה נוספת שלוקחת את הערכים הכי גדולים ומכניסה את שמותיהם לשמות משתנים ואז יצרנו את הסקרפלוט של כל קורלציה בנפרד**"
   ]
  },
  {
   "cell_type": "code",
   "execution_count": 31,
   "metadata": {},
   "outputs": [],
   "source": [
    "fig,axes = plt.subplots(1,2, figsize = (10,5))#split the plots\n",
    "corr_plt = spearman.unstack().sort_values()[-7:-5]#orgenize the data from the smallest to the biggest and get the max valuse that are not 1 and repeat on them self\n",
    "title_corr = pd.Series.keys(corr_plt)#we did it in order to make the write titles for the axes\n",
    "print(corr_plt)\n",
    "print(title_corr)\n",
    "plt1 = sns.scatterplot(ax=axes[0],data=data,x=title_corr[0][0],y=title_corr[0][1])\n",
    "plt2 = sns.scatterplot(ax=axes[1],data=data,x=title_corr[1][0],y=title_corr[1][1])"
   ]
  },
  {
   "cell_type": "code",
   "execution_count": 32,
   "metadata": {},
   "outputs": [
    {
     "data": {
      "text/plain": [
       "<AxesSubplot:xlabel='comment_count', ylabel='likes'>"
      ]
     },
     "execution_count": 32,
     "metadata": {},
     "output_type": "execute_result"
    },
    {
     "data": {
      "image/png": "[encoded data removed]",
      "text/plain": [
       "<Figure size 432x288 with 1 Axes>"
      ]
     },
     "metadata": {
      "needs_background": "light"
     },
     "output_type": "display_data"
    }
   ],
   "source": [
    "sns.scatterplot(data=data ,x=val1,y=val2)  "
   ]
  },
  {
   "cell_type": "code",
   "execution_count": 33,
   "metadata": {},
   "outputs": [
    {
     "data": {
      "text/plain": [
       "<AxesSubplot:xlabel='views', ylabel='likes'>"
      ]
     },
     "execution_count": 33,
     "metadata": {},
     "output_type": "execute_result"
    },
    {
     "data": {
      "image/png": "[encoded data removed]",
      "text/plain": [
       "<Figure size 432x288 with 1 Axes>"
      ]
     },
     "metadata": {
      "needs_background": "light"
     },
     "output_type": "display_data"
    }
   ],
   "source": [
    "sns.scatterplot(data=data ,x=val3,y=val4)"
   ]
  },
  {
   "cell_type": "markdown",
   "metadata": {},
   "source": [
    "q6"
   ]
  },
  {
   "cell_type": "markdown",
   "metadata": {},
   "source": [
    "**בסעיף זה היינו צריכים ליצור פיבוט טייבל של צפיות על פי קטגוריה ושנים (רק 2017 ו2018)**"
   ]
  },
  {
   "cell_type": "markdown",
   "metadata": {},
   "source": [
    "**תחילה יצרנו עמודה חדשה שמייצגת את השנה ושמרנו במשתמש חדש רק שורות עם השנים 2017 ו2018**"
   ]
  },
  {
   "cell_type": "code",
   "execution_count": 34,
   "metadata": {},
   "outputs": [],
   "source": [
    "data['year'] = pd.DatetimeIndex(data.publish_time).year\n",
    "data1=data[(data[\"year\"]==2017) | (data[\"year\"]==2018)]"
   ]
  },
  {
   "cell_type": "markdown",
   "metadata": {},
   "source": [
    "**לקחנו את המשתנה שיצרנו ויצרנו פיבוט טייבל לפי צפיות על פי קטגוריה והשנים הרצויות**"
   ]
  },
  {
   "cell_type": "code",
   "execution_count": 35,
   "metadata": {},
   "outputs": [
    {
     "data": {
      "text/html": [
       "<div>\n",
       "<style scoped>\n",
       "    .dataframe tbody tr th:only-of-type {\n",
       "        vertical-align: middle;\n",
       "    }\n",
       "\n",
       "    .dataframe tbody tr th {\n",
       "        vertical-align: top;\n",
       "    }\n",
       "\n",
       "    .dataframe thead th {\n",
       "        text-align: right;\n",
       "    }\n",
       "</style>\n",
       "<table border=\"1\" class=\"dataframe\">\n",
       "  <thead>\n",
       "    <tr style=\"text-align: right;\">\n",
       "      <th>year</th>\n",
       "      <th>2017</th>\n",
       "      <th>2018</th>\n",
       "    </tr>\n",
       "    <tr>\n",
       "      <th>category_id</th>\n",
       "      <th></th>\n",
       "      <th></th>\n",
       "    </tr>\n",
       "  </thead>\n",
       "  <tbody>\n",
       "    <tr>\n",
       "      <th>1</th>\n",
       "      <td>8.654615e+08</td>\n",
       "      <td>144072937.0</td>\n",
       "    </tr>\n",
       "    <tr>\n",
       "      <th>2</th>\n",
       "      <td>7.885352e+07</td>\n",
       "      <td>8047346.0</td>\n",
       "    </tr>\n",
       "    <tr>\n",
       "      <th>10</th>\n",
       "      <td>4.504741e+09</td>\n",
       "      <td>839810930.0</td>\n",
       "    </tr>\n",
       "    <tr>\n",
       "      <th>15</th>\n",
       "      <td>1.442459e+08</td>\n",
       "      <td>32629265.0</td>\n",
       "    </tr>\n",
       "    <tr>\n",
       "      <th>17</th>\n",
       "      <td>3.812432e+08</td>\n",
       "      <td>61660329.0</td>\n",
       "    </tr>\n",
       "    <tr>\n",
       "      <th>19</th>\n",
       "      <td>5.429144e+07</td>\n",
       "      <td>7583452.0</td>\n",
       "    </tr>\n",
       "    <tr>\n",
       "      <th>20</th>\n",
       "      <td>5.035442e+07</td>\n",
       "      <td>84176667.0</td>\n",
       "    </tr>\n",
       "    <tr>\n",
       "      <th>22</th>\n",
       "      <td>7.018258e+08</td>\n",
       "      <td>67849434.0</td>\n",
       "    </tr>\n",
       "    <tr>\n",
       "      <th>23</th>\n",
       "      <td>1.130782e+09</td>\n",
       "      <td>197147385.0</td>\n",
       "    </tr>\n",
       "    <tr>\n",
       "      <th>24</th>\n",
       "      <td>4.049600e+09</td>\n",
       "      <td>645333656.0</td>\n",
       "    </tr>\n",
       "    <tr>\n",
       "      <th>25</th>\n",
       "      <td>2.357296e+08</td>\n",
       "      <td>48419659.0</td>\n",
       "    </tr>\n",
       "    <tr>\n",
       "      <th>26</th>\n",
       "      <td>7.989712e+08</td>\n",
       "      <td>89889352.0</td>\n",
       "    </tr>\n",
       "    <tr>\n",
       "      <th>27</th>\n",
       "      <td>2.025359e+08</td>\n",
       "      <td>48936175.0</td>\n",
       "    </tr>\n",
       "    <tr>\n",
       "      <th>28</th>\n",
       "      <td>5.005949e+08</td>\n",
       "      <td>85462155.0</td>\n",
       "    </tr>\n",
       "    <tr>\n",
       "      <th>29</th>\n",
       "      <td>1.541950e+05</td>\n",
       "      <td>229172.0</td>\n",
       "    </tr>\n",
       "    <tr>\n",
       "      <th>43</th>\n",
       "      <td>1.751446e+06</td>\n",
       "      <td>NaN</td>\n",
       "    </tr>\n",
       "  </tbody>\n",
       "</table>\n",
       "</div>"
      ],
      "text/plain": [
       "year                 2017         2018\n",
       "category_id                           \n",
       "1            8.654615e+08  144072937.0\n",
       "2            7.885352e+07    8047346.0\n",
       "10           4.504741e+09  839810930.0\n",
       "15           1.442459e+08   32629265.0\n",
       "17           3.812432e+08   61660329.0\n",
       "19           5.429144e+07    7583452.0\n",
       "20           5.035442e+07   84176667.0\n",
       "22           7.018258e+08   67849434.0\n",
       "23           1.130782e+09  197147385.0\n",
       "24           4.049600e+09  645333656.0\n",
       "25           2.357296e+08   48419659.0\n",
       "26           7.989712e+08   89889352.0\n",
       "27           2.025359e+08   48936175.0\n",
       "28           5.005949e+08   85462155.0\n",
       "29           1.541950e+05     229172.0\n",
       "43           1.751446e+06          NaN"
      ]
     },
     "execution_count": 35,
     "metadata": {},
     "output_type": "execute_result"
    }
   ],
   "source": [
    "data1.pivot_table('views', index='category_id', columns='year', aggfunc='sum')"
   ]
  },
  {
   "cell_type": "markdown",
   "metadata": {},
   "source": [
    "# matala 4"
   ]
  },
  {
   "cell_type": "code",
   "execution_count": 6,
   "metadata": {},
   "outputs": [],
   "source": [
    "import pandas as pd \n",
    "import statistics \n",
    "import numpy as np\n",
    "import matplotlib.pyplot as plt\n",
    "import seaborn as sns\n",
    "import sklearn as sk\n",
    "from sklearn import tree\n",
    "from sklearn.tree import DecisionTreeRegressor\n",
    "from sklearn.metrics import mean_squared_error"
   ]
  },
  {
   "cell_type": "markdown",
   "metadata": {},
   "source": [
    "$Section A'$"
   ]
  },
  {
   "cell_type": "markdown",
   "metadata": {},
   "source": [
    "**קראנו את הקובץ ,השמטנו ערכים חסרים והצגנו את שלושת העמודות הראשונות של הקובץ המתוקן**"
   ]
  },
  {
   "cell_type": "code",
   "execution_count": 13,
   "metadata": {},
   "outputs": [
    {
     "data": {
      "text/html": [
       "<div>\n",
       "<style scoped>\n",
       "    .dataframe tbody tr th:only-of-type {\n",
       "        vertical-align: middle;\n",
       "    }\n",
       "\n",
       "    .dataframe tbody tr th {\n",
       "        vertical-align: top;\n",
       "    }\n",
       "\n",
       "    .dataframe thead th {\n",
       "        text-align: right;\n",
       "    }\n",
       "</style>\n",
       "<table border=\"1\" class=\"dataframe\">\n",
       "  <thead>\n",
       "    <tr style=\"text-align: right;\">\n",
       "      <th></th>\n",
       "      <th>Age</th>\n",
       "      <th>Weight</th>\n",
       "      <th>Height</th>\n",
       "      <th>Salary</th>\n",
       "    </tr>\n",
       "  </thead>\n",
       "  <tbody>\n",
       "    <tr>\n",
       "      <th>0</th>\n",
       "      <td>25.0</td>\n",
       "      <td>180.0</td>\n",
       "      <td>6-2</td>\n",
       "      <td>7730337.0</td>\n",
       "    </tr>\n",
       "    <tr>\n",
       "      <th>1</th>\n",
       "      <td>25.0</td>\n",
       "      <td>235.0</td>\n",
       "      <td>6-6</td>\n",
       "      <td>6796117.0</td>\n",
       "    </tr>\n",
       "    <tr>\n",
       "      <th>3</th>\n",
       "      <td>22.0</td>\n",
       "      <td>185.0</td>\n",
       "      <td>6-5</td>\n",
       "      <td>1148640.0</td>\n",
       "    </tr>\n",
       "  </tbody>\n",
       "</table>\n",
       "</div>"
      ],
      "text/plain": [
       "    Age  Weight Height     Salary\n",
       "0  25.0   180.0    6-2  7730337.0\n",
       "1  25.0   235.0    6-6  6796117.0\n",
       "3  22.0   185.0    6-5  1148640.0"
      ]
     },
     "execution_count": 13,
     "metadata": {},
     "output_type": "execute_result"
    }
   ],
   "source": [
    "data = pd.read_csv('https://raw.githubusercontent.com/ShaiYona/Data-Science2021B/main/Assignments/4/nba.csv')\n",
    "#remove nan values\n",
    "data_not_null=data.dropna()\n",
    "small_data=data_not_null[['Age','Weight','Height','Salary']]\n",
    "small_data.head(3)\n"
   ]
  },
  {
   "cell_type": "markdown",
   "metadata": {},
   "source": [
    "$Section B'$"
   ]
  },
  {
   "cell_type": "markdown",
   "metadata": {},
   "source": [
    "**יצרנו עותק לקובץ המתוקן כדי לשנות את העמודה על מנת שנוכל לבצע חיזוי בהמשך.**\\\n",
    "**השתמשנו בלולאה על מנת לבצע המרה מפיט לסנטימטרים**"
   ]
  },
  {
   "cell_type": "markdown",
   "metadata": {},
   "source": [
    "הפרדה בלי for"
   ]
  },
  {
   "cell_type": "code",
   "execution_count": 14,
   "metadata": {},
   "outputs": [
    {
     "name": "stderr",
     "output_type": "stream",
     "text": [
      "<ipython-input-14-130d1248ddc4>:6: SettingWithCopyWarning: \n",
      "A value is trying to be set on a copy of a slice from a DataFrame.\n",
      "Try using .loc[row_indexer,col_indexer] = value instead\n",
      "\n",
      "See the caveats in the documentation: https://pandas.pydata.org/pandas-docs/stable/user_guide/indexing.html#returning-a-view-versus-a-copy\n",
      "  data_not_null[\"Height\"]=data_not_null[\"Height\"].apply(lambda x:parse_ht(x))\n"
     ]
    }
   ],
   "source": [
    "def parse_ht(ht):\n",
    "    ht_ = ht.split(\"-\")\n",
    "    ft_ = float(ht_[0])\n",
    "    in_ = float(ht_[1])\n",
    "    return (12*ft_) + in_\n",
    "data_not_null[\"Height\"]=data_not_null[\"Height\"].apply(lambda x:parse_ht(x))\n"
   ]
  },
  {
   "cell_type": "code",
   "execution_count": 15,
   "metadata": {},
   "outputs": [
    {
     "data": {
      "text/html": [
       "<div>\n",
       "<style scoped>\n",
       "    .dataframe tbody tr th:only-of-type {\n",
       "        vertical-align: middle;\n",
       "    }\n",
       "\n",
       "    .dataframe tbody tr th {\n",
       "        vertical-align: top;\n",
       "    }\n",
       "\n",
       "    .dataframe thead th {\n",
       "        text-align: right;\n",
       "    }\n",
       "</style>\n",
       "<table border=\"1\" class=\"dataframe\">\n",
       "  <thead>\n",
       "    <tr style=\"text-align: right;\">\n",
       "      <th></th>\n",
       "      <th>Name</th>\n",
       "      <th>Team</th>\n",
       "      <th>Number</th>\n",
       "      <th>Position</th>\n",
       "      <th>Age</th>\n",
       "      <th>Height</th>\n",
       "      <th>Weight</th>\n",
       "      <th>College</th>\n",
       "      <th>Salary</th>\n",
       "    </tr>\n",
       "  </thead>\n",
       "  <tbody>\n",
       "    <tr>\n",
       "      <th>0</th>\n",
       "      <td>Avery Bradley</td>\n",
       "      <td>Boston Celtics</td>\n",
       "      <td>0.0</td>\n",
       "      <td>PG</td>\n",
       "      <td>25.0</td>\n",
       "      <td>74.0</td>\n",
       "      <td>180.0</td>\n",
       "      <td>Texas</td>\n",
       "      <td>7730337.0</td>\n",
       "    </tr>\n",
       "    <tr>\n",
       "      <th>1</th>\n",
       "      <td>Jae Crowder</td>\n",
       "      <td>Boston Celtics</td>\n",
       "      <td>99.0</td>\n",
       "      <td>SF</td>\n",
       "      <td>25.0</td>\n",
       "      <td>78.0</td>\n",
       "      <td>235.0</td>\n",
       "      <td>Marquette</td>\n",
       "      <td>6796117.0</td>\n",
       "    </tr>\n",
       "    <tr>\n",
       "      <th>3</th>\n",
       "      <td>R.J. Hunter</td>\n",
       "      <td>Boston Celtics</td>\n",
       "      <td>28.0</td>\n",
       "      <td>SG</td>\n",
       "      <td>22.0</td>\n",
       "      <td>77.0</td>\n",
       "      <td>185.0</td>\n",
       "      <td>Georgia State</td>\n",
       "      <td>1148640.0</td>\n",
       "    </tr>\n",
       "    <tr>\n",
       "      <th>6</th>\n",
       "      <td>Jordan Mickey</td>\n",
       "      <td>Boston Celtics</td>\n",
       "      <td>55.0</td>\n",
       "      <td>PF</td>\n",
       "      <td>21.0</td>\n",
       "      <td>80.0</td>\n",
       "      <td>235.0</td>\n",
       "      <td>LSU</td>\n",
       "      <td>1170960.0</td>\n",
       "    </tr>\n",
       "    <tr>\n",
       "      <th>7</th>\n",
       "      <td>Kelly Olynyk</td>\n",
       "      <td>Boston Celtics</td>\n",
       "      <td>41.0</td>\n",
       "      <td>C</td>\n",
       "      <td>25.0</td>\n",
       "      <td>84.0</td>\n",
       "      <td>238.0</td>\n",
       "      <td>Gonzaga</td>\n",
       "      <td>2165160.0</td>\n",
       "    </tr>\n",
       "    <tr>\n",
       "      <th>...</th>\n",
       "      <td>...</td>\n",
       "      <td>...</td>\n",
       "      <td>...</td>\n",
       "      <td>...</td>\n",
       "      <td>...</td>\n",
       "      <td>...</td>\n",
       "      <td>...</td>\n",
       "      <td>...</td>\n",
       "      <td>...</td>\n",
       "    </tr>\n",
       "    <tr>\n",
       "      <th>449</th>\n",
       "      <td>Rodney Hood</td>\n",
       "      <td>Utah Jazz</td>\n",
       "      <td>5.0</td>\n",
       "      <td>SG</td>\n",
       "      <td>23.0</td>\n",
       "      <td>80.0</td>\n",
       "      <td>206.0</td>\n",
       "      <td>Duke</td>\n",
       "      <td>1348440.0</td>\n",
       "    </tr>\n",
       "    <tr>\n",
       "      <th>451</th>\n",
       "      <td>Chris Johnson</td>\n",
       "      <td>Utah Jazz</td>\n",
       "      <td>23.0</td>\n",
       "      <td>SF</td>\n",
       "      <td>26.0</td>\n",
       "      <td>78.0</td>\n",
       "      <td>206.0</td>\n",
       "      <td>Dayton</td>\n",
       "      <td>981348.0</td>\n",
       "    </tr>\n",
       "    <tr>\n",
       "      <th>452</th>\n",
       "      <td>Trey Lyles</td>\n",
       "      <td>Utah Jazz</td>\n",
       "      <td>41.0</td>\n",
       "      <td>PF</td>\n",
       "      <td>20.0</td>\n",
       "      <td>82.0</td>\n",
       "      <td>234.0</td>\n",
       "      <td>Kentucky</td>\n",
       "      <td>2239800.0</td>\n",
       "    </tr>\n",
       "    <tr>\n",
       "      <th>453</th>\n",
       "      <td>Shelvin Mack</td>\n",
       "      <td>Utah Jazz</td>\n",
       "      <td>8.0</td>\n",
       "      <td>PG</td>\n",
       "      <td>26.0</td>\n",
       "      <td>75.0</td>\n",
       "      <td>203.0</td>\n",
       "      <td>Butler</td>\n",
       "      <td>2433333.0</td>\n",
       "    </tr>\n",
       "    <tr>\n",
       "      <th>456</th>\n",
       "      <td>Jeff Withey</td>\n",
       "      <td>Utah Jazz</td>\n",
       "      <td>24.0</td>\n",
       "      <td>C</td>\n",
       "      <td>26.0</td>\n",
       "      <td>84.0</td>\n",
       "      <td>231.0</td>\n",
       "      <td>Kansas</td>\n",
       "      <td>947276.0</td>\n",
       "    </tr>\n",
       "  </tbody>\n",
       "</table>\n",
       "<p>364 rows × 9 columns</p>\n",
       "</div>"
      ],
      "text/plain": [
       "              Name            Team  Number Position   Age  Height  Weight  \\\n",
       "0    Avery Bradley  Boston Celtics     0.0       PG  25.0    74.0   180.0   \n",
       "1      Jae Crowder  Boston Celtics    99.0       SF  25.0    78.0   235.0   \n",
       "3      R.J. Hunter  Boston Celtics    28.0       SG  22.0    77.0   185.0   \n",
       "6    Jordan Mickey  Boston Celtics    55.0       PF  21.0    80.0   235.0   \n",
       "7     Kelly Olynyk  Boston Celtics    41.0        C  25.0    84.0   238.0   \n",
       "..             ...             ...     ...      ...   ...     ...     ...   \n",
       "449    Rodney Hood       Utah Jazz     5.0       SG  23.0    80.0   206.0   \n",
       "451  Chris Johnson       Utah Jazz    23.0       SF  26.0    78.0   206.0   \n",
       "452     Trey Lyles       Utah Jazz    41.0       PF  20.0    82.0   234.0   \n",
       "453   Shelvin Mack       Utah Jazz     8.0       PG  26.0    75.0   203.0   \n",
       "456    Jeff Withey       Utah Jazz    24.0        C  26.0    84.0   231.0   \n",
       "\n",
       "           College     Salary  \n",
       "0            Texas  7730337.0  \n",
       "1        Marquette  6796117.0  \n",
       "3    Georgia State  1148640.0  \n",
       "6              LSU  1170960.0  \n",
       "7          Gonzaga  2165160.0  \n",
       "..             ...        ...  \n",
       "449           Duke  1348440.0  \n",
       "451         Dayton   981348.0  \n",
       "452       Kentucky  2239800.0  \n",
       "453         Butler  2433333.0  \n",
       "456         Kansas   947276.0  \n",
       "\n",
       "[364 rows x 9 columns]"
      ]
     },
     "execution_count": 15,
     "metadata": {},
     "output_type": "execute_result"
    }
   ],
   "source": [
    "data_not_null"
   ]
  },
  {
   "cell_type": "code",
   "execution_count": 16,
   "metadata": {},
   "outputs": [
    {
     "data": {
      "text/html": [
       "<div>\n",
       "<style scoped>\n",
       "    .dataframe tbody tr th:only-of-type {\n",
       "        vertical-align: middle;\n",
       "    }\n",
       "\n",
       "    .dataframe tbody tr th {\n",
       "        vertical-align: top;\n",
       "    }\n",
       "\n",
       "    .dataframe thead th {\n",
       "        text-align: right;\n",
       "    }\n",
       "</style>\n",
       "<table border=\"1\" class=\"dataframe\">\n",
       "  <thead>\n",
       "    <tr style=\"text-align: right;\">\n",
       "      <th></th>\n",
       "      <th>Age</th>\n",
       "      <th>Weight</th>\n",
       "      <th>Height</th>\n",
       "      <th>Salary</th>\n",
       "    </tr>\n",
       "  </thead>\n",
       "  <tbody>\n",
       "    <tr>\n",
       "      <th>0</th>\n",
       "      <td>25.0</td>\n",
       "      <td>180.0</td>\n",
       "      <td>187.96</td>\n",
       "      <td>7730337.0</td>\n",
       "    </tr>\n",
       "    <tr>\n",
       "      <th>1</th>\n",
       "      <td>25.0</td>\n",
       "      <td>235.0</td>\n",
       "      <td>198.12</td>\n",
       "      <td>6796117.0</td>\n",
       "    </tr>\n",
       "    <tr>\n",
       "      <th>3</th>\n",
       "      <td>22.0</td>\n",
       "      <td>185.0</td>\n",
       "      <td>195.58</td>\n",
       "      <td>1148640.0</td>\n",
       "    </tr>\n",
       "  </tbody>\n",
       "</table>\n",
       "</div>"
      ],
      "text/plain": [
       "    Age  Weight  Height     Salary\n",
       "0  25.0   180.0  187.96  7730337.0\n",
       "1  25.0   235.0  198.12  6796117.0\n",
       "3  22.0   185.0  195.58  1148640.0"
      ]
     },
     "execution_count": 16,
     "metadata": {},
     "output_type": "execute_result"
    }
   ],
   "source": [
    "small_data_copy = small_data.copy()\n",
    "#Running on each entry in the column and converting it\n",
    "for value in range(0,len(small_data_copy)):\n",
    "    a=small_data_copy['Height'].iat[value].split('-')\n",
    "    small_data_copy['Height'].iat[value]=(int(a[0])*30.48)+(int(a[1])*2.54)\n",
    "small_data_copy.head(3)"
   ]
  },
  {
   "cell_type": "markdown",
   "metadata": {},
   "source": [
    "$Section C'$"
   ]
  },
  {
   "cell_type": "markdown",
   "metadata": {},
   "source": [
    "**הצגנו בצורות שונות את העמודה של התפקידים**\\\n",
    "**לדעתינו רואים בבירור יותר את ההבדלים בין העמדות השונות בקאונטפלוט ,שבה ניתן לראות את העמודה החזקה ביותר ואת ההפרשים בעמודות השונות לעומת הפאי ששם הפלחים די דומים אחד לשני ולא ניתן לראות שינוי מהותי**\\\n",
    "**[countplot]**"
   ]
  },
  {
   "cell_type": "code",
   "execution_count": 17,
   "metadata": {},
   "outputs": [
    {
     "data": {
      "image/png": "[encoded data removed]",
      "text/plain": [
       "<Figure size 432x288 with 1 Axes>"
      ]
     },
     "metadata": {},
     "output_type": "display_data"
    }
   ],
   "source": [
    "sns.set(style=\"darkgrid\")\n",
    "#Convert column to graphical display of columns\n",
    "ax = sns.countplot(x=\"Position\", data=data)"
   ]
  },
  {
   "cell_type": "code",
   "execution_count": 18,
   "metadata": {},
   "outputs": [
    {
     "data": {
      "text/plain": [
       "<function matplotlib.pyplot.show(*args, **kw)>"
      ]
     },
     "execution_count": 18,
     "metadata": {},
     "output_type": "execute_result"
    },
    {
     "data": {
      "image/png": "[encoded data removed]",
      "text/plain": [
       "<Figure size 432x288 with 1 Axes>"
      ]
     },
     "metadata": {},
     "output_type": "display_data"
    }
   ],
   "source": [
    "plt.title('POSITION_PIE')\n",
    "#Convert column to graphical display of pie\n",
    "data['Position'].value_counts().plot.pie(autopct=\"%1.1f%%\")\n",
    "plt.show"
   ]
  },
  {
   "cell_type": "markdown",
   "metadata": {},
   "source": [
    "$Section D'$"
   ]
  },
  {
   "cell_type": "markdown",
   "metadata": {},
   "source": [
    "**יצירת המאפיינים (הפיצרס)שיכילו את החיזוי וגם את הטרגט (לייבל)וחלוקת הקובץ ל30 אחוז למבחן ו70 אחוז אימון**"
   ]
  },
  {
   "cell_type": "code",
   "execution_count": 19,
   "metadata": {},
   "outputs": [
    {
     "data": {
      "text/html": [
       "<div>\n",
       "<style scoped>\n",
       "    .dataframe tbody tr th:only-of-type {\n",
       "        vertical-align: middle;\n",
       "    }\n",
       "\n",
       "    .dataframe tbody tr th {\n",
       "        vertical-align: top;\n",
       "    }\n",
       "\n",
       "    .dataframe thead th {\n",
       "        text-align: right;\n",
       "    }\n",
       "</style>\n",
       "<table border=\"1\" class=\"dataframe\">\n",
       "  <thead>\n",
       "    <tr style=\"text-align: right;\">\n",
       "      <th></th>\n",
       "      <th>Weight</th>\n",
       "      <th>Height</th>\n",
       "      <th>Age</th>\n",
       "    </tr>\n",
       "  </thead>\n",
       "  <tbody>\n",
       "    <tr>\n",
       "      <th>28</th>\n",
       "      <td>205.0</td>\n",
       "      <td>190.5</td>\n",
       "      <td>28.0</td>\n",
       "    </tr>\n",
       "    <tr>\n",
       "      <th>162</th>\n",
       "      <td>232.0</td>\n",
       "      <td>210.82</td>\n",
       "      <td>31.0</td>\n",
       "    </tr>\n",
       "    <tr>\n",
       "      <th>272</th>\n",
       "      <td>230.0</td>\n",
       "      <td>195.58</td>\n",
       "      <td>25.0</td>\n",
       "    </tr>\n",
       "    <tr>\n",
       "      <th>136</th>\n",
       "      <td>240.0</td>\n",
       "      <td>200.66</td>\n",
       "      <td>25.0</td>\n",
       "    </tr>\n",
       "    <tr>\n",
       "      <th>64</th>\n",
       "      <td>220.0</td>\n",
       "      <td>200.66</td>\n",
       "      <td>26.0</td>\n",
       "    </tr>\n",
       "  </tbody>\n",
       "</table>\n",
       "</div>"
      ],
      "text/plain": [
       "     Weight  Height   Age\n",
       "28    205.0   190.5  28.0\n",
       "162   232.0  210.82  31.0\n",
       "272   230.0  195.58  25.0\n",
       "136   240.0  200.66  25.0\n",
       "64    220.0  200.66  26.0"
      ]
     },
     "execution_count": 19,
     "metadata": {},
     "output_type": "execute_result"
    }
   ],
   "source": [
    "features = ['Weight','Height','Age']\n",
    "X = small_data_copy[features]\n",
    "y = small_data_copy['Salary']\n",
    "X_train, X_test, y_train, y_test = sk.model_selection.train_test_split(X, y, test_size=0.3, random_state=1)\n",
    "X_train.head(5)#for the train"
   ]
  },
  {
   "cell_type": "code",
   "execution_count": 20,
   "metadata": {},
   "outputs": [
    {
     "data": {
      "text/plain": [
       "308     1499187.0\n",
       "252     2489530.0\n",
       "117      981348.0\n",
       "168    16407501.0\n",
       "282      169883.0\n",
       "Name: Salary, dtype: float64"
      ]
     },
     "execution_count": 20,
     "metadata": {},
     "output_type": "execute_result"
    }
   ],
   "source": [
    "y_test.head(5)#for the test"
   ]
  },
  {
   "cell_type": "markdown",
   "metadata": {},
   "source": [
    "$Section E'$"
   ]
  },
  {
   "cell_type": "markdown",
   "metadata": {},
   "source": [
    "**התאמנו מודל לאימון ובחרנו להשתמש במודל רציף משום שמדובר על חיזוי במספרים(משכורות),המודל משתמש בשיטות מתמטיות לחיזוי לכן במקרה שלנו הוא יעיל יותר לנתונים שלנו (שכר)**"
   ]
  },
  {
   "cell_type": "code",
   "execution_count": 21,
   "metadata": {},
   "outputs": [
    {
     "data": {
      "text/plain": [
       "DecisionTreeRegressor(random_state=33)"
      ]
     },
     "execution_count": 21,
     "metadata": {},
     "output_type": "execute_result"
    }
   ],
   "source": [
    "model = DecisionTreeRegressor(random_state=33)\n",
    "model.fit(X_train,y_train)"
   ]
  },
  {
   "cell_type": "markdown",
   "metadata": {},
   "source": [
    "$Section F'$"
   ]
  },
  {
   "cell_type": "markdown",
   "metadata": {},
   "source": [
    "**ביצענו חיזוי לשכר השחקנים וחישבנו את סטיית התקן(הדיוק)**"
   ]
  },
  {
   "cell_type": "code",
   "execution_count": 22,
   "metadata": {},
   "outputs": [],
   "source": [
    "def eval(x_test,y_test,model):\n",
    "    pred = model.predict(x_test)\n",
    "    print(\"MSE: {:.3f}\".format(mean_squared_error(pred,y_test,squared=False)))\n",
    "    pd.DataFrame(pred)"
   ]
  },
  {
   "cell_type": "code",
   "execution_count": 23,
   "metadata": {},
   "outputs": [
    {
     "name": "stdout",
     "output_type": "stream",
     "text": [
      "MSE: 7126107.064\n"
     ]
    }
   ],
   "source": [
    "eval(X_test,y_test,model)"
   ]
  },
  {
   "cell_type": "markdown",
   "metadata": {},
   "source": [
    "$Section G'$"
   ]
  },
  {
   "cell_type": "markdown",
   "metadata": {},
   "source": [
    "**קודם כל לפני הוספת העמודה היינו צריכים לתקן את העמודה ,תיקנו את העמודה שתהפוך לערכים מספריים על מנת שנוכל לבצע איתה חיזוי מספרי**\\\n",
    "**שינוי העמודה לסוג קטגורי**"
   ]
  },
  {
   "cell_type": "code",
   "execution_count": 46,
   "metadata": {},
   "outputs": [
    {
     "data": {
      "text/html": [
       "<div>\n",
       "<style scoped>\n",
       "    .dataframe tbody tr th:only-of-type {\n",
       "        vertical-align: middle;\n",
       "    }\n",
       "\n",
       "    .dataframe tbody tr th {\n",
       "        vertical-align: top;\n",
       "    }\n",
       "\n",
       "    .dataframe thead th {\n",
       "        text-align: right;\n",
       "    }\n",
       "</style>\n",
       "<table border=\"1\" class=\"dataframe\">\n",
       "  <thead>\n",
       "    <tr style=\"text-align: right;\">\n",
       "      <th></th>\n",
       "      <th>Position</th>\n",
       "    </tr>\n",
       "  </thead>\n",
       "  <tbody>\n",
       "    <tr>\n",
       "      <th>0</th>\n",
       "      <td>2</td>\n",
       "    </tr>\n",
       "    <tr>\n",
       "      <th>1</th>\n",
       "      <td>3</td>\n",
       "    </tr>\n",
       "    <tr>\n",
       "      <th>3</th>\n",
       "      <td>4</td>\n",
       "    </tr>\n",
       "    <tr>\n",
       "      <th>6</th>\n",
       "      <td>1</td>\n",
       "    </tr>\n",
       "    <tr>\n",
       "      <th>7</th>\n",
       "      <td>0</td>\n",
       "    </tr>\n",
       "    <tr>\n",
       "      <th>...</th>\n",
       "      <td>...</td>\n",
       "    </tr>\n",
       "    <tr>\n",
       "      <th>449</th>\n",
       "      <td>4</td>\n",
       "    </tr>\n",
       "    <tr>\n",
       "      <th>451</th>\n",
       "      <td>3</td>\n",
       "    </tr>\n",
       "    <tr>\n",
       "      <th>452</th>\n",
       "      <td>1</td>\n",
       "    </tr>\n",
       "    <tr>\n",
       "      <th>453</th>\n",
       "      <td>2</td>\n",
       "    </tr>\n",
       "    <tr>\n",
       "      <th>456</th>\n",
       "      <td>0</td>\n",
       "    </tr>\n",
       "  </tbody>\n",
       "</table>\n",
       "<p>364 rows × 1 columns</p>\n",
       "</div>"
      ],
      "text/plain": [
       "     Position\n",
       "0           2\n",
       "1           3\n",
       "3           4\n",
       "6           1\n",
       "7           0\n",
       "..        ...\n",
       "449         4\n",
       "451         3\n",
       "452         1\n",
       "453         2\n",
       "456         0\n",
       "\n",
       "[364 rows x 1 columns]"
      ]
     },
     "execution_count": 46,
     "metadata": {},
     "output_type": "execute_result"
    }
   ],
   "source": [
    "small_data_copy['Position'] = data['Position'].astype('category').cat.codes\n",
    "small_data_copy[['Position']] "
   ]
  },
  {
   "cell_type": "markdown",
   "metadata": {},
   "source": [
    "**ביצוע המודל מחדש**\\\n",
    "**כפי שניתן לראות המודל פחות טוב מהמודל הקודם עקב סטיית תקן גדולה יותר**\\\n",
    "**(mse)**"
   ]
  },
  {
   "cell_type": "code",
   "execution_count": 47,
   "metadata": {},
   "outputs": [
    {
     "name": "stdout",
     "output_type": "stream",
     "text": [
      "MSE: 7334744.328\n"
     ]
    }
   ],
   "source": [
    "features = ['Weight','Height','Age','Position']\n",
    "X = small_data_copy[features]\n",
    "y = small_data_copy['Salary']\n",
    "X_train, X_test, y_train, y_test = sk.model_selection.train_test_split(X, y, test_size=0.3, random_state=1)\n",
    "model = DecisionTreeRegressor(random_state=33)\n",
    "model.fit(X_train,y_train)\n",
    "eval(X_test,y_test,model)"
   ]
  },
  {
   "cell_type": "markdown",
   "metadata": {},
   "source": [
    "$Section H'$"
   ]
  },
  {
   "cell_type": "markdown",
   "metadata": {},
   "source": [
    "**כעת יצרנו מודל עם הגבלת עומק העץ על מנת לשפר את החיזוי שלנו**\\\n",
    "**בחרנו בעומק 3 וכפי שניתן לראות סטיית התקן קטנה יותר מה שמעיד על חיזוי מוצלח יותר**"
   ]
  },
  {
   "cell_type": "code",
   "execution_count": 48,
   "metadata": {},
   "outputs": [
    {
     "name": "stdout",
     "output_type": "stream",
     "text": [
      "MSE: 4912636.747\n"
     ]
    }
   ],
   "source": [
    "model = DecisionTreeRegressor(max_depth=3,random_state=33)\n",
    "model.fit(X_train,y_train)\n",
    "eval(X_test,y_test,model)"
   ]
  },
  {
   "cell_type": "markdown",
   "metadata": {},
   "source": [
    "# matala 5"
   ]
  },
  {
   "cell_type": "code",
   "execution_count": 51,
   "metadata": {},
   "outputs": [],
   "source": [
    "import pandas as pd\n",
    "import numpy as np\n",
    "import matplotlib.pyplot as plt\n",
    "import seaborn as sns\n",
    "import sklearn as sk\n",
    "from sklearn import tree\n",
    "from sklearn.tree import DecisionTreeClassifier\n",
    "from sklearn.model_selection import train_test_split\n",
    "from sklearn.metrics import mean_squared_error as mse\n"
   ]
  },
  {
   "cell_type": "markdown",
   "metadata": {},
   "source": [
    "Uncomment in case two students are doing the assignment together:"
   ]
  },
  {
   "cell_type": "code",
   "execution_count": 52,
   "metadata": {},
   "outputs": [
    {
     "data": {
      "text/html": [
       "<div>\n",
       "<style scoped>\n",
       "    .dataframe tbody tr th:only-of-type {\n",
       "        vertical-align: middle;\n",
       "    }\n",
       "\n",
       "    .dataframe tbody tr th {\n",
       "        vertical-align: top;\n",
       "    }\n",
       "\n",
       "    .dataframe thead th {\n",
       "        text-align: right;\n",
       "    }\n",
       "</style>\n",
       "<table border=\"1\" class=\"dataframe\">\n",
       "  <thead>\n",
       "    <tr style=\"text-align: right;\">\n",
       "      <th></th>\n",
       "      <th>Unnamed: 0</th>\n",
       "      <th>Date</th>\n",
       "      <th>AveragePrice</th>\n",
       "      <th>total_sold</th>\n",
       "      <th>small_sold</th>\n",
       "      <th>large_sold</th>\n",
       "      <th>sma</th>\n",
       "      <th>Total Bags</th>\n",
       "      <th>Small Bags</th>\n",
       "      <th>Large Bags</th>\n",
       "      <th>XLarge Bags</th>\n",
       "      <th>type</th>\n",
       "      <th>year</th>\n",
       "      <th>region</th>\n",
       "    </tr>\n",
       "  </thead>\n",
       "  <tbody>\n",
       "    <tr>\n",
       "      <th>0</th>\n",
       "      <td>0</td>\n",
       "      <td>27/12/2015</td>\n",
       "      <td>1.33</td>\n",
       "      <td>64236.62</td>\n",
       "      <td>1036.74</td>\n",
       "      <td>54454.85</td>\n",
       "      <td>48.16</td>\n",
       "      <td>8696.87</td>\n",
       "      <td>8603.62</td>\n",
       "      <td>93.25</td>\n",
       "      <td>0.0</td>\n",
       "      <td>conventional</td>\n",
       "      <td>2015</td>\n",
       "      <td>Albany</td>\n",
       "    </tr>\n",
       "    <tr>\n",
       "      <th>1</th>\n",
       "      <td>1</td>\n",
       "      <td>20/12/2015</td>\n",
       "      <td>1.35</td>\n",
       "      <td>54876.98</td>\n",
       "      <td>674.28</td>\n",
       "      <td>44638.81</td>\n",
       "      <td>58.33</td>\n",
       "      <td>9505.56</td>\n",
       "      <td>9408.07</td>\n",
       "      <td>97.49</td>\n",
       "      <td>0.0</td>\n",
       "      <td>conventional</td>\n",
       "      <td>2015</td>\n",
       "      <td>Albany</td>\n",
       "    </tr>\n",
       "    <tr>\n",
       "      <th>2</th>\n",
       "      <td>2</td>\n",
       "      <td>13/12/2015</td>\n",
       "      <td>0.93</td>\n",
       "      <td>118220.22</td>\n",
       "      <td>794.70</td>\n",
       "      <td>109149.67</td>\n",
       "      <td>130.50</td>\n",
       "      <td>8145.35</td>\n",
       "      <td>8042.21</td>\n",
       "      <td>103.14</td>\n",
       "      <td>0.0</td>\n",
       "      <td>conventional</td>\n",
       "      <td>2015</td>\n",
       "      <td>Albany</td>\n",
       "    </tr>\n",
       "    <tr>\n",
       "      <th>3</th>\n",
       "      <td>3</td>\n",
       "      <td>06/12/2015</td>\n",
       "      <td>1.08</td>\n",
       "      <td>78992.15</td>\n",
       "      <td>1132.00</td>\n",
       "      <td>71976.41</td>\n",
       "      <td>72.58</td>\n",
       "      <td>5811.16</td>\n",
       "      <td>5677.40</td>\n",
       "      <td>133.76</td>\n",
       "      <td>0.0</td>\n",
       "      <td>conventional</td>\n",
       "      <td>2015</td>\n",
       "      <td>Albany</td>\n",
       "    </tr>\n",
       "    <tr>\n",
       "      <th>4</th>\n",
       "      <td>4</td>\n",
       "      <td>29/11/2015</td>\n",
       "      <td>1.28</td>\n",
       "      <td>51039.60</td>\n",
       "      <td>941.48</td>\n",
       "      <td>43838.39</td>\n",
       "      <td>75.78</td>\n",
       "      <td>6183.95</td>\n",
       "      <td>5986.26</td>\n",
       "      <td>197.69</td>\n",
       "      <td>0.0</td>\n",
       "      <td>conventional</td>\n",
       "      <td>2015</td>\n",
       "      <td>Albany</td>\n",
       "    </tr>\n",
       "  </tbody>\n",
       "</table>\n",
       "</div>"
      ],
      "text/plain": [
       "   Unnamed: 0        Date  AveragePrice  total_sold  small_sold  large_sold  \\\n",
       "0           0  27/12/2015          1.33    64236.62     1036.74    54454.85   \n",
       "1           1  20/12/2015          1.35    54876.98      674.28    44638.81   \n",
       "2           2  13/12/2015          0.93   118220.22      794.70   109149.67   \n",
       "3           3  06/12/2015          1.08    78992.15     1132.00    71976.41   \n",
       "4           4  29/11/2015          1.28    51039.60      941.48    43838.39   \n",
       "\n",
       "      sma  Total Bags  Small Bags  Large Bags  XLarge Bags          type  \\\n",
       "0   48.16     8696.87     8603.62       93.25          0.0  conventional   \n",
       "1   58.33     9505.56     9408.07       97.49          0.0  conventional   \n",
       "2  130.50     8145.35     8042.21      103.14          0.0  conventional   \n",
       "3   72.58     5811.16     5677.40      133.76          0.0  conventional   \n",
       "4   75.78     6183.95     5986.26      197.69          0.0  conventional   \n",
       "\n",
       "   year  region  \n",
       "0  2015  Albany  \n",
       "1  2015  Albany  \n",
       "2  2015  Albany  \n",
       "3  2015  Albany  \n",
       "4  2015  Albany  "
      ]
     },
     "execution_count": 52,
     "metadata": {},
     "output_type": "execute_result"
    }
   ],
   "source": [
    "url = 'https://raw.githubusercontent.com/nlihin/data-analytics/main/datasets/avocado.csv'\n",
    "data = pd.read_csv(url)\n",
    "data.head()"
   ]
  },
  {
   "cell_type": "code",
   "execution_count": 53,
   "metadata": {},
   "outputs": [
    {
     "data": {
      "text/plain": [
       "Unnamed: 0        int64\n",
       "Date             object\n",
       "AveragePrice    float64\n",
       "total_sold      float64\n",
       "small_sold      float64\n",
       "large_sold      float64\n",
       "sma             float64\n",
       "Total Bags      float64\n",
       "Small Bags      float64\n",
       "Large Bags      float64\n",
       "XLarge Bags     float64\n",
       "type             object\n",
       "year              int64\n",
       "region           object\n",
       "dtype: object"
      ]
     },
     "execution_count": 53,
     "metadata": {},
     "output_type": "execute_result"
    }
   ],
   "source": [
    "data.dtypes"
   ]
  },
  {
   "cell_type": "markdown",
   "metadata": {},
   "source": [
    "# Q1 "
   ]
  },
  {
   "cell_type": "markdown",
   "metadata": {},
   "source": [
    "**ניצור פיבבוט טייבל שהאינדקסים שלה הם השנה והאזור והערכים שלה הם המכירות בסה\"כ**"
   ]
  },
  {
   "cell_type": "code",
   "execution_count": 54,
   "metadata": {},
   "outputs": [
    {
     "data": {
      "text/html": [
       "<div>\n",
       "<style scoped>\n",
       "    .dataframe tbody tr th:only-of-type {\n",
       "        vertical-align: middle;\n",
       "    }\n",
       "\n",
       "    .dataframe tbody tr th {\n",
       "        vertical-align: top;\n",
       "    }\n",
       "\n",
       "    .dataframe thead th {\n",
       "        text-align: right;\n",
       "    }\n",
       "</style>\n",
       "<table border=\"1\" class=\"dataframe\">\n",
       "  <thead>\n",
       "    <tr style=\"text-align: right;\">\n",
       "      <th></th>\n",
       "      <th></th>\n",
       "      <th>total_sold</th>\n",
       "    </tr>\n",
       "    <tr>\n",
       "      <th>region</th>\n",
       "      <th>year</th>\n",
       "      <th></th>\n",
       "    </tr>\n",
       "  </thead>\n",
       "  <tbody>\n",
       "    <tr>\n",
       "      <th rowspan=\"4\" valign=\"top\">Albany</th>\n",
       "      <th>2015</th>\n",
       "      <td>4029896.43</td>\n",
       "    </tr>\n",
       "    <tr>\n",
       "      <th>2016</th>\n",
       "      <td>5264335.59</td>\n",
       "    </tr>\n",
       "    <tr>\n",
       "      <th>2017</th>\n",
       "      <td>5231581.78</td>\n",
       "    </tr>\n",
       "    <tr>\n",
       "      <th>2018</th>\n",
       "      <td>1541986.17</td>\n",
       "    </tr>\n",
       "    <tr>\n",
       "      <th rowspan=\"4\" valign=\"top\">Atlanta</th>\n",
       "      <th>2015</th>\n",
       "      <td>23231698.12</td>\n",
       "    </tr>\n",
       "    <tr>\n",
       "      <th>2016</th>\n",
       "      <td>28326878.30</td>\n",
       "    </tr>\n",
       "    <tr>\n",
       "      <th>2017</th>\n",
       "      <td>28815119.98</td>\n",
       "    </tr>\n",
       "    <tr>\n",
       "      <th>2018</th>\n",
       "      <td>8231422.45</td>\n",
       "    </tr>\n",
       "    <tr>\n",
       "      <th rowspan=\"2\" valign=\"top\">BaltimoreWashington</th>\n",
       "      <th>2015</th>\n",
       "      <td>40645579.54</td>\n",
       "    </tr>\n",
       "    <tr>\n",
       "      <th>2016</th>\n",
       "      <td>40893802.32</td>\n",
       "    </tr>\n",
       "  </tbody>\n",
       "</table>\n",
       "</div>"
      ],
      "text/plain": [
       "                           total_sold\n",
       "region              year             \n",
       "Albany              2015   4029896.43\n",
       "                    2016   5264335.59\n",
       "                    2017   5231581.78\n",
       "                    2018   1541986.17\n",
       "Atlanta             2015  23231698.12\n",
       "                    2016  28326878.30\n",
       "                    2017  28815119.98\n",
       "                    2018   8231422.45\n",
       "BaltimoreWashington 2015  40645579.54\n",
       "                    2016  40893802.32"
      ]
     },
     "execution_count": 54,
     "metadata": {},
     "output_type": "execute_result"
    }
   ],
   "source": [
    "pd.pivot_table(\n",
    "    data,index = ['region',\"year\"], values = ['total_sold'],aggfunc='sum').head(10)\n"
   ]
  },
  {
   "cell_type": "markdown",
   "metadata": {},
   "source": [
    "# Q2"
   ]
  },
  {
   "cell_type": "markdown",
   "metadata": {},
   "source": [
    "**יצרנו דאטה חדש עם האזור דטרויט ובנוסף לקחנו רק נתונים מ2016**"
   ]
  },
  {
   "cell_type": "code",
   "execution_count": 55,
   "metadata": {},
   "outputs": [
    {
     "data": {
      "text/html": [
       "<div>\n",
       "<style scoped>\n",
       "    .dataframe tbody tr th:only-of-type {\n",
       "        vertical-align: middle;\n",
       "    }\n",
       "\n",
       "    .dataframe tbody tr th {\n",
       "        vertical-align: top;\n",
       "    }\n",
       "\n",
       "    .dataframe thead th {\n",
       "        text-align: right;\n",
       "    }\n",
       "</style>\n",
       "<table border=\"1\" class=\"dataframe\">\n",
       "  <thead>\n",
       "    <tr style=\"text-align: right;\">\n",
       "      <th></th>\n",
       "      <th>Unnamed: 0</th>\n",
       "      <th>Date</th>\n",
       "      <th>AveragePrice</th>\n",
       "      <th>total_sold</th>\n",
       "      <th>small_sold</th>\n",
       "      <th>large_sold</th>\n",
       "      <th>sma</th>\n",
       "      <th>Total Bags</th>\n",
       "      <th>Small Bags</th>\n",
       "      <th>Large Bags</th>\n",
       "      <th>XLarge Bags</th>\n",
       "      <th>type</th>\n",
       "      <th>year</th>\n",
       "      <th>region</th>\n",
       "    </tr>\n",
       "  </thead>\n",
       "  <tbody>\n",
       "    <tr>\n",
       "      <th>12656</th>\n",
       "      <td>47</td>\n",
       "      <td>31/01/2016</td>\n",
       "      <td>1.46</td>\n",
       "      <td>10303.61</td>\n",
       "      <td>1820.34</td>\n",
       "      <td>5379.14</td>\n",
       "      <td>0.0</td>\n",
       "      <td>3104.13</td>\n",
       "      <td>466.67</td>\n",
       "      <td>2637.46</td>\n",
       "      <td>0.0</td>\n",
       "      <td>organic</td>\n",
       "      <td>2016</td>\n",
       "      <td>Detroit</td>\n",
       "    </tr>\n",
       "    <tr>\n",
       "      <th>12657</th>\n",
       "      <td>48</td>\n",
       "      <td>24/01/2016</td>\n",
       "      <td>1.24</td>\n",
       "      <td>13050.86</td>\n",
       "      <td>1591.60</td>\n",
       "      <td>5173.38</td>\n",
       "      <td>0.0</td>\n",
       "      <td>6285.88</td>\n",
       "      <td>736.67</td>\n",
       "      <td>5549.21</td>\n",
       "      <td>0.0</td>\n",
       "      <td>organic</td>\n",
       "      <td>2016</td>\n",
       "      <td>Detroit</td>\n",
       "    </tr>\n",
       "    <tr>\n",
       "      <th>12658</th>\n",
       "      <td>49</td>\n",
       "      <td>17/01/2016</td>\n",
       "      <td>1.73</td>\n",
       "      <td>10928.62</td>\n",
       "      <td>2686.57</td>\n",
       "      <td>6590.28</td>\n",
       "      <td>0.0</td>\n",
       "      <td>1651.77</td>\n",
       "      <td>455.94</td>\n",
       "      <td>1195.83</td>\n",
       "      <td>0.0</td>\n",
       "      <td>organic</td>\n",
       "      <td>2016</td>\n",
       "      <td>Detroit</td>\n",
       "    </tr>\n",
       "    <tr>\n",
       "      <th>12659</th>\n",
       "      <td>50</td>\n",
       "      <td>10/01/2016</td>\n",
       "      <td>1.48</td>\n",
       "      <td>13098.80</td>\n",
       "      <td>4763.82</td>\n",
       "      <td>6356.70</td>\n",
       "      <td>0.0</td>\n",
       "      <td>1978.28</td>\n",
       "      <td>615.29</td>\n",
       "      <td>1362.99</td>\n",
       "      <td>0.0</td>\n",
       "      <td>organic</td>\n",
       "      <td>2016</td>\n",
       "      <td>Detroit</td>\n",
       "    </tr>\n",
       "    <tr>\n",
       "      <th>12660</th>\n",
       "      <td>51</td>\n",
       "      <td>03/01/2016</td>\n",
       "      <td>1.57</td>\n",
       "      <td>8032.68</td>\n",
       "      <td>1673.67</td>\n",
       "      <td>5173.13</td>\n",
       "      <td>0.0</td>\n",
       "      <td>1185.88</td>\n",
       "      <td>196.67</td>\n",
       "      <td>989.21</td>\n",
       "      <td>0.0</td>\n",
       "      <td>organic</td>\n",
       "      <td>2016</td>\n",
       "      <td>Detroit</td>\n",
       "    </tr>\n",
       "  </tbody>\n",
       "</table>\n",
       "</div>"
      ],
      "text/plain": [
       "       Unnamed: 0        Date  AveragePrice  total_sold  small_sold  \\\n",
       "12656          47  31/01/2016          1.46    10303.61     1820.34   \n",
       "12657          48  24/01/2016          1.24    13050.86     1591.60   \n",
       "12658          49  17/01/2016          1.73    10928.62     2686.57   \n",
       "12659          50  10/01/2016          1.48    13098.80     4763.82   \n",
       "12660          51  03/01/2016          1.57     8032.68     1673.67   \n",
       "\n",
       "       large_sold  sma  Total Bags  Small Bags  Large Bags  XLarge Bags  \\\n",
       "12656     5379.14  0.0     3104.13      466.67     2637.46          0.0   \n",
       "12657     5173.38  0.0     6285.88      736.67     5549.21          0.0   \n",
       "12658     6590.28  0.0     1651.77      455.94     1195.83          0.0   \n",
       "12659     6356.70  0.0     1978.28      615.29     1362.99          0.0   \n",
       "12660     5173.13  0.0     1185.88      196.67      989.21          0.0   \n",
       "\n",
       "          type  year   region  \n",
       "12656  organic  2016  Detroit  \n",
       "12657  organic  2016  Detroit  \n",
       "12658  organic  2016  Detroit  \n",
       "12659  organic  2016  Detroit  \n",
       "12660  organic  2016  Detroit  "
      ]
     },
     "execution_count": 55,
     "metadata": {},
     "output_type": "execute_result"
    }
   ],
   "source": [
    "new_data=data.loc[data[\"region\"].str.contains('Detroit')].copy()\n",
    "new_data=new_data[new_data[\"year\"]==2016  ]\n",
    "new_data.tail()"
   ]
  },
  {
   "cell_type": "markdown",
   "metadata": {},
   "source": [
    "# Q3"
   ]
  },
  {
   "cell_type": "markdown",
   "metadata": {},
   "source": [
    "**ממוצע של המכירות הכוללות בדאטה החדש**"
   ]
  },
  {
   "cell_type": "code",
   "execution_count": 56,
   "metadata": {},
   "outputs": [
    {
     "data": {
      "text/plain": [
       "181802.48557692312"
      ]
     },
     "execution_count": 56,
     "metadata": {},
     "output_type": "execute_result"
    }
   ],
   "source": [
    "new_data[\"total_sold\"].mean()"
   ]
  },
  {
   "cell_type": "markdown",
   "metadata": {},
   "source": [
    "# Q4"
   ]
  },
  {
   "cell_type": "markdown",
   "metadata": {},
   "source": [
    "ניצור עמודה חדשה ונכניס אליה את החודשים אחר כך נבחר את החודש הרצוי ואת העמודה הרצויה ונסכום"
   ]
  },
  {
   "cell_type": "code",
   "execution_count": 57,
   "metadata": {},
   "outputs": [
    {
     "data": {
      "text/plain": [
       "427020.06"
      ]
     },
     "execution_count": 57,
     "metadata": {},
     "output_type": "execute_result"
    }
   ],
   "source": [
    "new_data['month'] = pd.DatetimeIndex(new_data.Date).month\n",
    "new_data.loc[new_data[\"month\"]==9][\"Total Bags\"].sum()"
   ]
  },
  {
   "cell_type": "markdown",
   "metadata": {},
   "source": [
    "# Q5"
   ]
  },
  {
   "cell_type": "markdown",
   "metadata": {},
   "source": [
    "**ניצור פיבוט טייבל לפי הסוג והמכירות הכלליות ואז ניצור לו בר לפוט **"
   ]
  },
  {
   "cell_type": "code",
   "execution_count": 58,
   "metadata": {},
   "outputs": [
    {
     "data": {
      "text/plain": [
       "<AxesSubplot:xlabel='type', ylabel='total_sold'>"
      ]
     },
     "execution_count": 58,
     "metadata": {},
     "output_type": "execute_result"
    },
    {
     "data": {
      "image/png": "[encoded data removed]",
      "text/plain": [
       "<Figure size 432x288 with 1 Axes>"
      ]
     },
     "metadata": {},
     "output_type": "display_data"
    }
   ],
   "source": [
    "sns.set(style='darkgrid',font_scale=1.6)\n",
    "sns.barplot(x=\"type\" ,y=\"total_sold\", hue=\"type\",estimator = sum,data=data)"
   ]
  },
  {
   "cell_type": "markdown",
   "metadata": {},
   "source": [
    "# Q6"
   ]
  },
  {
   "cell_type": "markdown",
   "metadata": {},
   "source": [
    "**ראשית נעביר את עמודצת הסוג לערכים מספריים על מנת שנוכל לעבוד איתה**"
   ]
  },
  {
   "cell_type": "code",
   "execution_count": 59,
   "metadata": {},
   "outputs": [],
   "source": [
    "data[\"type\"]=data[\"type\"].astype(\"category\").cat.codes\n"
   ]
  },
  {
   "cell_type": "markdown",
   "metadata": {},
   "source": [
    "**ניצור קורלציה בין העמודות המבוקשות**"
   ]
  },
  {
   "cell_type": "code",
   "execution_count": 60,
   "metadata": {},
   "outputs": [
    {
     "data": {
      "text/plain": [
       "<AxesSubplot:>"
      ]
     },
     "execution_count": 60,
     "metadata": {},
     "output_type": "execute_result"
    },
    {
     "data": {
      "text/plain": [
       "<Figure size 432x288 with 0 Axes>"
      ]
     },
     "metadata": {},
     "output_type": "display_data"
    },
    {
     "data": {
      "image/png": "[encoded data removed]",
      "text/plain": [
       "<Figure size 864x504 with 2 Axes>"
      ]
     },
     "metadata": {},
     "output_type": "display_data"
    }
   ],
   "source": [
    "features = ['total_sold', 'Total Bags', 'AveragePrice', 'type']\n",
    "\n",
    "# continue here\n",
    "corr=data[features].corr(method='spearman').copy()\n",
    "corr\n",
    "fig = plt.figure()\n",
    "plt.figure(figsize=(12,7))\n",
    "sns.heatmap(corr, cmap='coolwarm', center=0, annot = True)"
   ]
  },
  {
   "cell_type": "markdown",
   "metadata": {},
   "source": [
    "**ניתן לראות שהקורלציה בין המכירות של אבוקדו לבין שקים היא הכי גבוה לכן נשתמש בה לסעיף הבא**"
   ]
  },
  {
   "cell_type": "markdown",
   "metadata": {},
   "source": [
    "# Q7"
   ]
  },
  {
   "cell_type": "markdown",
   "metadata": {},
   "source": [
    "**ניצור סקטרפלוט עם הקורלציה החזקה שקיבלנו קודם וננצבע אותו לפי השנים**"
   ]
  },
  {
   "cell_type": "code",
   "execution_count": 61,
   "metadata": {},
   "outputs": [
    {
     "data": {
      "text/plain": [
       "<AxesSubplot:xlabel='total_sold', ylabel='Total Bags'>"
      ]
     },
     "execution_count": 61,
     "metadata": {},
     "output_type": "execute_result"
    },
    {
     "data": {
      "image/png": "[encoded data removed]",
      "text/plain": [
       "<Figure size 720x432 with 1 Axes>"
      ]
     },
     "metadata": {},
     "output_type": "display_data"
    }
   ],
   "source": [
    "plt.figure(figsize = (10,6))\n",
    "sns.set(style='darkgrid',font_scale=1.6)\n",
    "\n",
    "sns.scatterplot(data=data ,x=\"total_sold\", y=\"Total Bags\",hue=\"year\",palette=\"deep\")"
   ]
  },
  {
   "cell_type": "markdown",
   "metadata": {},
   "source": [
    "---\n",
    "# GOOD LUCK !!!!\n",
    "---"
   ]
  },
  {
   "cell_type": "code",
   "execution_count": 62,
   "metadata": {},
   "outputs": [],
   "source": [
    "# do not type below this line"
   ]
  },
  {
   "cell_type": "markdown",
   "metadata": {},
   "source": [
    "# project 1 "
   ]
  },
  {
   "cell_type": "code",
   "execution_count": 63,
   "metadata": {},
   "outputs": [],
   "source": [
    "import pandas as pd\n",
    "import seaborn as sns\n",
    "import numpy as np\n",
    "import matplotlib.pyplot as plt\n",
    "from IPython.core.display import Image"
   ]
  },
  {
   "cell_type": "code",
   "execution_count": 64,
   "metadata": {},
   "outputs": [
    {
     "data": {
      "text/html": [
       "<div>\n",
       "<style scoped>\n",
       "    .dataframe tbody tr th:only-of-type {\n",
       "        vertical-align: middle;\n",
       "    }\n",
       "\n",
       "    .dataframe tbody tr th {\n",
       "        vertical-align: top;\n",
       "    }\n",
       "\n",
       "    .dataframe thead th {\n",
       "        text-align: right;\n",
       "    }\n",
       "</style>\n",
       "<table border=\"1\" class=\"dataframe\">\n",
       "  <thead>\n",
       "    <tr style=\"text-align: right;\">\n",
       "      <th></th>\n",
       "      <th>year</th>\n",
       "      <th>movie</th>\n",
       "      <th>movie_id</th>\n",
       "      <th>certificate</th>\n",
       "      <th>duration</th>\n",
       "      <th>Unnamed: 5</th>\n",
       "      <th>genre</th>\n",
       "      <th>rate</th>\n",
       "      <th>metascore</th>\n",
       "      <th>synopsis</th>\n",
       "      <th>...</th>\n",
       "      <th>New_York_Film_Critics_Circle_nominated</th>\n",
       "      <th>New_York_Film_Critics_Circle_nominated_categories</th>\n",
       "      <th>Los_Angeles_Film_Critics_Association_won</th>\n",
       "      <th>Los_Angeles_Film_Critics_Association_won_categories</th>\n",
       "      <th>Los_Angeles_Film_Critics_Association_nominated</th>\n",
       "      <th>Los_Angeles_Film_Critics_Association_nominated_categories</th>\n",
       "      <th>release_date.year</th>\n",
       "      <th>release_date.month</th>\n",
       "      <th>release_date.day-of-month</th>\n",
       "      <th>release_date.day-of-week</th>\n",
       "    </tr>\n",
       "  </thead>\n",
       "  <tbody>\n",
       "    <tr>\n",
       "      <th>0</th>\n",
       "      <td>2001</td>\n",
       "      <td>Kate &amp; Leopold</td>\n",
       "      <td>tt0035423</td>\n",
       "      <td>PG-13</td>\n",
       "      <td>118</td>\n",
       "      <td>NaN</td>\n",
       "      <td>Comedy</td>\n",
       "      <td>6.4</td>\n",
       "      <td>44.0</td>\n",
       "      <td>An English Duke from 1876 is inadvertedly drag...</td>\n",
       "      <td>...</td>\n",
       "      <td>0</td>\n",
       "      <td>NaN</td>\n",
       "      <td>0</td>\n",
       "      <td>NaN</td>\n",
       "      <td>0</td>\n",
       "      <td>NaN</td>\n",
       "      <td>2001.0</td>\n",
       "      <td>12.0</td>\n",
       "      <td>25.0</td>\n",
       "      <td>2.0</td>\n",
       "    </tr>\n",
       "    <tr>\n",
       "      <th>1</th>\n",
       "      <td>2000</td>\n",
       "      <td>Chicken Run</td>\n",
       "      <td>tt0120630</td>\n",
       "      <td>G</td>\n",
       "      <td>84</td>\n",
       "      <td>NaN</td>\n",
       "      <td>Animation</td>\n",
       "      <td>7.0</td>\n",
       "      <td>88.0</td>\n",
       "      <td>When a cockerel apparently flies into a chicke...</td>\n",
       "      <td>...</td>\n",
       "      <td>1</td>\n",
       "      <td>Best Animated Film</td>\n",
       "      <td>1</td>\n",
       "      <td>Best Animation</td>\n",
       "      <td>1</td>\n",
       "      <td>Best Animation</td>\n",
       "      <td>2000.0</td>\n",
       "      <td>6.0</td>\n",
       "      <td>23.0</td>\n",
       "      <td>5.0</td>\n",
       "    </tr>\n",
       "    <tr>\n",
       "      <th>2</th>\n",
       "      <td>2005</td>\n",
       "      <td>Fantastic Four</td>\n",
       "      <td>tt0120667</td>\n",
       "      <td>PG-13</td>\n",
       "      <td>106</td>\n",
       "      <td>NaN</td>\n",
       "      <td>Action</td>\n",
       "      <td>5.7</td>\n",
       "      <td>40.0</td>\n",
       "      <td>A group of astronauts gain superpowers after a...</td>\n",
       "      <td>...</td>\n",
       "      <td>0</td>\n",
       "      <td>NaN</td>\n",
       "      <td>0</td>\n",
       "      <td>NaN</td>\n",
       "      <td>0</td>\n",
       "      <td>NaN</td>\n",
       "      <td>2005.0</td>\n",
       "      <td>7.0</td>\n",
       "      <td>8.0</td>\n",
       "      <td>5.0</td>\n",
       "    </tr>\n",
       "  </tbody>\n",
       "</table>\n",
       "<p>3 rows × 120 columns</p>\n",
       "</div>"
      ],
      "text/plain": [
       "   year           movie   movie_id certificate  duration  Unnamed: 5  \\\n",
       "0  2001  Kate & Leopold  tt0035423       PG-13       118         NaN   \n",
       "1  2000     Chicken Run  tt0120630           G        84         NaN   \n",
       "2  2005  Fantastic Four  tt0120667       PG-13       106         NaN   \n",
       "\n",
       "       genre  rate  metascore  \\\n",
       "0     Comedy   6.4       44.0   \n",
       "1  Animation   7.0       88.0   \n",
       "2     Action   5.7       40.0   \n",
       "\n",
       "                                            synopsis  ...  \\\n",
       "0  An English Duke from 1876 is inadvertedly drag...  ...   \n",
       "1  When a cockerel apparently flies into a chicke...  ...   \n",
       "2  A group of astronauts gain superpowers after a...  ...   \n",
       "\n",
       "   New_York_Film_Critics_Circle_nominated  \\\n",
       "0                                       0   \n",
       "1                                       1   \n",
       "2                                       0   \n",
       "\n",
       "   New_York_Film_Critics_Circle_nominated_categories  \\\n",
       "0                                                NaN   \n",
       "1                                 Best Animated Film   \n",
       "2                                                NaN   \n",
       "\n",
       "  Los_Angeles_Film_Critics_Association_won  \\\n",
       "0                                        0   \n",
       "1                                        1   \n",
       "2                                        0   \n",
       "\n",
       "   Los_Angeles_Film_Critics_Association_won_categories  \\\n",
       "0                                                NaN     \n",
       "1                                     Best Animation     \n",
       "2                                                NaN     \n",
       "\n",
       "   Los_Angeles_Film_Critics_Association_nominated  \\\n",
       "0                                               0   \n",
       "1                                               1   \n",
       "2                                               0   \n",
       "\n",
       "   Los_Angeles_Film_Critics_Association_nominated_categories  \\\n",
       "0                                                NaN           \n",
       "1                                     Best Animation           \n",
       "2                                                NaN           \n",
       "\n",
       "   release_date.year  release_date.month release_date.day-of-month  \\\n",
       "0             2001.0                12.0                      25.0   \n",
       "1             2000.0                 6.0                      23.0   \n",
       "2             2005.0                 7.0                       8.0   \n",
       "\n",
       "  release_date.day-of-week  \n",
       "0                      2.0  \n",
       "1                      5.0  \n",
       "2                      5.0  \n",
       "\n",
       "[3 rows x 120 columns]"
      ]
     },
     "execution_count": 64,
     "metadata": {},
     "output_type": "execute_result"
    }
   ],
   "source": [
    "url = \"https://raw.githubusercontent.com/Edens25/oscar_final/main/oscar_fill_final.csv\"\n",
    "df = pd.read_csv(url ,encoding= 'unicode_escape')\n",
    "df.head(3)"
   ]
  },
  {
   "cell_type": "markdown",
   "metadata": {},
   "source": [
    "**Displays the column types**"
   ]
  },
  {
   "cell_type": "code",
   "execution_count": 65,
   "metadata": {},
   "outputs": [
    {
     "data": {
      "text/plain": [
       "year                                                           int64\n",
       "movie                                                         object\n",
       "movie_id                                                      object\n",
       "certificate                                                   object\n",
       "duration                                                       int64\n",
       "                                                              ...   \n",
       "Los_Angeles_Film_Critics_Association_nominated_categories     object\n",
       "release_date.year                                            float64\n",
       "release_date.month                                           float64\n",
       "release_date.day-of-month                                    float64\n",
       "release_date.day-of-week                                     float64\n",
       "Length: 120, dtype: object"
      ]
     },
     "execution_count": 65,
     "metadata": {},
     "output_type": "execute_result"
    }
   ],
   "source": [
    "df.dtypes"
   ]
  },
  {
   "cell_type": "markdown",
   "metadata": {},
   "source": [
    "**Presenting the connection between the various contests as can be seen the strongest connection is between Oscar_nominated and BAFTA_nominated meaning that whoever is nominated for an Oscar will usually also be nominated for BAFTA**"
   ]
  },
  {
   "cell_type": "code",
   "execution_count": 66,
   "metadata": {},
   "outputs": [
    {
     "data": {
      "text/html": [
       "<style  type=\"text/css\" >\n",
       "#T_f8c11a51_c937_11eb_aaef_40ec990b373frow0_col0,#T_f8c11a51_c937_11eb_aaef_40ec990b373frow1_col1,#T_f8c11a51_c937_11eb_aaef_40ec990b373frow2_col2,#T_f8c11a51_c937_11eb_aaef_40ec990b373frow3_col3,#T_f8c11a51_c937_11eb_aaef_40ec990b373frow4_col4{\n",
       "            background-color:  #b40426;\n",
       "            color:  #f1f1f1;\n",
       "            font-size:  15pt;\n",
       "        }#T_f8c11a51_c937_11eb_aaef_40ec990b373frow0_col1{\n",
       "            background-color:  #7da0f9;\n",
       "            color:  #000000;\n",
       "            font-size:  15pt;\n",
       "        }#T_f8c11a51_c937_11eb_aaef_40ec990b373frow0_col2{\n",
       "            background-color:  #bad0f8;\n",
       "            color:  #000000;\n",
       "            font-size:  15pt;\n",
       "        }#T_f8c11a51_c937_11eb_aaef_40ec990b373frow0_col3{\n",
       "            background-color:  #5875e1;\n",
       "            color:  #000000;\n",
       "            font-size:  15pt;\n",
       "        }#T_f8c11a51_c937_11eb_aaef_40ec990b373frow0_col4{\n",
       "            background-color:  #82a6fb;\n",
       "            color:  #000000;\n",
       "            font-size:  15pt;\n",
       "        }#T_f8c11a51_c937_11eb_aaef_40ec990b373frow1_col0{\n",
       "            background-color:  #8fb1fe;\n",
       "            color:  #000000;\n",
       "            font-size:  15pt;\n",
       "        }#T_f8c11a51_c937_11eb_aaef_40ec990b373frow1_col2{\n",
       "            background-color:  #8caffe;\n",
       "            color:  #000000;\n",
       "            font-size:  15pt;\n",
       "        }#T_f8c11a51_c937_11eb_aaef_40ec990b373frow1_col3{\n",
       "            background-color:  #6a8bef;\n",
       "            color:  #000000;\n",
       "            font-size:  15pt;\n",
       "        }#T_f8c11a51_c937_11eb_aaef_40ec990b373frow1_col4{\n",
       "            background-color:  #8badfd;\n",
       "            color:  #000000;\n",
       "            font-size:  15pt;\n",
       "        }#T_f8c11a51_c937_11eb_aaef_40ec990b373frow2_col0{\n",
       "            background-color:  #a3c2fe;\n",
       "            color:  #000000;\n",
       "            font-size:  15pt;\n",
       "        }#T_f8c11a51_c937_11eb_aaef_40ec990b373frow2_col1{\n",
       "            background-color:  #5e7de7;\n",
       "            color:  #000000;\n",
       "            font-size:  15pt;\n",
       "        }#T_f8c11a51_c937_11eb_aaef_40ec990b373frow2_col3,#T_f8c11a51_c937_11eb_aaef_40ec990b373frow3_col0,#T_f8c11a51_c937_11eb_aaef_40ec990b373frow3_col1,#T_f8c11a51_c937_11eb_aaef_40ec990b373frow3_col2,#T_f8c11a51_c937_11eb_aaef_40ec990b373frow3_col4{\n",
       "            background-color:  #3b4cc0;\n",
       "            color:  #f1f1f1;\n",
       "            font-size:  15pt;\n",
       "        }#T_f8c11a51_c937_11eb_aaef_40ec990b373frow2_col4{\n",
       "            background-color:  #7a9df8;\n",
       "            color:  #000000;\n",
       "            font-size:  15pt;\n",
       "        }#T_f8c11a51_c937_11eb_aaef_40ec990b373frow4_col0{\n",
       "            background-color:  #90b2fe;\n",
       "            color:  #000000;\n",
       "            font-size:  15pt;\n",
       "        }#T_f8c11a51_c937_11eb_aaef_40ec990b373frow4_col1{\n",
       "            background-color:  #88abfd;\n",
       "            color:  #000000;\n",
       "            font-size:  15pt;\n",
       "        }#T_f8c11a51_c937_11eb_aaef_40ec990b373frow4_col2{\n",
       "            background-color:  #a1c0ff;\n",
       "            color:  #000000;\n",
       "            font-size:  15pt;\n",
       "        }#T_f8c11a51_c937_11eb_aaef_40ec990b373frow4_col3{\n",
       "            background-color:  #6687ed;\n",
       "            color:  #000000;\n",
       "            font-size:  15pt;\n",
       "        }</style><table id=\"T_f8c11a51_c937_11eb_aaef_40ec990b373f\" ><thead>    <tr>        <th class=\"blank level0\" ></th>        <th class=\"col_heading level0 col0\" >Oscar_nominated</th>        <th class=\"col_heading level0 col1\" >Golden_Globes_nominated</th>        <th class=\"col_heading level0 col2\" >BAFTA_nominated</th>        <th class=\"col_heading level0 col3\" >Screen_Actors_Guild_nominated</th>        <th class=\"col_heading level0 col4\" >Critics_Choice_nominated</th>    </tr></thead><tbody>\n",
       "                <tr>\n",
       "                        <th id=\"T_f8c11a51_c937_11eb_aaef_40ec990b373flevel0_row0\" class=\"row_heading level0 row0\" >Oscar_nominated</th>\n",
       "                        <td id=\"T_f8c11a51_c937_11eb_aaef_40ec990b373frow0_col0\" class=\"data row0 col0\" >1.000000</td>\n",
       "                        <td id=\"T_f8c11a51_c937_11eb_aaef_40ec990b373frow0_col1\" class=\"data row0 col1\" >0.670240</td>\n",
       "                        <td id=\"T_f8c11a51_c937_11eb_aaef_40ec990b373frow0_col2\" class=\"data row0 col2\" >0.696457</td>\n",
       "                        <td id=\"T_f8c11a51_c937_11eb_aaef_40ec990b373frow0_col3\" class=\"data row0 col3\" >0.556975</td>\n",
       "                        <td id=\"T_f8c11a51_c937_11eb_aaef_40ec990b373frow0_col4\" class=\"data row0 col4\" >0.672058</td>\n",
       "            </tr>\n",
       "            <tr>\n",
       "                        <th id=\"T_f8c11a51_c937_11eb_aaef_40ec990b373flevel0_row1\" class=\"row_heading level0 row1\" >Golden_Globes_nominated</th>\n",
       "                        <td id=\"T_f8c11a51_c937_11eb_aaef_40ec990b373frow1_col0\" class=\"data row1 col0\" >0.670240</td>\n",
       "                        <td id=\"T_f8c11a51_c937_11eb_aaef_40ec990b373frow1_col1\" class=\"data row1 col1\" >1.000000</td>\n",
       "                        <td id=\"T_f8c11a51_c937_11eb_aaef_40ec990b373frow1_col2\" class=\"data row1 col2\" >0.631583</td>\n",
       "                        <td id=\"T_f8c11a51_c937_11eb_aaef_40ec990b373frow1_col3\" class=\"data row1 col3\" >0.584449</td>\n",
       "                        <td id=\"T_f8c11a51_c937_11eb_aaef_40ec990b373frow1_col4\" class=\"data row1 col4\" >0.681953</td>\n",
       "            </tr>\n",
       "            <tr>\n",
       "                        <th id=\"T_f8c11a51_c937_11eb_aaef_40ec990b373flevel0_row2\" class=\"row_heading level0 row2\" >BAFTA_nominated</th>\n",
       "                        <td id=\"T_f8c11a51_c937_11eb_aaef_40ec990b373frow2_col0\" class=\"data row2 col0\" >0.696457</td>\n",
       "                        <td id=\"T_f8c11a51_c937_11eb_aaef_40ec990b373frow2_col1\" class=\"data row2 col1\" >0.631583</td>\n",
       "                        <td id=\"T_f8c11a51_c937_11eb_aaef_40ec990b373frow2_col2\" class=\"data row2 col2\" >1.000000</td>\n",
       "                        <td id=\"T_f8c11a51_c937_11eb_aaef_40ec990b373frow2_col3\" class=\"data row2 col3\" >0.510202</td>\n",
       "                        <td id=\"T_f8c11a51_c937_11eb_aaef_40ec990b373frow2_col4\" class=\"data row2 col4\" >0.661168</td>\n",
       "            </tr>\n",
       "            <tr>\n",
       "                        <th id=\"T_f8c11a51_c937_11eb_aaef_40ec990b373flevel0_row3\" class=\"row_heading level0 row3\" >Screen_Actors_Guild_nominated</th>\n",
       "                        <td id=\"T_f8c11a51_c937_11eb_aaef_40ec990b373frow3_col0\" class=\"data row3 col0\" >0.556975</td>\n",
       "                        <td id=\"T_f8c11a51_c937_11eb_aaef_40ec990b373frow3_col1\" class=\"data row3 col1\" >0.584449</td>\n",
       "                        <td id=\"T_f8c11a51_c937_11eb_aaef_40ec990b373frow3_col2\" class=\"data row3 col2\" >0.510202</td>\n",
       "                        <td id=\"T_f8c11a51_c937_11eb_aaef_40ec990b373frow3_col3\" class=\"data row3 col3\" >1.000000</td>\n",
       "                        <td id=\"T_f8c11a51_c937_11eb_aaef_40ec990b373frow3_col4\" class=\"data row3 col4\" >0.578263</td>\n",
       "            </tr>\n",
       "            <tr>\n",
       "                        <th id=\"T_f8c11a51_c937_11eb_aaef_40ec990b373flevel0_row4\" class=\"row_heading level0 row4\" >Critics_Choice_nominated</th>\n",
       "                        <td id=\"T_f8c11a51_c937_11eb_aaef_40ec990b373frow4_col0\" class=\"data row4 col0\" >0.672058</td>\n",
       "                        <td id=\"T_f8c11a51_c937_11eb_aaef_40ec990b373frow4_col1\" class=\"data row4 col1\" >0.681953</td>\n",
       "                        <td id=\"T_f8c11a51_c937_11eb_aaef_40ec990b373frow4_col2\" class=\"data row4 col2\" >0.661168</td>\n",
       "                        <td id=\"T_f8c11a51_c937_11eb_aaef_40ec990b373frow4_col3\" class=\"data row4 col3\" >0.578263</td>\n",
       "                        <td id=\"T_f8c11a51_c937_11eb_aaef_40ec990b373frow4_col4\" class=\"data row4 col4\" >1.000000</td>\n",
       "            </tr>\n",
       "    </tbody></table>"
      ],
      "text/plain": [
       "<pandas.io.formats.style.Styler at 0x1de5eadd220>"
      ]
     },
     "execution_count": 66,
     "metadata": {},
     "output_type": "execute_result"
    }
   ],
   "source": [
    "awards_data= df.iloc[:,34:54:4]\n",
    "corrs = awards_data.corr(method='spearman')\n",
    "corrs.style.background_gradient(cmap='coolwarm').set_properties(**{'font-size': '15pt'})"
   ]
  },
  {
   "cell_type": "markdown",
   "metadata": {},
   "source": [
    "**Presenting the distribution of Oscar films according to their genre**"
   ]
  },
  {
   "cell_type": "code",
   "execution_count": 67,
   "metadata": {},
   "outputs": [
    {
     "data": {
      "image/png": "[encoded data removed]",
      "text/plain": [
       "<Figure size 2160x432 with 1 Axes>"
      ]
     },
     "metadata": {},
     "output_type": "display_data"
    }
   ],
   "source": [
    "fig=plt.figure(1, figsize = (30,6))\n",
    "sns.set(font_scale=2.4)\n",
    "plt.title(\"geners\",fontsize=45)\n",
    "sns.set(style='darkgrid')\n",
    "ax = sns.countplot(x=\"genre\", data=df,order = df['genre'].value_counts().index)\n",
    "plt.setp(ax.get_xticklabels(),fontsize=19)\n",
    "plt.xticks(fontsize=20)\n",
    "plt.show()"
   ]
  },
  {
   "cell_type": "markdown",
   "metadata": {},
   "source": [
    "**Displays the average and standard deviations of the films according to their rating. It can be seen that even though the average of the action genre is lower compared to most other averages, the movie with the highest rating is in the action genre.**"
   ]
  },
  {
   "cell_type": "code",
   "execution_count": 68,
   "metadata": {},
   "outputs": [
    {
     "data": {
      "text/plain": [
       "<AxesSubplot:title={'center':'Rating relative to genre'}, xlabel='genre', ylabel='rate'>"
      ]
     },
     "execution_count": 68,
     "metadata": {},
     "output_type": "execute_result"
    },
    {
     "data": {
      "image/png": "[encoded data removed]",
      "text/plain": [
       "<Figure size 1440x504 with 1 Axes>"
      ]
     },
     "metadata": {},
     "output_type": "display_data"
    }
   ],
   "source": [
    "plt.figure(figsize = (20,7))\n",
    "sns.set(style='darkgrid')\n",
    "plt.title('Rating relative to genre',color = 'blue',fontsize = 34)\n",
    "plt.xticks(fontsize=14)\n",
    "plt.yticks(fontsize=14)\n",
    "sns.boxplot(x='genre',y='rate',data=df,palette='gist_ncar_r')"
   ]
  },
  {
   "cell_type": "markdown",
   "metadata": {},
   "source": [
    "**Revenue presentation in relation to the film genre. It can be seen that in the action genre there is a small amount of movies above the standard deviation that have gained very large revenues compared to the other movies in the same genre**"
   ]
  },
  {
   "cell_type": "code",
   "execution_count": 69,
   "metadata": {},
   "outputs": [
    {
     "data": {
      "text/plain": [
       "<AxesSubplot:title={'center':'gross relative to genre'}, xlabel='genre', ylabel='gross'>"
      ]
     },
     "execution_count": 69,
     "metadata": {},
     "output_type": "execute_result"
    },
    {
     "data": {
      "image/png": "[encoded data removed]",
      "text/plain": [
       "<Figure size 1440x504 with 1 Axes>"
      ]
     },
     "metadata": {},
     "output_type": "display_data"
    }
   ],
   "source": [
    "plt.figure(figsize = (20,7))\n",
    "sns.set(style='darkgrid')\n",
    "plt.title('gross relative to genre',color = 'blue',fontsize = 34)\n",
    "plt.xticks(fontsize=14)\n",
    "plt.yticks(fontsize=14)\n",
    "sns.boxplot(x='genre',y='gross',data=df,palette='gist_ncar_r')"
   ]
  },
  {
   "cell_type": "markdown",
   "metadata": {},
   "source": [
    "**Displays the length of the film in relation to the genre. Documentary films can be seen much shorter than films of any other genre**"
   ]
  },
  {
   "cell_type": "code",
   "execution_count": 70,
   "metadata": {},
   "outputs": [
    {
     "data": {
      "text/plain": [
       "<AxesSubplot:title={'center':'duration relative to genre'}, xlabel='genre', ylabel='duration'>"
      ]
     },
     "execution_count": 70,
     "metadata": {},
     "output_type": "execute_result"
    },
    {
     "data": {
      "image/png": "[encoded data removed]",
      "text/plain": [
       "<Figure size 1440x504 with 1 Axes>"
      ]
     },
     "metadata": {},
     "output_type": "display_data"
    }
   ],
   "source": [
    "plt.figure(figsize = (20,7))\n",
    "sns.set(style='darkgrid')\n",
    "plt.title('duration relative to genre',color = 'blue',fontsize = 34)\n",
    "plt.xticks(fontsize=14)\n",
    "plt.yticks(fontsize=14)\n",
    "sns.boxplot(x='genre',y='duration',data=df,palette='gist_ncar_r')"
   ]
  },
  {
   "cell_type": "markdown",
   "metadata": {},
   "source": [
    "**Presenting the distribution of the age of watching movies at the Oscars, as you can see, most of the films nominated for the Oscars and the various competitions are intended for teenagers.**"
   ]
  },
  {
   "cell_type": "code",
   "execution_count": 71,
   "metadata": {},
   "outputs": [
    {
     "data": {
      "text/plain": [
       "<AxesSubplot:title={'center':'certificate'}, xlabel='certificate', ylabel='count'>"
      ]
     },
     "execution_count": 71,
     "metadata": {},
     "output_type": "execute_result"
    },
    {
     "data": {
      "image/png": "[encoded data removed]",
      "text/plain": [
       "<Figure size 648x360 with 1 Axes>"
      ]
     },
     "metadata": {},
     "output_type": "display_data"
    }
   ],
   "source": [
    "fig = plt.subplots(figsize=(9,5))\n",
    "sns.set()\n",
    "plt.title('certificate',fontsize=25,color = 'blue')\n",
    "sns.countplot(x=\"certificate\", data=df,order = df['certificate'].value_counts().index)"
   ]
  },
  {
   "cell_type": "markdown",
   "metadata": {},
   "source": [
    "**Presenting upward trends over the years relative to average revenue relative to average rating. As can be seen there has been an increase in the amount of revenue and the level of rating since 2010 we think it is related to the fact that awareness of the movies and the demand has increased and therefore the revenue and rating of the movies has increased**"
   ]
  },
  {
   "cell_type": "code",
   "execution_count": 72,
   "metadata": {},
   "outputs": [
    {
     "data": {
      "text/plain": [
       "<AxesSubplot:title={'center':'rate in relation to years'}, xlabel='year'>"
      ]
     },
     "execution_count": 72,
     "metadata": {},
     "output_type": "execute_result"
    },
    {
     "data": {
      "image/png": "[encoded data removed]",
      "text/plain": [
       "<Figure size 1080x504 with 1 Axes>"
      ]
     },
     "metadata": {},
     "output_type": "display_data"
    },
    {
     "data": {
      "image/png": "[encoded data removed]",
      "text/plain": [
       "<Figure size 1080x504 with 1 Axes>"
      ]
     },
     "metadata": {},
     "output_type": "display_data"
    }
   ],
   "source": [
    "pd.pivot_table(\n",
    "    df,index = ['year'], values = ['gross']\n",
    ").sort_values(by=['year'], ascending=False\n",
    ").plot(figsize=(15,7),xticks=(2000,2001,2002,2003,2004,2005,2006,2007,2008,2009,2010,2011,2012,2013,2014,2015,2016,2017,2018),title='gross in relation to years')\n",
    "pd.pivot_table(\n",
    "    df,index = ['year'], values = ['rate']\n",
    ").sort_values(by=['year'], ascending=False\n",
    " ).plot(figsize=(15,7),xticks=(2000,2001,2002,2003,2004,2005,2006,2007,2008,2009,2010,2011,2012,2013,2014,2015,2016,2017,2018),title='rate in relation to years')"
   ]
  },
  {
   "cell_type": "markdown",
   "metadata": {},
   "source": [
    "**Adding data to display information about the award winners**"
   ]
  },
  {
   "cell_type": "code",
   "execution_count": 73,
   "metadata": {},
   "outputs": [
    {
     "data": {
      "text/html": [
       "<div>\n",
       "<style scoped>\n",
       "    .dataframe tbody tr th:only-of-type {\n",
       "        vertical-align: middle;\n",
       "    }\n",
       "\n",
       "    .dataframe tbody tr th {\n",
       "        vertical-align: top;\n",
       "    }\n",
       "\n",
       "    .dataframe thead th {\n",
       "        text-align: right;\n",
       "    }\n",
       "</style>\n",
       "<table border=\"1\" class=\"dataframe\">\n",
       "  <thead>\n",
       "    <tr style=\"text-align: right;\">\n",
       "      <th></th>\n",
       "      <th>birthplace</th>\n",
       "      <th>race_ethnicity</th>\n",
       "      <th>religion</th>\n",
       "      <th>sexual_orientation</th>\n",
       "      <th>year_of_award</th>\n",
       "    </tr>\n",
       "  </thead>\n",
       "  <tbody>\n",
       "    <tr>\n",
       "      <th>0</th>\n",
       "      <td>Chisinau, Moldova</td>\n",
       "      <td>White</td>\n",
       "      <td>Na</td>\n",
       "      <td>Straight</td>\n",
       "      <td>1927</td>\n",
       "    </tr>\n",
       "    <tr>\n",
       "      <th>1</th>\n",
       "      <td>Glasgow, Scotland</td>\n",
       "      <td>White</td>\n",
       "      <td>Na</td>\n",
       "      <td>Straight</td>\n",
       "      <td>1930</td>\n",
       "    </tr>\n",
       "    <tr>\n",
       "      <th>2</th>\n",
       "      <td>Chisinau, Moldova</td>\n",
       "      <td>White</td>\n",
       "      <td>Na</td>\n",
       "      <td>Straight</td>\n",
       "      <td>1931</td>\n",
       "    </tr>\n",
       "    <tr>\n",
       "      <th>3</th>\n",
       "      <td>Chicago, Il</td>\n",
       "      <td>White</td>\n",
       "      <td>Na</td>\n",
       "      <td>Straight</td>\n",
       "      <td>1932</td>\n",
       "    </tr>\n",
       "    <tr>\n",
       "      <th>4</th>\n",
       "      <td>Salt Lake City, Ut</td>\n",
       "      <td>White</td>\n",
       "      <td>Roman Catholic</td>\n",
       "      <td>Straight</td>\n",
       "      <td>1933</td>\n",
       "    </tr>\n",
       "  </tbody>\n",
       "</table>\n",
       "</div>"
      ],
      "text/plain": [
       "           birthplace race_ethnicity        religion sexual_orientation  \\\n",
       "0   Chisinau, Moldova          White              Na           Straight   \n",
       "1   Glasgow, Scotland          White              Na           Straight   \n",
       "2   Chisinau, Moldova          White              Na           Straight   \n",
       "3         Chicago, Il          White              Na           Straight   \n",
       "4  Salt Lake City, Ut          White  Roman Catholic           Straight   \n",
       "\n",
       "   year_of_award  \n",
       "0           1927  \n",
       "1           1930  \n",
       "2           1931  \n",
       "3           1932  \n",
       "4           1933  "
      ]
     },
     "execution_count": 73,
     "metadata": {},
     "output_type": "execute_result"
    }
   ],
   "source": [
    "url = 'https://github.com/XthebigdoX/oscarfinal/raw/main/oscar_win.xls'\n",
    "oscar_win= pd.read_csv(url)\n",
    "oscar_win.head()"
   ]
  },
  {
   "cell_type": "markdown",
   "metadata": {},
   "source": [
    "**Adding a small file outlining the age, sexual orientation, origin and more of the Oscar winners and presenting the distribution of religion among the winners**"
   ]
  },
  {
   "cell_type": "code",
   "execution_count": 74,
   "metadata": {},
   "outputs": [
    {
     "data": {
      "text/plain": [
       "Text(0.5, 1.0, 'Distribution of religions')"
      ]
     },
     "execution_count": 74,
     "metadata": {},
     "output_type": "execute_result"
    },
    {
     "data": {
      "image/png": "[encoded data removed]",
      "text/plain": [
       "<Figure size 1440x432 with 1 Axes>"
      ]
     },
     "metadata": {},
     "output_type": "display_data"
    }
   ],
   "source": [
    "oscar_reli=oscar_win[oscar_win['religion']!=\"Na\"]\n",
    "oscar_reli['religion'].value_counts()[:10].plot(kind='barh',figsize=(20,6))\n",
    "plt.yticks(fontsize=20)\n",
    "plt.xticks(fontsize=14)\n",
    "plt.title('Distribution of religions',color = 'blue',fontsize = 45)"
   ]
  },
  {
   "cell_type": "markdown",
   "metadata": {},
   "source": [
    "**Taking the two most common religions among Oscar winners and presenting them in relation to their general population in the world**"
   ]
  },
  {
   "cell_type": "code",
   "execution_count": 75,
   "metadata": {},
   "outputs": [],
   "source": [
    "oscar_reli=oscar_win[oscar_win['religion']!=\"Na\"]\n",
    "top_2_reli=oscar_reli['religion'].value_counts().nlargest(2).to_dict()\n",
    "R_C_number_wins=list(top_2_reli.items())[0][1]\n",
    "J_number_wins=list(top_2_reli.items())[1][1]"
   ]
  },
  {
   "cell_type": "code",
   "execution_count": 76,
   "metadata": {},
   "outputs": [],
   "source": [
    "total_jewish=int(17000000)\n",
    "total_R_C=int(1200000000)\n",
    "J_to_total=J_number_wins/total_jewish\n",
    "R_C_to_total=R_C_number_wins/total_R_C"
   ]
  },
  {
   "cell_type": "code",
   "execution_count": 77,
   "metadata": {},
   "outputs": [],
   "source": [
    "df1={'religion':['jewish','Roman Catholic'],'number_of':[J_to_total,R_C_to_total]}\n",
    "data_best=pd.DataFrame(df1)"
   ]
  },
  {
   "cell_type": "code",
   "execution_count": 79,
   "metadata": {},
   "outputs": [
    {
     "ename": "TypeError",
     "evalue": "'list' object is not callable",
     "output_type": "error",
     "traceback": [
      "\u001b[1;31m---------------------------------------------------------------------------\u001b[0m",
      "\u001b[1;31mTypeError\u001b[0m                                 Traceback (most recent call last)",
      "\u001b[1;32m<ipython-input-79-007b9ac0d3b9>\u001b[0m in \u001b[0;36m<module>\u001b[1;34m\u001b[0m\n\u001b[0;32m      5\u001b[0m \u001b[0mplt\u001b[0m\u001b[1;33m.\u001b[0m\u001b[0mxticks\u001b[0m\u001b[1;33m(\u001b[0m\u001b[0mfontsize\u001b[0m\u001b[1;33m=\u001b[0m\u001b[1;36m17\u001b[0m\u001b[1;33m)\u001b[0m\u001b[1;33m\u001b[0m\u001b[1;33m\u001b[0m\u001b[0m\n\u001b[0;32m      6\u001b[0m \u001b[0mplt\u001b[0m\u001b[1;33m.\u001b[0m\u001b[0myticks\u001b[0m\u001b[1;33m(\u001b[0m\u001b[0mfontsize\u001b[0m\u001b[1;33m=\u001b[0m\u001b[1;36m14\u001b[0m\u001b[1;33m)\u001b[0m\u001b[1;33m\u001b[0m\u001b[1;33m\u001b[0m\u001b[0m\n\u001b[1;32m----> 7\u001b[1;33m \u001b[0mplt\u001b[0m\u001b[1;33m.\u001b[0m\u001b[0mlegend\u001b[0m\u001b[1;33m(\u001b[0m\u001b[1;33m[\u001b[0m\u001b[1;34m\"The ratio of the two graphs : \"\u001b[0m\u001b[1;33m+\u001b[0m\u001b[0mstr\u001b[0m\u001b[1;33m(\u001b[0m\u001b[0mJ_to_total\u001b[0m\u001b[1;33m//\u001b[0m\u001b[0mR_C_to_total\u001b[0m\u001b[1;33m)\u001b[0m\u001b[1;33m]\u001b[0m\u001b[1;33m,\u001b[0m\u001b[0mprop\u001b[0m\u001b[1;33m=\u001b[0m\u001b[1;33m{\u001b[0m\u001b[1;34m'size'\u001b[0m\u001b[1;33m:\u001b[0m \u001b[1;36m14\u001b[0m\u001b[1;33m}\u001b[0m\u001b[1;33m)\u001b[0m\u001b[1;33m\u001b[0m\u001b[1;33m\u001b[0m\u001b[0m\n\u001b[0m\u001b[0;32m      8\u001b[0m \u001b[0mplt\u001b[0m\u001b[1;33m.\u001b[0m\u001b[0mshow\u001b[0m\u001b[1;33m(\u001b[0m\u001b[1;33m)\u001b[0m\u001b[1;33m\u001b[0m\u001b[1;33m\u001b[0m\u001b[0m\n",
      "\u001b[1;31mTypeError\u001b[0m: 'list' object is not callable"
     ]
    },
    {
     "data": {
      "image/png": "[encoded data removed]",
      "text/plain": [
       "<Figure size 576x432 with 1 Axes>"
      ]
     },
     "metadata": {},
     "output_type": "display_data"
    }
   ],
   "source": [
    "sns.set(style=\"darkgrid\")\n",
    "plt.figure(figsize=(8,6))\n",
    "plt.title('Number of winners in relation to the world population',color = 'blue',fontsize = 20)\n",
    "sns.barplot(x=\"religion\", y='number_of',data=data_best)\n",
    "plt.xticks(fontsize=17)\n",
    "plt.yticks(fontsize=14)\n",
    "plt.legend([\"The ratio of the two graphs : \"+str(J_to_total//R_C_to_total)],prop={'size': 14})\n",
    "plt.show()"
   ]
  },
  {
   "cell_type": "markdown",
   "metadata": {},
   "source": [
    "**As you can see, the number of Jewish winners in relation to the global Jewish population is 57 times greater! From the number of winners from the Catholic religion in relation to the population of Catholics in the world**"
   ]
  },
  {
   "cell_type": "markdown",
   "metadata": {},
   "source": [
    "# project 2 "
   ]
  }
 ],
 "metadata": {
  "kernelspec": {
   "display_name": "Python 3",
   "language": "python",
   "name": "python3"
  },
  "language_info": {
   "codemirror_mode": {
    "name": "ipython",
    "version": 3
   },
   "file_extension": ".py",
   "mimetype": "text/x-python",
   "name": "python",
   "nbconvert_exporter": "python",
   "pygments_lexer": "ipython3",
   "version": "3.8.3"
  }
 },
 "nbformat": 4,
 "nbformat_minor": 4
}

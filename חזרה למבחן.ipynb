{
 "cells": [
  {
   "cell_type": "code",
   "execution_count": 1,
   "metadata": {},
   "outputs": [],
   "source": [
    "import pandas as pd\n",
    "import numpy as np\n",
    "import matplotlib.pyplot as plt\n",
    "import seaborn as sns\n",
    "import sklearn as sk\n",
    "from sklearn import tree\n",
    "from sklearn.tree import DecisionTreeRegressor\n",
    "from sklearn.metrics import mean_squared_error\n",
    "from sklearn.tree import DecisionTreeClassifier"
   ]
  },
  {
   "cell_type": "code",
   "execution_count": null,
   "metadata": {},
   "outputs": [],
   "source": [
    "!pip install seaborn==0.11.1\n"
   ]
  },
  {
   "cell_type": "code",
   "execution_count": null,
   "metadata": {},
   "outputs": [],
   "source": [
    "url='https://raw.githubusercontent.com/ShaiYona/Data-Science2021B/main/Assignments/4/nba.csv'\n",
    "basketball=pd.read_csv(url)\n",
    "basketball.head()"
   ]
  },
  {
   "cell_type": "markdown",
   "metadata": {},
   "source": [
    ".reset_index()=כאשר אני מסיר ערך ואני רוצה שאינדקסים המספריים ישמרו אני אשתמש בזה לדוג הורדתי את השורה השלישית ואני רוצה שדאטה תמשיך להיות לפי הסדר מספרי ולא יהיה דילוג של אחד שתיים ואז ארבע נשתמש בזה \n",
    "\n",
    "value_counts()=  מסדר לי את האובייקט מהגדול לקטן כאשר בתוך הסוגריים כתוב \n",
    "\n",
    "הוא ממיין מהקטן לגדולsort=False \n",
    "\n",
    "אם אני לוחץ שיפט טאב על הפונקציות עצמם אני מקבל רשימה של הדברים שאני יכול לעשות עם הפונקציות"
   ]
  },
  {
   "cell_type": "markdown",
   "metadata": {},
   "source": [
    "## פונקציות בסיסיות"
   ]
  },
  {
   "cell_type": "code",
   "execution_count": null,
   "metadata": {},
   "outputs": [],
   "source": [
    "#היה לי בעיה עם העמודה של הגובה השתמשתי בפונקציה שמקבלת 2 ערכים ערך הראשון זה מה שאני רוצה להחליף ערך שני זה למה אני רוצה להחליף\n",
    "basketball['Height'] = basketball['Height'].str.replace('-', '.')\n",
    "basketball.head()"
   ]
  },
  {
   "cell_type": "code",
   "execution_count": null,
   "metadata": {},
   "outputs": [],
   "source": [
    "#מס שורות בדאטה\n",
    "print(len(basketball))"
   ]
  },
  {
   "cell_type": "code",
   "execution_count": null,
   "metadata": {},
   "outputs": [],
   "source": [
    "#הצגת 5 שורות ראשונות בקובץ\n",
    "basketball.head()\n",
    "#הצגת 5 שורות אחרונות בקובץ\n",
    "basketball.tail()"
   ]
  },
  {
   "cell_type": "code",
   "execution_count": null,
   "metadata": {},
   "outputs": [],
   "source": [
    "#סופר את מס הערכים שיש לי בכל עמודה\n",
    "basketball.count()\n",
    "#ממוצע\n",
    "basketball.mean()\n",
    "#חציון\n",
    "basketball.median()\n",
    "#ערך מקסימלי\n",
    "basketball.max()\n",
    "#ערך מינמלי\n",
    "basketball.min()\n",
    "#סטיית תקן\n",
    "basketball.std()"
   ]
  },
  {
   "cell_type": "code",
   "execution_count": null,
   "metadata": {},
   "outputs": [],
   "source": [
    "#שתי דרכים לקרוא לשורה מסוימת בתוך קובץ\n",
    "basketball['Team'][25]\n",
    "basketball.Team[25]"
   ]
  },
  {
   "cell_type": "code",
   "execution_count": null,
   "metadata": {},
   "outputs": [],
   "source": [
    "#כאשר אני רוצה לבחור שורה מסוימת בתוך הטבלה\n",
    "#נקודתיים זה טווח ופסיק מפריד בין שורות לעמודות שורות זה ראשון\n",
    "basketball.iloc[0:3,0:3]\n",
    "#בחירת שורות ועמודות ספציפיות\n",
    "basketball.iloc[[0,3,5],[3,5,7]]"
   ]
  },
  {
   "cell_type": "code",
   "execution_count": null,
   "metadata": {},
   "outputs": [],
   "source": [
    "#לקרוא לשורות ביחס לעמודות\n",
    "basketball.loc[:,['Height']]\n",
    "#כאשר אני רוצה לגשת לערך ספציפי בעמודה מסוימת\n",
    "#כאשר אני רוצה לגשת לערך מסוים בעמודה שיש לי אני מפעיל את הפונקציה על העמודה ומשווה עם מה שאני רוצה לקבל\n",
    "a=basketball[basketball.loc[:,'Team']== 'Utah Jazz']\n",
    "a "
   ]
  },
  {
   "cell_type": "code",
   "execution_count": null,
   "metadata": {},
   "outputs": [],
   "source": [
    "#הסימן אומר או שייקח את 2 התנאים שיש כאן \n",
    "x=basketball[(basketball['Team'] == 'Utah Jazz') | (basketball['Team']=='Boston Celtics')]\n",
    "x\n",
    "#הסימן אומר וגם שחייב שיתקיימו שתי התנאים יחדיו\n",
    "b=basketball[(basketball['Team'] == 'Utah Jazz') & (basketball['Position']=='SF')]\n",
    "b"
   ]
  },
  {
   "cell_type": "code",
   "execution_count": null,
   "metadata": {},
   "outputs": [],
   "source": [
    "#נותן לי את האינדקס המקסימלי\n",
    "basketball.sum().idxmax()"
   ]
  },
  {
   "cell_type": "markdown",
   "metadata": {},
   "source": [
    "### שינוי שם לעמודה "
   ]
  },
  {
   "cell_type": "code",
   "execution_count": null,
   "metadata": {},
   "outputs": [],
   "source": [
    "basketball_rename = basketball.rename(columns= {'College':' university'})\n",
    "basketball_rename.head()"
   ]
  },
  {
   "cell_type": "markdown",
   "metadata": {},
   "source": [
    "# ערכים חסרים \n",
    "כאשר אני ממלא ערכים חסרים אני חייב לשים את זה בשם משתנה אחרת זה לא ישמר לי או לכתוב\n",
    "\n",
    "inplace=True"
   ]
  },
  {
   "cell_type": "code",
   "execution_count": null,
   "metadata": {},
   "outputs": [],
   "source": [
    "#מציאת ערכים חסרים וסכימה שלהם\n",
    "basketball.isnull().sum()\n",
    "#בדיקה בעמודה מסוימת כמה ערכים שהם לא חסרים יש\n",
    "basketball['Name'].notnull().sum()\n",
    "#הסרת  ערכים חסרים\n",
    "# מסיר את כל הערכים החסרים בקובץ\n",
    "basketball_dro=basketball.dropna()\n",
    "# מסיר ערכים חסרים עבור עמודה מסוימת\n",
    "basketball.dropna(subset =['Name']).count()\n",
    "#הורדת ערך חסר אם יש לי יותר מ3 ערכים חסרים בשורה אני יכול לקבוע את המספר \n",
    "basketball.dropna(thresh=3)"
   ]
  },
  {
   "cell_type": "code",
   "execution_count": null,
   "metadata": {},
   "outputs": [],
   "source": [
    "#מילוי ערכים חסרים \n",
    "#הדיפולט זה לא נכון כאשר אני משנה את זה לנכון זה נשאר ובכל מקום שיש לי ערך חסר ממלא לי 0\n",
    "#basketball.fillna(0 , inplace = True)\n",
    "#נגיד 59 זה ערך חסר אז הוא ימלא את זה בערך האחרון שהוא לא חסר לדוג ב58 אם הוא לא חסר\n",
    "basketball[['College']].fillna(method='ffill')\n",
    "#בדיוק הפוך ממלא את הערך החסר בערך הראשון שאחרי הערך החסר\n",
    "basketball[['College']].fillna(method='bfill')\n",
    "#מילוי ערכים חסרים בצורה לינארית\n",
    "basketball['Salary'] = basketball[['Salary']].interpolate(method ='linear') \n",
    "basketball"
   ]
  },
  {
   "cell_type": "markdown",
   "metadata": {},
   "source": [
    "# pivot_table ,groupby , sort_values ,sort_index,\n",
    "\n",
    "# get_dummies, cat.code, str.contains,str.statwith , cut"
   ]
  },
  {
   "cell_type": "code",
   "execution_count": null,
   "metadata": {},
   "outputs": [],
   "source": [
    "#כאשר אני לא כותב כלום הברירת מחדל זה ממוצע כאשר אני כותה בצורה הזאת אפשר להכניס  ערכים שהם לא מספריים גם\n",
    "#הפונקציה ראונד מעגלת את המספרים העשרוניים\n",
    "basketball.pivot_table(index = ['Position','Weight'], values =['Salary'] , aggfunc = sum).round(1)\n"
   ]
  },
  {
   "cell_type": "code",
   "execution_count": null,
   "metadata": {},
   "outputs": [],
   "source": [
    "#דבר ראשון הוספת עמודה חדשה לדאטה\n",
    "#בעזרת הפונקציה אני אומר לו קח את הקבוצות לפי השמות של השחקנים ועליהם תוסיף את הערכים החסרים\n",
    "#unit4\n",
    "basketball[\"aviel\"]=basketball.groupby(\"Name\")[[\"College\"]].apply(lambda x: x.fillna(method=\"bfill\"))\n",
    "basketball.iloc[0:12,]\n"
   ]
  },
  {
   "cell_type": "code",
   "execution_count": null,
   "metadata": {},
   "outputs": [],
   "source": [
    "#ממיין את העמודה שביקשתי מהקטן לגדול זו הברירת מחדל במקרה שלנו כאשר הוספתי את אקסידנג זה הפוך וממין מהגדול לקטן \n",
    "basketball.sort_values(by='Weight', ascending = False).head()\n"
   ]
  },
  {
   "cell_type": "code",
   "execution_count": null,
   "metadata": {},
   "outputs": [],
   "source": [
    "#ממיין את האינדקסים מהקטן לגדול אם במקום נכון אכתוב לא נכון אראה את הכול מהגדול לקטן\n",
    "basketball.sort_index(ascending=True)"
   ]
  },
  {
   "cell_type": "code",
   "execution_count": null,
   "metadata": {},
   "outputs": [],
   "source": [
    "#הפונקציה הופכת ערך קטגורי לבינארי היא לוקחת את כל הערכים בעמודה הקטגורית והופכת כל אחד מהם לעמודה נפרדת שבה הוא מקבל או אפס או 1\n",
    "#שמתי כאן גם ערך מספרי כדי להראות שהוא לא משתנה בכלל רק ערך קטגורי\n",
    "#Extension on bin and category ​​- `tirgul 8`\n",
    "features2=['Position','Age']\n",
    "basketball_get = pd.get_dummies(basketball[features2])\n",
    "basketball_get"
   ]
  },
  {
   "cell_type": "code",
   "execution_count": null,
   "metadata": {},
   "outputs": [],
   "source": [
    "#הופך לי ערך קטגורי לערך מספרי באותה עמודה\n",
    "#basketball['Position'] = basketball['Position'].astype('category').cat.codes\n",
    "basketball.tail()"
   ]
  },
  {
   "cell_type": "markdown",
   "metadata": {},
   "source": [
    "### הגדרת עמודה בתור טיפוס אחר, חשוב קודם כל לוודא שאין ערכים ריקים "
   ]
  },
  {
   "cell_type": "code",
   "execution_count": null,
   "metadata": {},
   "outputs": [],
   "source": [
    "#temp_series = temp_series.astype({\"runtime per min\":int})"
   ]
  },
  {
   "cell_type": "code",
   "execution_count": null,
   "metadata": {},
   "outputs": [],
   "source": [
    "#בשביל להשתמש בפונקציה אסור שיהיה ערכים חסרים\n",
    "#מחפש בתוך העמודה של הקבוצות אם קיים את הקבוצה לוס אנגלס ואם כן היא מציגה לי את זה \n",
    "#הפונקציה מקבלת רק סטרינגים\n",
    "basketball1=basketball.dropna()\n",
    "basketball1[basketball1['Team'].str.contains(\"Los Angeles\")]\n",
    "#מציג לי 2 תנאים ביחד\n",
    "basketball1[(basketball1['Position'].str.contains(\"SF\")) & (basketball1['College'].str.contains(\"Kansas\"))]"
   ]
  },
  {
   "cell_type": "code",
   "execution_count": null,
   "metadata": {},
   "outputs": [],
   "source": [
    "# כדי לגשת לערך שהוא מספרי מעמודה מסוימת \n",
    "basketball.loc[basketball['Age']== 28]"
   ]
  },
  {
   "cell_type": "code",
   "execution_count": null,
   "metadata": {},
   "outputs": [],
   "source": [
    "#למצוא סטרינג שמתחיל בתו כלשהו בעמודה מסוימת\n",
    "#צריך להסיר קודם ערכים חסרים מהעמודה\n",
    "basketball2=basketball.dropna()\n",
    "basketball2[basketball2[\"Name\"].str.startswith((\"K\"))]"
   ]
  },
  {
   "cell_type": "code",
   "execution_count": null,
   "metadata": {},
   "outputs": [],
   "source": [
    "#הפונקציה בעצם נותנת לי טווח של דברים לדוגמא הגילאים היא מפרידה לי אותם ל2 חלקים\n",
    "age1 = pd.cut(basketball['Age'], [25, 30, 45])\n",
    "#כאן אני עושה ממוצע של השכר לפני טווח גילאים של כל תפקיד במגרש\n",
    "basketball.pivot_table('Salary', [ age1], 'Position')"
   ]
  },
  {
   "cell_type": "markdown",
   "metadata": {},
   "source": [
    "# קישור לויזואליזציות שונות\n",
    "#https://seaborn.pydata.org/examples/index.html"
   ]
  },
  {
   "cell_type": "markdown",
   "metadata": {},
   "source": [
    "# איסטוגרמות   \n",
    "> * Extension on hist ​​- `Unit 4`,`tirgul 9`"
   ]
  },
  {
   "cell_type": "code",
   "execution_count": null,
   "metadata": {},
   "outputs": [],
   "source": [
    "#מס 50 מייצג את כמות הערכים שאני רוצה להציג\n",
    "#0.7 מייצג את הבהירות שלהגרף\n",
    "#כאשר יש יותר מ2 עמודות יציג אותם אחד ליד השנייה\n",
    "basketball[['Age','Number']].hist(bins=50,alpha=0.5)\n",
    "#מקבל גרף של 2 העמודות יחדיו\n",
    "basketball[['Number','Age']].plot.hist(bins=50)\n"
   ]
  },
  {
   "cell_type": "markdown",
   "metadata": {},
   "source": [
    "# log_scale\n",
    "כאשר יש לי נתונים שמוצגים בצורה לא ברורה יש הרבה נתונים אני אשתמש בפונקציה והיא מקפיצה לי את הנתונים בכפולות של 10 ואז אני רואה את הגרף בצורה ברורה יותר"
   ]
  },
  {
   "cell_type": "code",
   "execution_count": null,
   "metadata": {},
   "outputs": [],
   "source": [
    "#רוצה שיציג לי את המשקל ביחס לעמדה מסוימת\n",
    "sns.histplot(basketball.Weight[basketball.Position == 'SF'], log_scale = True)"
   ]
  },
  {
   "cell_type": "code",
   "execution_count": null,
   "metadata": {},
   "outputs": [],
   "source": [
    "#הצגה נוספת בצורת לוג רק שהפעם אני יכול לבחור איזה גודל לוג אני רוצה \n",
    "sns.histplot(np.log2(basketball.Weight[basketball.Position == 'SF']))"
   ]
  },
  {
   "cell_type": "markdown",
   "metadata": {},
   "source": [
    "#countplot=כותבים רק בציר אחד בציר איקס הוא נותן את הערכים ובציר ווי את מס מופעים\n",
    "> * Extension on countplot ​​- `Unit 6`\n",
    "\n",
    "#barplot=כותבים גם ציר איקס וגם ציר ווי \n",
    "\n",
    "הצגה של נתונים רציפים לפי צבעים. מתאים להשוואה לפי ממוצע,סכום וכו\n",
    "\n",
    "#catplot=זה בדיוק אותו דבר כמו 2 הקודמים רק אני כותב \n",
    "> * Extension on catplot ​​- `Unit 9`\n",
    "\n",
    "kind=\"count\" נותן לי קאונטפלוט\n",
    "kind=\"bar\"   נותן לי ברפלוט"
   ]
  },
  {
   "cell_type": "code",
   "execution_count": null,
   "metadata": {},
   "outputs": [],
   "source": [
    "#בציר איקס יש לי את האינדקסים ובציר ווי יש לי את הכמות מופעים וזה מסודר בסדר יורד לפי האינדקסים\n",
    "#ניתן לכתוב במוקם איקס ווי ואז זה יהיה לי מוצג מצד שמאל לימין\n",
    "#palette=\"Set3\"=משנה לי את הצבע\n",
    "sns.set(style='darkgrid')\n",
    "plt.figure(figsize=(6,4)) \n",
    "sns.countplot(x=\"Position\", palette=\"Set3\",data=basketball,order = basketball['Position'].value_counts().index)\n"
   ]
  },
  {
   "cell_type": "code",
   "execution_count": null,
   "metadata": {},
   "outputs": [],
   "source": [
    "sns.barplot(x=\"Position\", y=\"Salary\" ,data= basketball)\n",
    "plt.show()"
   ]
  },
  {
   "cell_type": "code",
   "execution_count": null,
   "metadata": {},
   "outputs": [],
   "source": [
    "#מציג לי רק את הגיל 25 ביחס לעמדות בציר האיקס והשכר בציר הווי\n",
    "age = basketball[basketball.loc[:,'Age'] > 37]\n",
    "#hue=  הוא צובע לי ביחס לגילאים יש 3 גילאים לכן מחולק ל3 צבעים\n",
    "# kind=אם אני לא אכתוב הוא יראה לי את זה בצורה של נקודות כאן אני מבקש ממנו  \n",
    "sns.catplot(x=\"Position\", y=\"Salary\", kind=\"bar\",hue='Age' ,data=age,ci=None)\n",
    "#טווח של המספרים בציר ווי\n",
    "plt.ylim(0,1.0*1e7)\n",
    "plt.show()"
   ]
  },
  {
   "cell_type": "markdown",
   "metadata": {},
   "source": [
    "# plot.scatter, scatterplot ,regplot ,stripplot"
   ]
  },
  {
   "cell_type": "code",
   "execution_count": null,
   "metadata": {},
   "outputs": [],
   "source": [
    "#מציג נקודות וקשר בין 2 משתנים\n",
    "#מראה לי גרף פיזור\n",
    "basketball.plot.scatter(x = 'Weight', y = 'Salary', alpha=0.5)"
   ]
  },
  {
   "cell_type": "code",
   "execution_count": null,
   "metadata": {},
   "outputs": [],
   "source": [
    "#רף שמראה עלייה\\ ירידה של נתונים בין 2 עמודות, מתאים אחרי קרולציה לנתונים בדידים בדגש על בדידים !! מראה נקודות\n",
    "#עוד דרך הצגה\n",
    "#hue=יוצר קורולציה על פי הגילאים וככה הוא מציג אותם כל גיל בצבע אחר\n",
    "sns.scatterplot(data=basketball, x='Weight', y='Salary',hue=\"Age\")"
   ]
  },
  {
   "cell_type": "code",
   "execution_count": null,
   "metadata": {},
   "outputs": [],
   "source": [
    "#מגדיל לי את התצוגה\n",
    "plt.rcParams['figure.figsize'] = [8, 5]\n",
    "#מציג קשר בין 2 משתנים עם קו לינארי\n",
    "#גרף פיזור עם קו לינארי\n",
    "sns.regplot(data=basketball, x='Weight', y='Salary')\n",
    "#מוסיף לי כותרות\n",
    "plt.title('this is a nice title')\n",
    "#מוסיף לי יחידות לאיקס וווי\n",
    "plt.xlabel('x values')\n",
    "plt.ylabel('y values')"
   ]
  },
  {
   "cell_type": "code",
   "execution_count": null,
   "metadata": {},
   "outputs": [],
   "source": [
    "#מראה כמה גרפים אחד ליד השני עם נקודות, ז\"א נתונים בדידים ככה שאפשר לראות צפיפות ביחס בין 2 עמודות מסוימות\n",
    "sns.stripplot(x='Weight' , y='Salary', data=basketball)          \n",
    "plt.show()"
   ]
  },
  {
   "cell_type": "markdown",
   "metadata": {},
   "source": [
    "### boxplot\n",
    "הקו הצהוב מראה את החציון 2 הקווים השחורים מייצגים את הטווח של המספרים העיגולים השחורים מייצגים את הנקודות החריגות "
   ]
  },
  {
   "cell_type": "code",
   "execution_count": null,
   "metadata": {},
   "outputs": [],
   "source": [
    "plt.figure(figsize=(8,5))\n",
    "#להציג כמה עמודות \n",
    "#patch_artist = true ממלא את הקופסא בצבע \n",
    "basketball.boxplot(column=['Number','Age'],patch_artist = True)"
   ]
  },
  {
   "cell_type": "code",
   "execution_count": null,
   "metadata": {},
   "outputs": [],
   "source": [
    "#בוקספלוט של העמדות בציר איקס ביחס לשכר בציר ווי\n",
    "plt.figure(figsize=(8,4))\n",
    "ax=sns.boxplot(x='Position', y='Salary', data=basketball);\n",
    "#המלל בציר איקס באלכסון זה טוב כאשר יש לי מלל גדול ואז לפעמים הכיתוב יוצא אחד על השני\n",
    "plt.setp(ax.get_xticklabels(), rotation=45)"
   ]
  },
  {
   "cell_type": "code",
   "execution_count": null,
   "metadata": {},
   "outputs": [],
   "source": [
    "#הצגה של 2 בוקספלוטים במקביל\n",
    "#מס 2 מייצג את הכמות גרפים \n",
    "fig, axes = plt.subplots(figsize=(15,7), ncols=2)\n",
    "sns.boxplot(ax=axes[0], x='Position',y='Salary', data=basketball)\n",
    "#הגדרתי שאני רוצה רק את הגילאים מעל גיל 35\n",
    "age1=basketball.loc[basketball['Age'] > 35.0]\n",
    "sns.boxplot(ax=axes[1], x='Age' ,y='Salary', data=age1)\n",
    "plt.show()\n"
   ]
  },
  {
   "cell_type": "markdown",
   "metadata": {},
   "source": [
    " # פאי"
   ]
  },
  {
   "cell_type": "code",
   "execution_count": null,
   "metadata": {},
   "outputs": [],
   "source": [
    "#הצגה בצורה של עוגה נציג רק כאשר יש פחות מ3 ערכים פה למשל זה לא טוב להציג ככה\n",
    "plt.figure(1, figsize=(5,5))\n",
    "plt.title(\"position\")\n",
    "basketball['Position'].value_counts().plot.pie(autopct=\"%1.1f%%\")\n",
    "plt.show()"
   ]
  },
  {
   "cell_type": "markdown",
   "metadata": {},
   "source": [
    "### 3. Heatmaps"
   ]
  },
  {
   "cell_type": "code",
   "execution_count": null,
   "metadata": {},
   "outputs": [],
   "source": [
    "#יוצר קורולציות בין העמודות\n",
    "#קובע לי תגודל\n",
    "plt.figure(figsize=(8,5))\n",
    "correlation_matrix = basketball.corr()\n",
    "sns.heatmap(data=correlation_matrix,cmap='coolwarm', annot=True)"
   ]
  },
  {
   "cell_type": "code",
   "execution_count": null,
   "metadata": {},
   "outputs": [],
   "source": [
    "#מטריצה \n",
    "fig, axes = plt.subplots(1, 3, figsize=(10,5))\n",
    "\n",
    "sns.stripplot(ax = axes[0], x='Position' , y='Salary', data=basketball, jitter=0.1)          \n",
    "\n",
    "sns.stripplot(ax = axes[1], x='Position', y='Age', data=basketball, jitter=0.1)\n",
    "\n",
    "sns.stripplot(ax = axes[2], x='Position', y='Weight', data=basketball, jitter=0.1)\n",
    "#מגדיר את הרווח בין הגרפים\n",
    "plt.subplots_adjust(wspace = 0.5);\n",
    "plt.show()"
   ]
  },
  {
   "cell_type": "markdown",
   "metadata": {},
   "source": [
    "# קורולציות\n",
    "> * Extension on corr ​​- `Unit 5`\n",
    "\n",
    "מודדת את דרגת הקשר בין 2 משתנים אקראיים ככל שיותר קרוב ל1 או -1 הקשר יותר חזק"
   ]
  },
  {
   "cell_type": "markdown",
   "metadata": {},
   "source": [
    "#סוגים שונים של קורולציות"
   ]
  },
  {
   "cell_type": "code",
   "execution_count": null,
   "metadata": {},
   "outputs": [],
   "source": [
    "basketball[['Weight', 'Salary','Age']].corr(method='pearson')"
   ]
  },
  {
   "cell_type": "code",
   "execution_count": null,
   "metadata": {},
   "outputs": [],
   "source": [
    "#נשתמש בערכים מספריים רציפים בעלי התפלגות נורמלית\n",
    "basketball.corr(method='pearson') "
   ]
  },
  {
   "cell_type": "code",
   "execution_count": null,
   "metadata": {},
   "outputs": [],
   "source": [
    "#נשתמש כאשר הנתונים לא מגיעים מהתפלגות נורמלית כאשר יש המון חריגים\n",
    "basketball.corr(method='spearman') "
   ]
  },
  {
   "cell_type": "code",
   "execution_count": null,
   "metadata": {},
   "outputs": [],
   "source": [
    "#בדרך כלל נשתמש כשיש מדגם קטן של ערכים ושהערכים לא מגיעים מהתפלגות נורמלית\n",
    "taucor = pd.DataFrame(basketball, columns = ['Age','Weight','Salary',\"Number\"])\n",
    "corrs=taucor.corr(method='kendall') \n",
    "corrs"
   ]
  },
  {
   "cell_type": "markdown",
   "metadata": {},
   "source": [
    "# חיזוי\n",
    "כאשר אני רוצה לעשות חיזוי על ערך שהוא לא מספרי אני צריך להמיר אותו למספרי אם הערך הוא בינארי אז נהפוך אותו לקטגורי אם הערך הוא לא בינארי נשתמש \n",
    "בפונקציה גט דאמיס\n",
    "#### Regressor\n",
    "יש לי 2 סוגים של חיזוי רגרסור שאני משתמש בו כאשר המשתנים הם רציפים מחיר גובה גילאים וכו נעשה חיזוי על פי \n",
    "mse\n",
    "#### Classifier=\n",
    "הסוג השני זה קלסיפייאר שזה כאשר אני רוצה לחזות משנים לא רציפים כמו(מילים) מעשן לא מעשן או כמו חתוך עץ וכלב שאין בינהם קשר וכו\n",
    "נעשה חיזוי על פי דיוק \n",
    "acc"
   ]
  },
  {
   "cell_type": "code",
   "execution_count": null,
   "metadata": {},
   "outputs": [],
   "source": [
    "#מגדיר נתונים של העץ\n",
    "features=['Weight','Age','Number','Height']\n",
    "X=basketball1[features]\n",
    "y=basketball1['Salary']\n",
    "#יוצר חלוקה 70 אחוז אימון 30 אחוז מבחן\n",
    "X_train, X_test, y_train, y_test = sk.model_selection.train_test_split(X, y, test_size=0.3, random_state=3)"
   ]
  },
  {
   "cell_type": "markdown",
   "metadata": {},
   "source": [
    "#השתמשתי במודל של רגרסור שמטרתו לחזות משתנים עקביים כמו מחירים,שכר,גילאים\n",
    "כאשר אני רוצה להגביל את עומק העץ , בזמן שאני יוצר את המודל להוסיף \n",
    "\n",
    "כאשר אני יוצר את המודל יש לי 3 אפשרויות :\n",
    "### min_samples_leaf=\n",
    "אורך העלה לדוגמא אם זה שווה 5 אז אם זה מכיל מתחת לחמש אל תחלק עוד את העץ כאן זה אחרי הפיצול\n",
    "### Min samples split=\n",
    "(מס הדגימות המינמאלי הדרוש לפיצול צומת)בנק פיצול אם זה פחות מחמש למשל אז אל תחלק עוד את העץ \n",
    "### max_depth=\n",
    "מגביל לי את עומק העץ"
   ]
  },
  {
   "cell_type": "code",
   "execution_count": null,
   "metadata": {},
   "outputs": [],
   "source": [
    "#יוצר את המודל\n",
    "basketball_modle= DecisionTreeRegressor(random_state=3)\n",
    "#מאמן את המודל\n",
    "basketball_modle.fit(X_train,y_train)\n",
    "prediction2 = basketball_modle.predict(X_test) #בודק כמה העץ מנבא טוב\n",
    "df = pd.DataFrame(columns = ['Salary', 'predictions']) #יוצר דאטה של 2 עמודות \n",
    "df['Salary'] = y_test #מכניס את התשובות האמיתיות\n",
    "df = df.reset_index(drop=True)#רוצה שהמספרים יהיו לי יפה אחד אחרי השני \n",
    "df['predictions'] = pd.Series(prediction2)#מכניס את מה שניבאתי\n",
    "df.head()#הצגה בטבלה של הנתונים המקוריים עם החיזוי"
   ]
  },
  {
   "cell_type": "markdown",
   "metadata": {},
   "source": [
    "פונקציה שמראה לי באיזה עומק יהיה החיזוי הכי טוב מה שהיא מציגה לי זה השגיאה הממוצעת בריבוע ככל שהשגיאה יותר קטנה החיזוי יותר טוב ומראה לי גם האם יש קשר בין מה שרציתי לחזות כאשר זה 0 זה אומר שהשורה המקורית ומה שרציתי לחזות הם לא אותו דבר וככל שזה עולה זה אומר שהם מתקרבים ואותו דבר 100 זה שזה בדיוק אותה תוצאה "
   ]
  },
  {
   "cell_type": "code",
   "execution_count": null,
   "metadata": {},
   "outputs": [],
   "source": [
    "def eval(X_test,y_test,model1):\n",
    "    pred = model1.predict(X_test)\n",
    "    y_alt=y.values.reshape(-1,1)\n",
    "    print(\"MSE: {:.3f}\".format(mean_squared_error(pred,y_test,squared=False)))\n",
    "    print(\"Acc: {:.3f}\".format((pred == y_alt).mean())) \n",
    "eval(X_test,y_test,basketball_modle)    "
   ]
  },
  {
   "cell_type": "code",
   "execution_count": null,
   "metadata": {},
   "outputs": [],
   "source": [
    "for i in range(1,9):\n",
    "    model2 = DecisionTreeRegressor(max_depth = i , random_state=1)\n",
    "    model2.fit(X_train,y_train)\n",
    "    print(i , eval(X_test,y_test,model2)) "
   ]
  },
  {
   "cell_type": "markdown",
   "metadata": {},
   "source": [
    " ## קובץ חדש  "
   ]
  },
  {
   "cell_type": "code",
   "execution_count": null,
   "metadata": {},
   "outputs": [],
   "source": [
    "url = 'https://raw.githubusercontent.com/nlihin/data-analytics/main/datasets/iris.csv'\n",
    "iris_df = pd.read_csv(url)\n",
    "iris_df.head()"
   ]
  },
  {
   "cell_type": "code",
   "execution_count": null,
   "metadata": {},
   "outputs": [],
   "source": [
    "features = ['sepal_length', 'sepal_width', 'petal_length', 'petal_width']\n",
    "X = iris_df[features]\n",
    "y = iris_df['class']\n",
    "X_train, X_test, y_train, y_test = sk.model_selection.train_test_split(X, y, test_size=0.3, random_state=2) "
   ]
  },
  {
   "cell_type": "code",
   "execution_count": null,
   "metadata": {},
   "outputs": [],
   "source": [
    "model2 = sk.tree.DecisionTreeClassifier(criterion=\"gini\")\n",
    "model2.fit(X_train,y_train)\n",
    "prediction2 = model2.predict(X_test)\n",
    "#בודק את רמת הדיוק של החיזוי כאן החיזוי גבוה\n",
    "#נשתמש בזה רק בכלסייפאיר ברגרסור אי אפשר להשתמש בזה\n",
    "#מקבל 2 דברים הראשון את מה שניבאתי השני את נתוני האמת\n",
    "sk.metrics.accuracy_score(prediction2, y_test)"
   ]
  },
  {
   "cell_type": "markdown",
   "metadata": {},
   "source": [
    "פונקציה שמראה לי מה העומק המקסימלי של העץ"
   ]
  },
  {
   "cell_type": "code",
   "execution_count": null,
   "metadata": {},
   "outputs": [],
   "source": [
    "print(\"Depth:\",model2.get_depth())"
   ]
  },
  {
   "cell_type": "markdown",
   "metadata": {},
   "source": [
    "#פונקציה שבונה מודל עד גבול מסוים הרעיון מאחורי זה לא ליצור עץ יותר מידי מורכב "
   ]
  },
  {
   "cell_type": "code",
   "execution_count": null,
   "metadata": {},
   "outputs": [],
   "source": [
    "def get_acc(max_depth, train_X, test_X, train_y, test_y):\n",
    "    model = sk.tree.DecisionTreeClassifier(criterion=\"gini\", max_depth=max_depth, random_state=0)\n",
    "    model.fit(train_X, train_y)\n",
    "    preds_val = model.predict(test_X)\n",
    "    acc = sk.metrics.accuracy_score(preds_val, test_y)\n",
    "    return(acc)"
   ]
  },
  {
   "cell_type": "code",
   "execution_count": null,
   "metadata": {},
   "outputs": [],
   "source": [
    "#כאן לולאה שרצה ובודקת את העומק רואים שכאן בעומק 3 זה הכי טוב \n",
    "for max_depth in [1, 2, 3,4,6,8]:\n",
    "    my_acc = get_acc(max_depth, X_train, X_test, y_train, y_test)\n",
    "    print(max_depth, my_acc)"
   ]
  },
  {
   "cell_type": "code",
   "execution_count": null,
   "metadata": {},
   "outputs": [],
   "source": [
    "#ציר ציר איקס זה החיזוי ציר ווי זה הנתונים המקוריים המספר 17 מייצג לי שהתוצאה יצא אותו דבר המספר 1 בטבלה מייצג לי את הטעות מישהו שהיה מסוג מסויים בחיזוי יצא לו משהו אחר\n",
    "sk.metrics.plot_confusion_matrix(model2, X_test, y_test, cmap=plt.cm.Blues)"
   ]
  },
  {
   "cell_type": "markdown",
   "metadata": {},
   "source": [
    "## קובץ חדש\n",
    "#הוספות עמודות לפי תאריך"
   ]
  },
  {
   "cell_type": "code",
   "execution_count": null,
   "metadata": {},
   "outputs": [],
   "source": [
    "url = 'https://raw.githubusercontent.com/nlihin/data-analytics/main/datasets/italy-covid-daywise.csv'\n",
    "covid_df = pd.read_csv(url)\n",
    "covid_df.tail()"
   ]
  },
  {
   "cell_type": "code",
   "execution_count": null,
   "metadata": {},
   "outputs": [],
   "source": [
    "covid_df.dtypes"
   ]
  },
  {
   "cell_type": "code",
   "execution_count": null,
   "metadata": {},
   "outputs": [],
   "source": [
    "#נרצה להעביר את התאריך לסוג של דאטה טיים כדי שנוכל להשתמש בו אחרי כדי לעשות פילוחים בין חודשים ושנים\n",
    "covid_df['date'] = pd.to_datetime(covid_df['date'])"
   ]
  },
  {
   "cell_type": "code",
   "execution_count": null,
   "metadata": {},
   "outputs": [],
   "source": [
    "#תרגול 4\n",
    "#לוקח מהעמודה של התאריך ומחלק את התאריך לימים שבועות חודשים ושנים ומוסיף עמודה בנפרד\n",
    "covid_df['year'] = pd.DatetimeIndex(covid_df.date).year\n",
    "covid_df['month'] = pd.DatetimeIndex(covid_df.date).month\n",
    "covid_df['day'] = pd.DatetimeIndex(covid_df.date).day\n",
    "covid_df['weekday'] = pd.DatetimeIndex(covid_df.date).weekday\n",
    "covid_df"
   ]
  },
  {
   "cell_type": "code",
   "execution_count": null,
   "metadata": {},
   "outputs": [],
   "source": [
    "#בעזרת ההמרה ניתן עכשיו לגשת לזמנים ספציפיים לדוגמא כאן להציג רק את החודש השמיני בשנת 2020\n",
    "covid_df_august = covid_df.loc[(covid_df.month == 8) & (covid_df.year == 2020)]\n",
    "covid_df_august.head()"
   ]
  },
  {
   "cell_type": "code",
   "execution_count": null,
   "metadata": {},
   "outputs": [],
   "source": [
    "#מציג לי את התאריך של היום\n",
    "from datetime import date # get python datetime\n",
    "now = pd.to_datetime(str(date.today()), format='%Y-%m-%d')\n",
    "print(\"Today's date:\")\n",
    "print(now)"
   ]
  }
 ],
 "metadata": {
  "kernelspec": {
   "display_name": "Python 3",
   "language": "python",
   "name": "python3"
  },
  "language_info": {
   "codemirror_mode": {
    "name": "ipython",
    "version": 3
   },
   "file_extension": ".py",
   "mimetype": "text/x-python",
   "name": "python",
   "nbconvert_exporter": "python",
   "pygments_lexer": "ipython3",
   "version": "3.8.3"
  }
 },
 "nbformat": 4,
 "nbformat_minor": 4
}
